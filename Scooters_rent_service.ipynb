{
 "cells": [
  {
   "cell_type": "markdown",
   "id": "201e656b-e7c3-498c-9879-fa65c3d498b6",
   "metadata": {},
   "source": [
    "# Проект: Статистический анализ данных."
   ]
  },
  {
   "cell_type": "markdown",
   "id": "934752c8",
   "metadata": {
    "jp-MarkdownHeadingCollapsed": true
   },
   "source": [
    "Я аналитик популярного сервиса аренды самокатов GoFast. Заказчик мне передал данные о некоторых пользователях из нескольких городов, а также об их поездках и подписках. Мне стало известно что пользователи сервиса GoFast используют одноименное мобильное приложение.\n",
    "Сервисом можно пользоваться:\n",
    "* **без подписки**, при этом абонентская плата отсутствует, стоимость одной минуты поездки — 8 рублей, стоимость старта (начало поездки) — 50 рублей;\n",
    "* и **с подпиской Ultra**, при этом абонентская плата — 199 рублей в месяц, стоимость одной минуты поездки — 6 рублей, стоимость старта — бесплатно.\n",
    "\n",
    "<b>Цель исследования: </b>Проанализировать данные, подсчитать помесячную выручку с пользователя и общую годовую выручку сервиса GoFast, а также проверить некоторые гипотезы, которые помогут бизнесу заказчика вырасти.\n",
    "\n",
    "<b>Ход исследования: </b>Данные о сервисе проката самокатов GoFast я получил от заказчика исследования в трёх файлах: '/datasets/users_go.csv', '/datasets/rides_go.csv' и '/datasets/subscriptions_go.csv'. О качестве данных ничего не известно. Перед началом исследования необходимо провести загрузку и обзор данных. Далее буду проверять данные на ошибки и оценивать возможное влияние на результаты исследования. Затем проведу предобработку данных чтобы минимизировать искажение результатов, преобразую некоторые данные, создам новые столбцы, переименую некоторые переменные и приступлю к проведению исследовательского анализа.\n",
    "\n",
    "Моё исследование будет проходить в несколько этапов: \n",
    "    \n",
    "1.  Обзор данных.\n",
    "2.  Предобработка данных.\n",
    "3.  Исследовательский анализ данных.\n",
    "4.  Объединение данных.\n",
    "5.  Подсчёт выручки.\n",
    "6.  Проверка гипотез.\n",
    "7.  Распределения.\n",
    "8.  Оформление итогового вывода исследования.\n",
    "\n",
    "---"
   ]
  },
  {
   "cell_type": "markdown",
   "id": "c42cbe00",
   "metadata": {},
   "source": [
    "## Обзор данных"
   ]
  },
  {
   "cell_type": "markdown",
   "id": "e689ba4a",
   "metadata": {},
   "source": [
    "Импортирую библиотеки."
   ]
  },
  {
   "cell_type": "code",
   "execution_count": 1,
   "id": "7c1b5b15",
   "metadata": {},
   "outputs": [],
   "source": [
    "import pandas as pd\n",
    "import numpy as np\n",
    "import matplotlib.pyplot as plt\n",
    "from scipy import stats as st\n",
    "from scipy.stats import binom\n",
    "pd.set_option('display.max_rows', None)"
   ]
  },
  {
   "cell_type": "markdown",
   "id": "efdcb55f",
   "metadata": {},
   "source": [
    "### С помощью pandas открываю данные, создаю таблицы и вывожу на экран первые строки."
   ]
  },
  {
   "cell_type": "code",
   "execution_count": 2,
   "id": "eff9f206",
   "metadata": {},
   "outputs": [
    {
     "data": {
      "text/html": [
       "<div>\n",
       "<style scoped>\n",
       "    .dataframe tbody tr th:only-of-type {\n",
       "        vertical-align: middle;\n",
       "    }\n",
       "\n",
       "    .dataframe tbody tr th {\n",
       "        vertical-align: top;\n",
       "    }\n",
       "\n",
       "    .dataframe thead th {\n",
       "        text-align: right;\n",
       "    }\n",
       "</style>\n",
       "<table border=\"1\" class=\"dataframe\">\n",
       "  <thead>\n",
       "    <tr style=\"text-align: right;\">\n",
       "      <th></th>\n",
       "      <th>user_id</th>\n",
       "      <th>distance</th>\n",
       "      <th>duration</th>\n",
       "      <th>date</th>\n",
       "    </tr>\n",
       "  </thead>\n",
       "  <tbody>\n",
       "    <tr>\n",
       "      <th>0</th>\n",
       "      <td>1</td>\n",
       "      <td>4409.919140</td>\n",
       "      <td>25.599769</td>\n",
       "      <td>2021-01-01</td>\n",
       "    </tr>\n",
       "    <tr>\n",
       "      <th>1</th>\n",
       "      <td>1</td>\n",
       "      <td>2617.592153</td>\n",
       "      <td>15.816871</td>\n",
       "      <td>2021-01-18</td>\n",
       "    </tr>\n",
       "    <tr>\n",
       "      <th>2</th>\n",
       "      <td>1</td>\n",
       "      <td>754.159807</td>\n",
       "      <td>6.232113</td>\n",
       "      <td>2021-04-20</td>\n",
       "    </tr>\n",
       "    <tr>\n",
       "      <th>3</th>\n",
       "      <td>1</td>\n",
       "      <td>2694.783254</td>\n",
       "      <td>18.511000</td>\n",
       "      <td>2021-08-11</td>\n",
       "    </tr>\n",
       "    <tr>\n",
       "      <th>4</th>\n",
       "      <td>1</td>\n",
       "      <td>4028.687306</td>\n",
       "      <td>26.265803</td>\n",
       "      <td>2021-08-28</td>\n",
       "    </tr>\n",
       "  </tbody>\n",
       "</table>\n",
       "</div>"
      ],
      "text/plain": [
       "   user_id     distance   duration        date\n",
       "0        1  4409.919140  25.599769  2021-01-01\n",
       "1        1  2617.592153  15.816871  2021-01-18\n",
       "2        1   754.159807   6.232113  2021-04-20\n",
       "3        1  2694.783254  18.511000  2021-08-11\n",
       "4        1  4028.687306  26.265803  2021-08-28"
      ]
     },
     "execution_count": 2,
     "metadata": {},
     "output_type": "execute_result"
    }
   ],
   "source": [
    "df_rides = pd.read_csv('/datasets/rides_go.csv')\n",
    "df_rides.head()"
   ]
  },
  {
   "cell_type": "code",
   "execution_count": 3,
   "id": "aa2fc625",
   "metadata": {},
   "outputs": [
    {
     "data": {
      "text/html": [
       "<div>\n",
       "<style scoped>\n",
       "    .dataframe tbody tr th:only-of-type {\n",
       "        vertical-align: middle;\n",
       "    }\n",
       "\n",
       "    .dataframe tbody tr th {\n",
       "        vertical-align: top;\n",
       "    }\n",
       "\n",
       "    .dataframe thead th {\n",
       "        text-align: right;\n",
       "    }\n",
       "</style>\n",
       "<table border=\"1\" class=\"dataframe\">\n",
       "  <thead>\n",
       "    <tr style=\"text-align: right;\">\n",
       "      <th></th>\n",
       "      <th>user_id</th>\n",
       "      <th>name</th>\n",
       "      <th>age</th>\n",
       "      <th>city</th>\n",
       "      <th>subscription_type</th>\n",
       "    </tr>\n",
       "  </thead>\n",
       "  <tbody>\n",
       "    <tr>\n",
       "      <th>0</th>\n",
       "      <td>1</td>\n",
       "      <td>Кира</td>\n",
       "      <td>22</td>\n",
       "      <td>Тюмень</td>\n",
       "      <td>ultra</td>\n",
       "    </tr>\n",
       "    <tr>\n",
       "      <th>1</th>\n",
       "      <td>2</td>\n",
       "      <td>Станислав</td>\n",
       "      <td>31</td>\n",
       "      <td>Омск</td>\n",
       "      <td>ultra</td>\n",
       "    </tr>\n",
       "    <tr>\n",
       "      <th>2</th>\n",
       "      <td>3</td>\n",
       "      <td>Алексей</td>\n",
       "      <td>20</td>\n",
       "      <td>Москва</td>\n",
       "      <td>ultra</td>\n",
       "    </tr>\n",
       "    <tr>\n",
       "      <th>3</th>\n",
       "      <td>4</td>\n",
       "      <td>Константин</td>\n",
       "      <td>26</td>\n",
       "      <td>Ростов-на-Дону</td>\n",
       "      <td>ultra</td>\n",
       "    </tr>\n",
       "    <tr>\n",
       "      <th>4</th>\n",
       "      <td>5</td>\n",
       "      <td>Адель</td>\n",
       "      <td>28</td>\n",
       "      <td>Омск</td>\n",
       "      <td>ultra</td>\n",
       "    </tr>\n",
       "  </tbody>\n",
       "</table>\n",
       "</div>"
      ],
      "text/plain": [
       "   user_id        name  age            city subscription_type\n",
       "0        1        Кира   22          Тюмень             ultra\n",
       "1        2   Станислав   31            Омск             ultra\n",
       "2        3     Алексей   20          Москва             ultra\n",
       "3        4  Константин   26  Ростов-на-Дону             ultra\n",
       "4        5       Адель   28            Омск             ultra"
      ]
     },
     "execution_count": 3,
     "metadata": {},
     "output_type": "execute_result"
    }
   ],
   "source": [
    "df_users = pd.read_csv('/datasets/users_go.csv')\n",
    "df_users.head()"
   ]
  },
  {
   "cell_type": "code",
   "execution_count": 4,
   "id": "f9876898",
   "metadata": {},
   "outputs": [
    {
     "data": {
      "text/html": [
       "<div>\n",
       "<style scoped>\n",
       "    .dataframe tbody tr th:only-of-type {\n",
       "        vertical-align: middle;\n",
       "    }\n",
       "\n",
       "    .dataframe tbody tr th {\n",
       "        vertical-align: top;\n",
       "    }\n",
       "\n",
       "    .dataframe thead th {\n",
       "        text-align: right;\n",
       "    }\n",
       "</style>\n",
       "<table border=\"1\" class=\"dataframe\">\n",
       "  <thead>\n",
       "    <tr style=\"text-align: right;\">\n",
       "      <th></th>\n",
       "      <th>subscription_type</th>\n",
       "      <th>minute_price</th>\n",
       "      <th>start_ride_price</th>\n",
       "      <th>subscription_fee</th>\n",
       "    </tr>\n",
       "  </thead>\n",
       "  <tbody>\n",
       "    <tr>\n",
       "      <th>0</th>\n",
       "      <td>free</td>\n",
       "      <td>8</td>\n",
       "      <td>50</td>\n",
       "      <td>0</td>\n",
       "    </tr>\n",
       "    <tr>\n",
       "      <th>1</th>\n",
       "      <td>ultra</td>\n",
       "      <td>6</td>\n",
       "      <td>0</td>\n",
       "      <td>199</td>\n",
       "    </tr>\n",
       "  </tbody>\n",
       "</table>\n",
       "</div>"
      ],
      "text/plain": [
       "  subscription_type  minute_price  start_ride_price  subscription_fee\n",
       "0              free             8                50                 0\n",
       "1             ultra             6                 0               199"
      ]
     },
     "execution_count": 4,
     "metadata": {},
     "output_type": "execute_result"
    }
   ],
   "source": [
    "df_subscriptions = pd.read_csv('/datasets/subscriptions_go.csv')\n",
    "df_subscriptions.head()"
   ]
  },
  {
   "cell_type": "markdown",
   "id": "3fd898d8",
   "metadata": {},
   "source": [
    "### Изучаю общую информацию о данных в таблицах."
   ]
  },
  {
   "cell_type": "code",
   "execution_count": 5,
   "id": "75f49567",
   "metadata": {},
   "outputs": [
    {
     "name": "stdout",
     "output_type": "stream",
     "text": [
      "<class 'pandas.core.frame.DataFrame'>\n",
      "RangeIndex: 18068 entries, 0 to 18067\n",
      "Data columns (total 4 columns):\n",
      " #   Column    Non-Null Count  Dtype  \n",
      "---  ------    --------------  -----  \n",
      " 0   user_id   18068 non-null  int64  \n",
      " 1   distance  18068 non-null  float64\n",
      " 2   duration  18068 non-null  float64\n",
      " 3   date      18068 non-null  object \n",
      "dtypes: float64(2), int64(1), object(1)\n",
      "memory usage: 564.8+ KB\n"
     ]
    }
   ],
   "source": [
    "df_rides.info()"
   ]
  },
  {
   "cell_type": "code",
   "execution_count": 6,
   "id": "873e101d",
   "metadata": {},
   "outputs": [
    {
     "name": "stdout",
     "output_type": "stream",
     "text": [
      "<class 'pandas.core.frame.DataFrame'>\n",
      "RangeIndex: 1565 entries, 0 to 1564\n",
      "Data columns (total 5 columns):\n",
      " #   Column             Non-Null Count  Dtype \n",
      "---  ------             --------------  ----- \n",
      " 0   user_id            1565 non-null   int64 \n",
      " 1   name               1565 non-null   object\n",
      " 2   age                1565 non-null   int64 \n",
      " 3   city               1565 non-null   object\n",
      " 4   subscription_type  1565 non-null   object\n",
      "dtypes: int64(2), object(3)\n",
      "memory usage: 61.3+ KB\n"
     ]
    }
   ],
   "source": [
    "df_users.info()"
   ]
  },
  {
   "cell_type": "code",
   "execution_count": 7,
   "id": "62a56353",
   "metadata": {},
   "outputs": [
    {
     "name": "stdout",
     "output_type": "stream",
     "text": [
      "<class 'pandas.core.frame.DataFrame'>\n",
      "RangeIndex: 2 entries, 0 to 1\n",
      "Data columns (total 4 columns):\n",
      " #   Column             Non-Null Count  Dtype \n",
      "---  ------             --------------  ----- \n",
      " 0   subscription_type  2 non-null      object\n",
      " 1   minute_price       2 non-null      int64 \n",
      " 2   start_ride_price   2 non-null      int64 \n",
      " 3   subscription_fee   2 non-null      int64 \n",
      "dtypes: int64(3), object(1)\n",
      "memory usage: 192.0+ bytes\n"
     ]
    }
   ],
   "source": [
    "df_subscriptions.info()"
   ]
  },
  {
   "cell_type": "code",
   "execution_count": 8,
   "id": "af6d202c",
   "metadata": {},
   "outputs": [
    {
     "data": {
      "text/plain": [
       "0"
      ]
     },
     "execution_count": 8,
     "metadata": {},
     "output_type": "execute_result"
    }
   ],
   "source": [
    "df_rides.duplicated().sum()"
   ]
  },
  {
   "cell_type": "code",
   "execution_count": 9,
   "id": "dfccc238",
   "metadata": {},
   "outputs": [
    {
     "data": {
      "text/plain": [
       "31"
      ]
     },
     "execution_count": 9,
     "metadata": {},
     "output_type": "execute_result"
    }
   ],
   "source": [
    "df_users.duplicated().sum()"
   ]
  },
  {
   "cell_type": "code",
   "execution_count": 10,
   "id": "11450653",
   "metadata": {},
   "outputs": [
    {
     "data": {
      "text/plain": [
       "0"
      ]
     },
     "execution_count": 10,
     "metadata": {},
     "output_type": "execute_result"
    }
   ],
   "source": [
    "df_subscriptions.duplicated().sum()"
   ]
  },
  {
   "cell_type": "markdown",
   "id": "472c4b7b",
   "metadata": {},
   "source": [
    "Вывод: В таблице df_rides:  18068 строк, 4 столбца. Пропуски отсутствуют. В двух столбцах необходимо изменить тип данных. \n",
    "В таблице df_users:   1565 строк и 4 столбца. Пропуски данных отсутствуют. В ней же обнаружен 31 дубликат: дубликаты необходимо будет удалить.\n",
    "В таблице df_subscriptions 2 строки и 4 столбца. Пропуски и дупликаты отсутствуют.\n",
    "Считаю что данные полные и корректные для проведения заданного исследования."
   ]
  },
  {
   "cell_type": "markdown",
   "id": "72f2bacc",
   "metadata": {},
   "source": [
    "## Предобработка данных"
   ]
  },
  {
   "cell_type": "markdown",
   "id": "60cd6d11",
   "metadata": {},
   "source": [
    "### Удаляю дубликаты в таблице df_users."
   ]
  },
  {
   "cell_type": "code",
   "execution_count": 11,
   "id": "d6249039",
   "metadata": {},
   "outputs": [
    {
     "data": {
      "text/plain": [
       "0"
      ]
     },
     "execution_count": 11,
     "metadata": {},
     "output_type": "execute_result"
    }
   ],
   "source": [
    "df_users = df_users.drop_duplicates(subset='user_id', keep='first')\n",
    "df_users['user_id'].duplicated().sum()"
   ]
  },
  {
   "cell_type": "markdown",
   "id": "2ed13111",
   "metadata": {},
   "source": [
    "### Преобразую тип данных столбца 'date' таблицы df_rides из 'object' в 'datetime', затем сам столбец преобразую в 'month'(месяц)."
   ]
  },
  {
   "cell_type": "code",
   "execution_count": 12,
   "id": "21b51ee3",
   "metadata": {},
   "outputs": [
    {
     "data": {
      "text/plain": [
       "array([ 1,  2,  3,  4,  5,  6,  7,  8,  9, 10, 11, 12])"
      ]
     },
     "execution_count": 12,
     "metadata": {},
     "output_type": "execute_result"
    }
   ],
   "source": [
    "df_rides['date'] = pd.to_datetime(df_rides['date'], format=('%Y-%m-%d'))\n",
    "df_rides['month'] = df_rides['date'].dt.month\n",
    "df_rides['month'].sort_values().unique()"
   ]
  },
  {
   "cell_type": "markdown",
   "id": "f3cacbd7",
   "metadata": {},
   "source": [
    "Проверяю какой период охватывают данные:"
   ]
  },
  {
   "cell_type": "code",
   "execution_count": 13,
   "id": "1633851f",
   "metadata": {},
   "outputs": [
    {
     "data": {
      "text/plain": [
       "count                            18068\n",
       "mean     2021-06-30 19:47:21.266327296\n",
       "min                2021-01-01 00:00:00\n",
       "25%                2021-04-02 00:00:00\n",
       "50%                2021-06-30 00:00:00\n",
       "75%                2021-09-28 00:00:00\n",
       "max                2021-12-30 00:00:00\n",
       "Name: date, dtype: object"
      ]
     },
     "execution_count": 13,
     "metadata": {},
     "output_type": "execute_result"
    }
   ],
   "source": [
    "df_rides['date'].describe()"
   ]
  },
  {
   "cell_type": "markdown",
   "id": "6698c804",
   "metadata": {},
   "source": [
    "Вывод: Данные для исследования охватывают период с 01-01-2021 по 29-12-2021."
   ]
  },
  {
   "cell_type": "markdown",
   "id": "d2c47701",
   "metadata": {},
   "source": [
    "### Округляю значения расстояния 'distance' таблицы df_rides до сотых метра."
   ]
  },
  {
   "cell_type": "code",
   "execution_count": 14,
   "id": "be3c1430",
   "metadata": {},
   "outputs": [],
   "source": [
    "df_rides['distance'] = df_rides['distance'].round(2)"
   ]
  },
  {
   "cell_type": "markdown",
   "id": "ebddbaf5",
   "metadata": {},
   "source": [
    "В соответствии с пунктом 5.2 исследовательского задания продолжительность каждой поездки округляю с помощью метода «потолок» библиотеки numpy — np.ceil(). Затем изменяю тип данных с 'float' на 'int'."
   ]
  },
  {
   "cell_type": "code",
   "execution_count": 15,
   "id": "5fa83f46",
   "metadata": {},
   "outputs": [
    {
     "data": {
      "text/html": [
       "<div>\n",
       "<style scoped>\n",
       "    .dataframe tbody tr th:only-of-type {\n",
       "        vertical-align: middle;\n",
       "    }\n",
       "\n",
       "    .dataframe tbody tr th {\n",
       "        vertical-align: top;\n",
       "    }\n",
       "\n",
       "    .dataframe thead th {\n",
       "        text-align: right;\n",
       "    }\n",
       "</style>\n",
       "<table border=\"1\" class=\"dataframe\">\n",
       "  <thead>\n",
       "    <tr style=\"text-align: right;\">\n",
       "      <th></th>\n",
       "      <th>user_id</th>\n",
       "      <th>distance</th>\n",
       "      <th>duration</th>\n",
       "      <th>date</th>\n",
       "      <th>month</th>\n",
       "    </tr>\n",
       "  </thead>\n",
       "  <tbody>\n",
       "    <tr>\n",
       "      <th>14183</th>\n",
       "      <td>1257</td>\n",
       "      <td>2315.22</td>\n",
       "      <td>9</td>\n",
       "      <td>2021-07-12</td>\n",
       "      <td>7</td>\n",
       "    </tr>\n",
       "    <tr>\n",
       "      <th>3109</th>\n",
       "      <td>335</td>\n",
       "      <td>3787.96</td>\n",
       "      <td>19</td>\n",
       "      <td>2021-04-01</td>\n",
       "      <td>4</td>\n",
       "    </tr>\n",
       "    <tr>\n",
       "      <th>12729</th>\n",
       "      <td>1156</td>\n",
       "      <td>4292.20</td>\n",
       "      <td>18</td>\n",
       "      <td>2021-02-26</td>\n",
       "      <td>2</td>\n",
       "    </tr>\n",
       "    <tr>\n",
       "      <th>6533</th>\n",
       "      <td>701</td>\n",
       "      <td>4139.74</td>\n",
       "      <td>17</td>\n",
       "      <td>2021-09-25</td>\n",
       "      <td>9</td>\n",
       "    </tr>\n",
       "    <tr>\n",
       "      <th>1986</th>\n",
       "      <td>215</td>\n",
       "      <td>2514.91</td>\n",
       "      <td>15</td>\n",
       "      <td>2021-04-26</td>\n",
       "      <td>4</td>\n",
       "    </tr>\n",
       "    <tr>\n",
       "      <th>10712</th>\n",
       "      <td>1008</td>\n",
       "      <td>3402.62</td>\n",
       "      <td>10</td>\n",
       "      <td>2021-01-23</td>\n",
       "      <td>1</td>\n",
       "    </tr>\n",
       "  </tbody>\n",
       "</table>\n",
       "</div>"
      ],
      "text/plain": [
       "       user_id  distance  duration       date  month\n",
       "14183     1257   2315.22         9 2021-07-12      7\n",
       "3109       335   3787.96        19 2021-04-01      4\n",
       "12729     1156   4292.20        18 2021-02-26      2\n",
       "6533       701   4139.74        17 2021-09-25      9\n",
       "1986       215   2514.91        15 2021-04-26      4\n",
       "10712     1008   3402.62        10 2021-01-23      1"
      ]
     },
     "execution_count": 15,
     "metadata": {},
     "output_type": "execute_result"
    }
   ],
   "source": [
    "df_rides['duration'] = np.ceil(df_rides['duration'])\n",
    "df_rides['duration'] = df_rides['duration'].astype('int')\n",
    "df_rides.sample(6)"
   ]
  },
  {
   "cell_type": "markdown",
   "id": "21936251",
   "metadata": {},
   "source": [
    "Вывод: В процессе предобработки данных: обнаруженные дубликаты в таблице df_users были удалены. В таблице df_rides значения расстояния 'distance' были округлены до сотых метра, а значения продолжительности поездки 'duration', были округлены вверх и их тип данных был изменён с 'float' на 'int'. Данные столбца 'date' были приведены к формату даты datetime. Затем столбец 'date' был преобазован в 'month'. В таблице df_subcriptions данные не изменились."
   ]
  },
  {
   "cell_type": "markdown",
   "id": "212593c7",
   "metadata": {},
   "source": [
    "## Исследовательский анализ данных  службы GoFast"
   ]
  },
  {
   "cell_type": "markdown",
   "id": "0b321717",
   "metadata": {},
   "source": [
    "### Изучу частоту встречаемости городов в данных."
   ]
  },
  {
   "cell_type": "code",
   "execution_count": 16,
   "id": "97d2e570",
   "metadata": {},
   "outputs": [
    {
     "data": {
      "text/html": [
       "<div>\n",
       "<style scoped>\n",
       "    .dataframe tbody tr th:only-of-type {\n",
       "        vertical-align: middle;\n",
       "    }\n",
       "\n",
       "    .dataframe tbody tr th {\n",
       "        vertical-align: top;\n",
       "    }\n",
       "\n",
       "    .dataframe thead th {\n",
       "        text-align: right;\n",
       "    }\n",
       "</style>\n",
       "<table border=\"1\" class=\"dataframe\">\n",
       "  <thead>\n",
       "    <tr style=\"text-align: right;\">\n",
       "      <th></th>\n",
       "      <th>users_quantity</th>\n",
       "    </tr>\n",
       "    <tr>\n",
       "      <th>city</th>\n",
       "      <th></th>\n",
       "    </tr>\n",
       "  </thead>\n",
       "  <tbody>\n",
       "    <tr>\n",
       "      <th>Москва</th>\n",
       "      <td>168</td>\n",
       "    </tr>\n",
       "    <tr>\n",
       "      <th>Тюмень</th>\n",
       "      <td>180</td>\n",
       "    </tr>\n",
       "    <tr>\n",
       "      <th>Омск</th>\n",
       "      <td>183</td>\n",
       "    </tr>\n",
       "    <tr>\n",
       "      <th>Сочи</th>\n",
       "      <td>189</td>\n",
       "    </tr>\n",
       "    <tr>\n",
       "      <th>Краснодар</th>\n",
       "      <td>193</td>\n",
       "    </tr>\n",
       "    <tr>\n",
       "      <th>Ростов-на-Дону</th>\n",
       "      <td>198</td>\n",
       "    </tr>\n",
       "    <tr>\n",
       "      <th>Екатеринбург</th>\n",
       "      <td>204</td>\n",
       "    </tr>\n",
       "    <tr>\n",
       "      <th>Пятигорск</th>\n",
       "      <td>219</td>\n",
       "    </tr>\n",
       "  </tbody>\n",
       "</table>\n",
       "</div>"
      ],
      "text/plain": [
       "                users_quantity\n",
       "city                          \n",
       "Москва                     168\n",
       "Тюмень                     180\n",
       "Омск                       183\n",
       "Сочи                       189\n",
       "Краснодар                  193\n",
       "Ростов-на-Дону             198\n",
       "Екатеринбург               204\n",
       "Пятигорск                  219"
      ]
     },
     "execution_count": 16,
     "metadata": {},
     "output_type": "execute_result"
    }
   ],
   "source": [
    "cities = df_users.pivot_table(index='city', values='user_id', aggfunc='count')\n",
    "cities.columns = ['users_quantity']\n",
    "cities.sort_values(by='users_quantity', ascending=True)"
   ]
  },
  {
   "cell_type": "code",
   "execution_count": 17,
   "id": "c28e5dee",
   "metadata": {},
   "outputs": [
    {
     "data": {
      "text/plain": [
       "Text(0, 0.5, 'Количество пользователей')"
      ]
     },
     "execution_count": 17,
     "metadata": {},
     "output_type": "execute_result"
    },
    {
     "data": {
      "image/png": "[encoded data removed]",
      "text/plain": [
       "<Figure size 1000x500 with 1 Axes>"
      ]
     },
     "metadata": {},
     "output_type": "display_data"
    }
   ],
   "source": [
    "cities.sort_values(by='users_quantity', ascending=True) \\\n",
    ".plot(kind=\"bar\", grid=True, figsize=(10, 5), stacked = False)\n",
    "\n",
    "plt.xticks(rotation=30, horizontalalignment=\"right\")\n",
    "plt.title(\"Количество пользователей по городам\")\n",
    "plt.xlabel(\"Города\")\n",
    "plt.ylabel(\"Количество пользователей\")"
   ]
  },
  {
   "cell_type": "markdown",
   "id": "32f9906f",
   "metadata": {},
   "source": [
    "Вывод: Сводная таблица и построенная на её основе визуализация показывают, что город-лидер по количеству пользователей: Пятигорск, что вполне обяснимо с учётом южного длинного курортного сезона. За лидером следуют Екатеринбург(несмотря на более северное расположение), и Ростов-на-Дону."
   ]
  },
  {
   "cell_type": "markdown",
   "id": "d754b700",
   "metadata": {},
   "source": [
    "### Изучу соотношение количества пользователей с подпиской и без подписки."
   ]
  },
  {
   "cell_type": "code",
   "execution_count": 18,
   "id": "c044db66",
   "metadata": {},
   "outputs": [
    {
     "data": {
      "text/html": [
       "<div>\n",
       "<style scoped>\n",
       "    .dataframe tbody tr th:only-of-type {\n",
       "        vertical-align: middle;\n",
       "    }\n",
       "\n",
       "    .dataframe tbody tr th {\n",
       "        vertical-align: top;\n",
       "    }\n",
       "\n",
       "    .dataframe thead th {\n",
       "        text-align: right;\n",
       "    }\n",
       "</style>\n",
       "<table border=\"1\" class=\"dataframe\">\n",
       "  <thead>\n",
       "    <tr style=\"text-align: right;\">\n",
       "      <th></th>\n",
       "      <th>user_id</th>\n",
       "    </tr>\n",
       "    <tr>\n",
       "      <th>subscription_type</th>\n",
       "      <th></th>\n",
       "    </tr>\n",
       "  </thead>\n",
       "  <tbody>\n",
       "    <tr>\n",
       "      <th>free</th>\n",
       "      <td>835</td>\n",
       "    </tr>\n",
       "    <tr>\n",
       "      <th>ultra</th>\n",
       "      <td>699</td>\n",
       "    </tr>\n",
       "  </tbody>\n",
       "</table>\n",
       "</div>"
      ],
      "text/plain": [
       "                   user_id\n",
       "subscription_type         \n",
       "free                   835\n",
       "ultra                  699"
      ]
     },
     "execution_count": 18,
     "metadata": {},
     "output_type": "execute_result"
    }
   ],
   "source": [
    "df_users.pivot_table(index='subscription_type', values='user_id', aggfunc='count')"
   ]
  },
  {
   "cell_type": "code",
   "execution_count": 19,
   "id": "ae4de32d",
   "metadata": {},
   "outputs": [
    {
     "data": {
      "text/plain": [
       "<Axes: title={'center': 'Диаграмма распределения подписки'}>"
      ]
     },
     "execution_count": 19,
     "metadata": {},
     "output_type": "execute_result"
    },
    {
     "data": {
      "image/png": "[encoded data removed]",
      "text/plain": [
       "<Figure size 500x500 with 1 Axes>"
      ]
     },
     "metadata": {},
     "output_type": "display_data"
    }
   ],
   "source": [
    "(df_users.pivot_table(index='subscription_type', values='user_id', aggfunc='count')) \\\n",
    ".plot.pie(y='user_id', figsize=(5, 5), label='', autopct='%1.1f%%', title='Диаграмма \\\n",
    "распределения подписки')"
   ]
  },
  {
   "cell_type": "markdown",
   "id": "9c955ac1",
   "metadata": {},
   "source": [
    "Вывод: Количество пользователей без подписки 54,4% превышает количество пользователей с подпиской 'ultra' 45,6%. Можно отметить что 45% постоянных клиентов - очень солидное достижение сервиса GoFast."
   ]
  },
  {
   "cell_type": "markdown",
   "id": "d1934bb9",
   "metadata": {},
   "source": [
    "### Изучаю информацию о возрасте пользователей."
   ]
  },
  {
   "cell_type": "code",
   "execution_count": 20,
   "id": "b5d0ff0c",
   "metadata": {},
   "outputs": [
    {
     "data": {
      "text/html": [
       "<div>\n",
       "<style scoped>\n",
       "    .dataframe tbody tr th:only-of-type {\n",
       "        vertical-align: middle;\n",
       "    }\n",
       "\n",
       "    .dataframe tbody tr th {\n",
       "        vertical-align: top;\n",
       "    }\n",
       "\n",
       "    .dataframe thead th {\n",
       "        text-align: right;\n",
       "    }\n",
       "</style>\n",
       "<table border=\"1\" class=\"dataframe\">\n",
       "  <thead>\n",
       "    <tr style=\"text-align: right;\">\n",
       "      <th></th>\n",
       "      <th>user_id</th>\n",
       "    </tr>\n",
       "    <tr>\n",
       "      <th>age</th>\n",
       "      <th></th>\n",
       "    </tr>\n",
       "  </thead>\n",
       "  <tbody>\n",
       "    <tr>\n",
       "      <th>12</th>\n",
       "      <td>4</td>\n",
       "    </tr>\n",
       "    <tr>\n",
       "      <th>13</th>\n",
       "      <td>8</td>\n",
       "    </tr>\n",
       "    <tr>\n",
       "      <th>14</th>\n",
       "      <td>9</td>\n",
       "    </tr>\n",
       "    <tr>\n",
       "      <th>15</th>\n",
       "      <td>13</td>\n",
       "    </tr>\n",
       "    <tr>\n",
       "      <th>16</th>\n",
       "      <td>19</td>\n",
       "    </tr>\n",
       "    <tr>\n",
       "      <th>17</th>\n",
       "      <td>26</td>\n",
       "    </tr>\n",
       "    <tr>\n",
       "      <th>18</th>\n",
       "      <td>46</td>\n",
       "    </tr>\n",
       "    <tr>\n",
       "      <th>19</th>\n",
       "      <td>47</td>\n",
       "    </tr>\n",
       "    <tr>\n",
       "      <th>20</th>\n",
       "      <td>71</td>\n",
       "    </tr>\n",
       "    <tr>\n",
       "      <th>21</th>\n",
       "      <td>93</td>\n",
       "    </tr>\n",
       "    <tr>\n",
       "      <th>22</th>\n",
       "      <td>119</td>\n",
       "    </tr>\n",
       "    <tr>\n",
       "      <th>23</th>\n",
       "      <td>129</td>\n",
       "    </tr>\n",
       "    <tr>\n",
       "      <th>24</th>\n",
       "      <td>132</td>\n",
       "    </tr>\n",
       "    <tr>\n",
       "      <th>25</th>\n",
       "      <td>145</td>\n",
       "    </tr>\n",
       "    <tr>\n",
       "      <th>26</th>\n",
       "      <td>131</td>\n",
       "    </tr>\n",
       "    <tr>\n",
       "      <th>27</th>\n",
       "      <td>119</td>\n",
       "    </tr>\n",
       "    <tr>\n",
       "      <th>28</th>\n",
       "      <td>112</td>\n",
       "    </tr>\n",
       "    <tr>\n",
       "      <th>29</th>\n",
       "      <td>68</td>\n",
       "    </tr>\n",
       "    <tr>\n",
       "      <th>30</th>\n",
       "      <td>68</td>\n",
       "    </tr>\n",
       "    <tr>\n",
       "      <th>31</th>\n",
       "      <td>48</td>\n",
       "    </tr>\n",
       "    <tr>\n",
       "      <th>32</th>\n",
       "      <td>41</td>\n",
       "    </tr>\n",
       "    <tr>\n",
       "      <th>33</th>\n",
       "      <td>39</td>\n",
       "    </tr>\n",
       "    <tr>\n",
       "      <th>34</th>\n",
       "      <td>19</td>\n",
       "    </tr>\n",
       "    <tr>\n",
       "      <th>35</th>\n",
       "      <td>15</td>\n",
       "    </tr>\n",
       "    <tr>\n",
       "      <th>36</th>\n",
       "      <td>6</td>\n",
       "    </tr>\n",
       "    <tr>\n",
       "      <th>37</th>\n",
       "      <td>2</td>\n",
       "    </tr>\n",
       "    <tr>\n",
       "      <th>38</th>\n",
       "      <td>3</td>\n",
       "    </tr>\n",
       "    <tr>\n",
       "      <th>39</th>\n",
       "      <td>1</td>\n",
       "    </tr>\n",
       "    <tr>\n",
       "      <th>43</th>\n",
       "      <td>1</td>\n",
       "    </tr>\n",
       "  </tbody>\n",
       "</table>\n",
       "</div>"
      ],
      "text/plain": [
       "     user_id\n",
       "age         \n",
       "12         4\n",
       "13         8\n",
       "14         9\n",
       "15        13\n",
       "16        19\n",
       "17        26\n",
       "18        46\n",
       "19        47\n",
       "20        71\n",
       "21        93\n",
       "22       119\n",
       "23       129\n",
       "24       132\n",
       "25       145\n",
       "26       131\n",
       "27       119\n",
       "28       112\n",
       "29        68\n",
       "30        68\n",
       "31        48\n",
       "32        41\n",
       "33        39\n",
       "34        19\n",
       "35        15\n",
       "36         6\n",
       "37         2\n",
       "38         3\n",
       "39         1\n",
       "43         1"
      ]
     },
     "execution_count": 20,
     "metadata": {},
     "output_type": "execute_result"
    }
   ],
   "source": [
    "df_users.pivot_table(index='age', values='user_id', aggfunc='count')"
   ]
  },
  {
   "cell_type": "code",
   "execution_count": 21,
   "id": "d7af13f8",
   "metadata": {},
   "outputs": [
    {
     "data": {
      "text/plain": [
       "count    1534.000000\n",
       "mean       24.903520\n",
       "std         4.572367\n",
       "min        12.000000\n",
       "25%        22.000000\n",
       "50%        25.000000\n",
       "75%        28.000000\n",
       "max        43.000000\n",
       "Name: age, dtype: float64"
      ]
     },
     "execution_count": 21,
     "metadata": {},
     "output_type": "execute_result"
    }
   ],
   "source": [
    "df_users['age'].describe()"
   ]
  },
  {
   "cell_type": "code",
   "execution_count": 22,
   "id": "0170b702",
   "metadata": {},
   "outputs": [
    {
     "data": {
      "text/plain": [
       "Text(0, 0.5, 'Количество пользователей')"
      ]
     },
     "execution_count": 22,
     "metadata": {},
     "output_type": "execute_result"
    },
    {
     "data": {
      "image/png": "[encoded data removed]",
      "text/plain": [
       "<Figure size 640x480 with 1 Axes>"
      ]
     },
     "metadata": {},
     "output_type": "display_data"
    }
   ],
   "source": [
    "df_users.pivot_table(index='age', values='user_id', aggfunc='count').plot(grid='True')\n",
    "\n",
    "plt.xticks()\n",
    "plt.title(\"Количество пользователей по возрасту\")\n",
    "plt.xlabel(\"Возраст пользователей\")\n",
    "plt.ylabel(\"Количество пользователей\")"
   ]
  },
  {
   "cell_type": "markdown",
   "id": "2b882136",
   "metadata": {},
   "source": [
    "Подкрепляю наблюдения с помощью boxplot()."
   ]
  },
  {
   "cell_type": "code",
   "execution_count": 23,
   "id": "ca51f4e6",
   "metadata": {},
   "outputs": [
    {
     "data": {
      "image/png": "[encoded data removed]",
      "text/plain": [
       "<Figure size 640x480 with 1 Axes>"
      ]
     },
     "metadata": {},
     "output_type": "display_data"
    }
   ],
   "source": [
    "boxplot = df_users.boxplot(column=['age'])\n",
    "plt.ylabel('Возраст пользователей')\n",
    "plt.show()"
   ]
  },
  {
   "cell_type": "markdown",
   "id": "b4c1a141",
   "metadata": {},
   "source": [
    "Вывод: Средний возраст пользователя службы аренды самокатов соизмерим с медианным значением возраста: 25 лет. Распределение возраста нормальное с межквартильным интервалом от 22 до 28 лет, и с минимумом 15 лет и максимумом 35 лет."
   ]
  },
  {
   "cell_type": "markdown",
   "id": "19564e31",
   "metadata": {},
   "source": [
    "### Изучаю расстояние, которое пользователь преодолел за одну поездку."
   ]
  },
  {
   "cell_type": "code",
   "execution_count": 24,
   "id": "6d5615aa",
   "metadata": {},
   "outputs": [
    {
     "data": {
      "text/plain": [
       "count    18068.000000\n",
       "mean      3070.659992\n",
       "std       1116.831222\n",
       "min          0.860000\n",
       "25%       2543.227500\n",
       "50%       3133.610000\n",
       "75%       3776.220000\n",
       "max       7211.010000\n",
       "Name: distance, dtype: float64"
      ]
     },
     "execution_count": 24,
     "metadata": {},
     "output_type": "execute_result"
    }
   ],
   "source": [
    "df_rides['distance'].describe()"
   ]
  },
  {
   "cell_type": "code",
   "execution_count": 25,
   "id": "af8a9b2c",
   "metadata": {},
   "outputs": [
    {
     "data": {
      "image/png": "[encoded data removed]",
      "text/plain": [
       "<Figure size 640x480 with 1 Axes>"
      ]
     },
     "metadata": {},
     "output_type": "display_data"
    }
   ],
   "source": [
    "plt.hist(df_rides['distance'], bins=100, range=(0, 7000))\n",
    "plt.title('Количество поездок по расстоянию поездки')\n",
    "plt.xlabel('Расстояние поездки')\n",
    "plt.ylabel('Количество поездок')\n",
    "plt.grid(True)\n",
    "plt.show()"
   ]
  },
  {
   "cell_type": "markdown",
   "id": "38104871",
   "metadata": {},
   "source": [
    "Подкрепляю наблюдения с помощью boxplot()."
   ]
  },
  {
   "cell_type": "code",
   "execution_count": 26,
   "id": "5cceef0d",
   "metadata": {},
   "outputs": [
    {
     "data": {
      "image/png": "[encoded data removed]",
      "text/plain": [
       "<Figure size 640x480 with 1 Axes>"
      ]
     },
     "metadata": {},
     "output_type": "display_data"
    }
   ],
   "source": [
    "boxplot = df_rides.boxplot(column=['distance'])\n",
    "plt.ylabel('Расстояние поездок в минутах')\n",
    "plt.show()"
   ]
  },
  {
   "cell_type": "markdown",
   "id": "1ad16410",
   "metadata": {},
   "source": [
    "Вывод: Самое большое количество поездок совершено на расстояния между первым квартилем: 2543 метров(Q1) и третьим квартильем: 3776 метров(Q3). Среднее и медианное значения расстояния практически соизмеримы 3133 и 3070 метров. На графике наблюдается нормальное распределение значения с двумя пиками: малый пик значения количества коротких поездок(расстояние около 700 метров) и пик значения количества всех поездок(расстояние около 3100 метров)."
   ]
  },
  {
   "cell_type": "markdown",
   "id": "8115b291",
   "metadata": {},
   "source": [
    "### Изучаю продолжительность поездок."
   ]
  },
  {
   "cell_type": "code",
   "execution_count": 27,
   "id": "4ed59238",
   "metadata": {},
   "outputs": [
    {
     "data": {
      "text/plain": [
       "count    18068.000000\n",
       "mean        18.303520\n",
       "std          6.094928\n",
       "min          1.000000\n",
       "25%         14.000000\n",
       "50%         18.000000\n",
       "75%         22.000000\n",
       "max         41.000000\n",
       "Name: duration, dtype: float64"
      ]
     },
     "execution_count": 27,
     "metadata": {},
     "output_type": "execute_result"
    }
   ],
   "source": [
    "df_rides['duration'].describe()"
   ]
  },
  {
   "cell_type": "code",
   "execution_count": 28,
   "id": "2af1610a",
   "metadata": {},
   "outputs": [
    {
     "data": {
      "image/png": "[encoded data removed]",
      "text/plain": [
       "<Figure size 640x480 with 1 Axes>"
      ]
     },
     "metadata": {},
     "output_type": "display_data"
    }
   ],
   "source": [
    "plt.hist(df_rides['duration'], bins=100, range=(0, 45))\n",
    "plt.title('Количество поездок по длительности поездки')\n",
    "plt.xlabel('Длительность поездки в минутах')\n",
    "plt.ylabel('Количество поездок')\n",
    "plt.grid(True)\n",
    "plt.show()"
   ]
  },
  {
   "cell_type": "markdown",
   "id": "608c3e7d",
   "metadata": {},
   "source": [
    "Вывод: Визуализация количества поездок в зависимости от длительности поездки, показывает что среднее и медианное значения практически совпадают на значении 18 минут. Именно столько длится средняя поездка. Большинство поездок имеют продолжительность между 14 и 22 минут. Максимально длинные поездки длятся около 40 минут. Необходимо обратить внимание на около сотни поездок которые длились меньше одной минуты. "
   ]
  },
  {
   "cell_type": "markdown",
   "id": "8fd7166f",
   "metadata": {},
   "source": [
    "Проверяю столбец длительность поездок на предмет наличия аномалий."
   ]
  },
  {
   "cell_type": "code",
   "execution_count": 29,
   "id": "b308081e",
   "metadata": {},
   "outputs": [
    {
     "data": {
      "text/plain": [
       "array([ 1,  3,  4,  5,  6,  7,  8,  9, 10, 11, 12, 13, 14, 15, 16, 17, 18,\n",
       "       19, 20, 21, 22, 23, 24, 25, 26, 27, 28, 29, 30, 31, 32, 33, 34, 35,\n",
       "       36, 37, 38, 39, 40, 41])"
      ]
     },
     "execution_count": 29,
     "metadata": {},
     "output_type": "execute_result"
    }
   ],
   "source": [
    "df_rides['duration'].sort_values(ascending=True).unique()"
   ]
  },
  {
   "cell_type": "markdown",
   "id": "bf1b0ef6",
   "metadata": {},
   "source": [
    "Подкрепляю наблюдения с помощью boxplot()."
   ]
  },
  {
   "cell_type": "code",
   "execution_count": 30,
   "id": "61cc363a",
   "metadata": {},
   "outputs": [
    {
     "data": {
      "image/png": "[encoded data removed]",
      "text/plain": [
       "<Figure size 640x480 with 1 Axes>"
      ]
     },
     "metadata": {},
     "output_type": "display_data"
    }
   ],
   "source": [
    "boxplot = df_rides.boxplot(column=['duration'])\n",
    "plt.ylabel('Длительность поездок в минутах')\n",
    "plt.show()"
   ]
  },
  {
   "cell_type": "markdown",
   "id": "7e0c2a58",
   "metadata": {},
   "source": [
    "Вывод по аномальным значениям 'duration': Значения длительности поездки меньше трёх минут и больше 34 минут можно признать выбросами. Но удалить эти выбросы скорее всего, невозможно: дело в том, что 'duration' является тарифообразующей величиной в расчётах службы GoFast с пользователями и вполне возможно что за даже очень короткие поездки была взята оплата и выписаны кассовые чеки."
   ]
  },
  {
   "cell_type": "markdown",
   "id": "91e9d6ad",
   "metadata": {},
   "source": [
    "Вывод по исследовательскому анализу данных службы GoFast: \n",
    "\n",
    "1. Город-лидер по количеству пользователей: Пятигорск, что вполне обяснимо с учётом южного длинного курортного сезона. За лидером следуют Екатеринбург и Ростов-на-Дону.\n",
    "2. Количество пользователей без подписки 54,4% превышает количество пользователей с подпиской 'ultra' 45,6%.\n",
    "3. Средний возраст пользователя службы аренды самокатов соизмерим с медианным значением возраста: 25 лет. Распределение возраста нормальное с минимумом 12 лет и максимумом 43 года.\n",
    "4. Самое большое количество поездок совершено на расстояния между первым квартилем: 2543 метров(Q1) и третьим квартильем: 3776 метров(Q3). Среднее и медианное значения расстояния практически соизмеримы 3133 и 3070 метров. На графике наблюдается нормальное распределение значения с двумя пиками: малый пик значения количества коротких поездок(расстояние около 700 метров) и пик значения количества всех поездок(расстояние около 3100 метров).\n",
    "5. Среднее и медианное значения количества поездок в зависимости от длительности поездки, практически совпадают на значении 18 минут. Именно столько длится средняя поездка. Большинство поездок имеют продолжительность между 14 и 22 минут. Максимально длинные поездки длятся около 40 минут. Необходимо обратить внимание на около сотни поездок с аномальной длительностью меньше одной минуты. "
   ]
  },
  {
   "cell_type": "markdown",
   "id": "4ef51331",
   "metadata": {},
   "source": [
    "## Объединение данных"
   ]
  },
  {
   "cell_type": "markdown",
   "id": "21fa4f7e",
   "metadata": {},
   "source": [
    "### С помощью метода merge() объединяю данные о пользователях, поездках и подписках в одну таблицу."
   ]
  },
  {
   "cell_type": "code",
   "execution_count": 31,
   "id": "020089a6",
   "metadata": {},
   "outputs": [
    {
     "name": "stdout",
     "output_type": "stream",
     "text": [
      "<class 'pandas.core.frame.DataFrame'>\n",
      "RangeIndex: 18068 entries, 0 to 18067\n",
      "Data columns (total 12 columns):\n",
      " #   Column             Non-Null Count  Dtype         \n",
      "---  ------             --------------  -----         \n",
      " 0   user_id            18068 non-null  int64         \n",
      " 1   name               18068 non-null  object        \n",
      " 2   age                18068 non-null  int64         \n",
      " 3   city               18068 non-null  object        \n",
      " 4   subscription_type  18068 non-null  object        \n",
      " 5   distance           18068 non-null  float64       \n",
      " 6   duration           18068 non-null  int32         \n",
      " 7   date               18068 non-null  datetime64[ns]\n",
      " 8   month              18068 non-null  int32         \n",
      " 9   minute_price       18068 non-null  int64         \n",
      " 10  start_ride_price   18068 non-null  int64         \n",
      " 11  subscription_fee   18068 non-null  int64         \n",
      "dtypes: datetime64[ns](1), float64(1), int32(2), int64(5), object(3)\n",
      "memory usage: 1.5+ MB\n"
     ]
    }
   ],
   "source": [
    "df_users_rides = df_users.merge(df_rides)\n",
    "df_go_fast = df_users_rides.merge(df_subscriptions)\n",
    "df_go_fast.info()"
   ]
  },
  {
   "cell_type": "markdown",
   "id": "82808de6",
   "metadata": {},
   "source": [
    "Проверяю размерность результирующей таблицы."
   ]
  },
  {
   "cell_type": "code",
   "execution_count": 32,
   "id": "f13fda2c",
   "metadata": {},
   "outputs": [
    {
     "name": "stdout",
     "output_type": "stream",
     "text": [
      "Длина исходной таблицы с информацией о поездках df_rides: 18068\n",
      "Длина исходной таблицы с информацией о пользователях: 1534\n",
      "Длина исходной таблицы с информацией о подписках: 2\n",
      "Длина результирующего датафрейма: 18068\n"
     ]
    }
   ],
   "source": [
    "# длина исходных таблиц\n",
    "print(f'Длина исходной таблицы с информацией о поездках df_rides: {len(df_rides)}')\n",
    "print(f'Длина исходной таблицы с информацией о пользователях: {len(df_users)}')\n",
    "print(f'Длина исходной таблицы с информацией о подписках: {len(df_subscriptions)}')\n",
    "\n",
    "# длина результирующего датафрейма\n",
    "print(f'Длина результирующего датафрейма: {len(df_go_fast)}')"
   ]
  },
  {
   "cell_type": "code",
   "execution_count": 33,
   "id": "a42a431f",
   "metadata": {},
   "outputs": [
    {
     "name": "stdout",
     "output_type": "stream",
     "text": [
      "Объединение таблиц методом merge() успешно прошло.\n"
     ]
    }
   ],
   "source": [
    "if len(df_go_fast) == len(df_rides):\n",
    "    print('Объединение таблиц методом merge() успешно прошло.')"
   ]
  },
  {
   "cell_type": "markdown",
   "id": "5e0a5178",
   "metadata": {},
   "source": [
    "Вывод: Созданная таблица df_go_fast, объединяющая исходные таблицы df_rides, df_users и df_subscriptions, содержит 18068 строк во всех столбцах, что соответствует исходной таблице df_rides и указывает на отсутствие пропусков в столбцах. Объединение прошло успешно.\n"
   ]
  },
  {
   "cell_type": "code",
   "execution_count": 34,
   "id": "674eff26",
   "metadata": {},
   "outputs": [
    {
     "data": {
      "text/html": [
       "<div>\n",
       "<style scoped>\n",
       "    .dataframe tbody tr th:only-of-type {\n",
       "        vertical-align: middle;\n",
       "    }\n",
       "\n",
       "    .dataframe tbody tr th {\n",
       "        vertical-align: top;\n",
       "    }\n",
       "\n",
       "    .dataframe thead th {\n",
       "        text-align: right;\n",
       "    }\n",
       "</style>\n",
       "<table border=\"1\" class=\"dataframe\">\n",
       "  <thead>\n",
       "    <tr style=\"text-align: right;\">\n",
       "      <th></th>\n",
       "      <th>user_id</th>\n",
       "      <th>name</th>\n",
       "      <th>age</th>\n",
       "      <th>city</th>\n",
       "      <th>subscription_type</th>\n",
       "      <th>distance</th>\n",
       "      <th>duration</th>\n",
       "      <th>date</th>\n",
       "      <th>month</th>\n",
       "      <th>minute_price</th>\n",
       "      <th>start_ride_price</th>\n",
       "      <th>subscription_fee</th>\n",
       "    </tr>\n",
       "  </thead>\n",
       "  <tbody>\n",
       "    <tr>\n",
       "      <th>0</th>\n",
       "      <td>1</td>\n",
       "      <td>Кира</td>\n",
       "      <td>22</td>\n",
       "      <td>Тюмень</td>\n",
       "      <td>ultra</td>\n",
       "      <td>4409.92</td>\n",
       "      <td>26</td>\n",
       "      <td>2021-01-01</td>\n",
       "      <td>1</td>\n",
       "      <td>6</td>\n",
       "      <td>0</td>\n",
       "      <td>199</td>\n",
       "    </tr>\n",
       "    <tr>\n",
       "      <th>1</th>\n",
       "      <td>1</td>\n",
       "      <td>Кира</td>\n",
       "      <td>22</td>\n",
       "      <td>Тюмень</td>\n",
       "      <td>ultra</td>\n",
       "      <td>2617.59</td>\n",
       "      <td>16</td>\n",
       "      <td>2021-01-18</td>\n",
       "      <td>1</td>\n",
       "      <td>6</td>\n",
       "      <td>0</td>\n",
       "      <td>199</td>\n",
       "    </tr>\n",
       "    <tr>\n",
       "      <th>2</th>\n",
       "      <td>1</td>\n",
       "      <td>Кира</td>\n",
       "      <td>22</td>\n",
       "      <td>Тюмень</td>\n",
       "      <td>ultra</td>\n",
       "      <td>754.16</td>\n",
       "      <td>7</td>\n",
       "      <td>2021-04-20</td>\n",
       "      <td>4</td>\n",
       "      <td>6</td>\n",
       "      <td>0</td>\n",
       "      <td>199</td>\n",
       "    </tr>\n",
       "    <tr>\n",
       "      <th>3</th>\n",
       "      <td>1</td>\n",
       "      <td>Кира</td>\n",
       "      <td>22</td>\n",
       "      <td>Тюмень</td>\n",
       "      <td>ultra</td>\n",
       "      <td>2694.78</td>\n",
       "      <td>19</td>\n",
       "      <td>2021-08-11</td>\n",
       "      <td>8</td>\n",
       "      <td>6</td>\n",
       "      <td>0</td>\n",
       "      <td>199</td>\n",
       "    </tr>\n",
       "    <tr>\n",
       "      <th>4</th>\n",
       "      <td>1</td>\n",
       "      <td>Кира</td>\n",
       "      <td>22</td>\n",
       "      <td>Тюмень</td>\n",
       "      <td>ultra</td>\n",
       "      <td>4028.69</td>\n",
       "      <td>27</td>\n",
       "      <td>2021-08-28</td>\n",
       "      <td>8</td>\n",
       "      <td>6</td>\n",
       "      <td>0</td>\n",
       "      <td>199</td>\n",
       "    </tr>\n",
       "  </tbody>\n",
       "</table>\n",
       "</div>"
      ],
      "text/plain": [
       "   user_id  name  age    city subscription_type  distance  duration  \\\n",
       "0        1  Кира   22  Тюмень             ultra   4409.92        26   \n",
       "1        1  Кира   22  Тюмень             ultra   2617.59        16   \n",
       "2        1  Кира   22  Тюмень             ultra    754.16         7   \n",
       "3        1  Кира   22  Тюмень             ultra   2694.78        19   \n",
       "4        1  Кира   22  Тюмень             ultra   4028.69        27   \n",
       "\n",
       "        date  month  minute_price  start_ride_price  subscription_fee  \n",
       "0 2021-01-01      1             6                 0               199  \n",
       "1 2021-01-18      1             6                 0               199  \n",
       "2 2021-04-20      4             6                 0               199  \n",
       "3 2021-08-11      8             6                 0               199  \n",
       "4 2021-08-28      8             6                 0               199  "
      ]
     },
     "execution_count": 34,
     "metadata": {},
     "output_type": "execute_result"
    }
   ],
   "source": [
    "df_go_fast.head()"
   ]
  },
  {
   "cell_type": "markdown",
   "id": "d32b0702",
   "metadata": {
    "scrolled": true
   },
   "source": [
    "### Создаю ещё две таблицы с таблицы, созданной на пункте 4.1:"
   ]
  },
  {
   "cell_type": "markdown",
   "id": "3c07de61",
   "metadata": {},
   "source": [
    "первую таблицу c данными о пользователях с подпиской 'ultra':"
   ]
  },
  {
   "cell_type": "code",
   "execution_count": 35,
   "id": "a8c1c555",
   "metadata": {},
   "outputs": [
    {
     "data": {
      "text/html": [
       "<div>\n",
       "<style scoped>\n",
       "    .dataframe tbody tr th:only-of-type {\n",
       "        vertical-align: middle;\n",
       "    }\n",
       "\n",
       "    .dataframe tbody tr th {\n",
       "        vertical-align: top;\n",
       "    }\n",
       "\n",
       "    .dataframe thead th {\n",
       "        text-align: right;\n",
       "    }\n",
       "</style>\n",
       "<table border=\"1\" class=\"dataframe\">\n",
       "  <thead>\n",
       "    <tr style=\"text-align: right;\">\n",
       "      <th></th>\n",
       "      <th>user_id</th>\n",
       "      <th>name</th>\n",
       "      <th>age</th>\n",
       "      <th>city</th>\n",
       "      <th>subscription_type</th>\n",
       "      <th>distance</th>\n",
       "      <th>duration</th>\n",
       "      <th>date</th>\n",
       "      <th>month</th>\n",
       "      <th>minute_price</th>\n",
       "      <th>start_ride_price</th>\n",
       "      <th>subscription_fee</th>\n",
       "    </tr>\n",
       "  </thead>\n",
       "  <tbody>\n",
       "    <tr>\n",
       "      <th>0</th>\n",
       "      <td>1</td>\n",
       "      <td>Кира</td>\n",
       "      <td>22</td>\n",
       "      <td>Тюмень</td>\n",
       "      <td>ultra</td>\n",
       "      <td>4409.92</td>\n",
       "      <td>26</td>\n",
       "      <td>2021-01-01</td>\n",
       "      <td>1</td>\n",
       "      <td>6</td>\n",
       "      <td>0</td>\n",
       "      <td>199</td>\n",
       "    </tr>\n",
       "    <tr>\n",
       "      <th>1</th>\n",
       "      <td>1</td>\n",
       "      <td>Кира</td>\n",
       "      <td>22</td>\n",
       "      <td>Тюмень</td>\n",
       "      <td>ultra</td>\n",
       "      <td>2617.59</td>\n",
       "      <td>16</td>\n",
       "      <td>2021-01-18</td>\n",
       "      <td>1</td>\n",
       "      <td>6</td>\n",
       "      <td>0</td>\n",
       "      <td>199</td>\n",
       "    </tr>\n",
       "    <tr>\n",
       "      <th>2</th>\n",
       "      <td>1</td>\n",
       "      <td>Кира</td>\n",
       "      <td>22</td>\n",
       "      <td>Тюмень</td>\n",
       "      <td>ultra</td>\n",
       "      <td>754.16</td>\n",
       "      <td>7</td>\n",
       "      <td>2021-04-20</td>\n",
       "      <td>4</td>\n",
       "      <td>6</td>\n",
       "      <td>0</td>\n",
       "      <td>199</td>\n",
       "    </tr>\n",
       "    <tr>\n",
       "      <th>3</th>\n",
       "      <td>1</td>\n",
       "      <td>Кира</td>\n",
       "      <td>22</td>\n",
       "      <td>Тюмень</td>\n",
       "      <td>ultra</td>\n",
       "      <td>2694.78</td>\n",
       "      <td>19</td>\n",
       "      <td>2021-08-11</td>\n",
       "      <td>8</td>\n",
       "      <td>6</td>\n",
       "      <td>0</td>\n",
       "      <td>199</td>\n",
       "    </tr>\n",
       "    <tr>\n",
       "      <th>4</th>\n",
       "      <td>1</td>\n",
       "      <td>Кира</td>\n",
       "      <td>22</td>\n",
       "      <td>Тюмень</td>\n",
       "      <td>ultra</td>\n",
       "      <td>4028.69</td>\n",
       "      <td>27</td>\n",
       "      <td>2021-08-28</td>\n",
       "      <td>8</td>\n",
       "      <td>6</td>\n",
       "      <td>0</td>\n",
       "      <td>199</td>\n",
       "    </tr>\n",
       "  </tbody>\n",
       "</table>\n",
       "</div>"
      ],
      "text/plain": [
       "   user_id  name  age    city subscription_type  distance  duration  \\\n",
       "0        1  Кира   22  Тюмень             ultra   4409.92        26   \n",
       "1        1  Кира   22  Тюмень             ultra   2617.59        16   \n",
       "2        1  Кира   22  Тюмень             ultra    754.16         7   \n",
       "3        1  Кира   22  Тюмень             ultra   2694.78        19   \n",
       "4        1  Кира   22  Тюмень             ultra   4028.69        27   \n",
       "\n",
       "        date  month  minute_price  start_ride_price  subscription_fee  \n",
       "0 2021-01-01      1             6                 0               199  \n",
       "1 2021-01-18      1             6                 0               199  \n",
       "2 2021-04-20      4             6                 0               199  \n",
       "3 2021-08-11      8             6                 0               199  \n",
       "4 2021-08-28      8             6                 0               199  "
      ]
     },
     "execution_count": 35,
     "metadata": {},
     "output_type": "execute_result"
    }
   ],
   "source": [
    "go_fast_ultra = df_go_fast[df_go_fast['subscription_type'] == 'ultra']\n",
    "go_fast_ultra.head() "
   ]
  },
  {
   "cell_type": "markdown",
   "id": "fac38580",
   "metadata": {},
   "source": [
    "и вторую таблицу с данными о пользователях без подписки."
   ]
  },
  {
   "cell_type": "code",
   "execution_count": 36,
   "id": "517a2122",
   "metadata": {},
   "outputs": [
    {
     "data": {
      "text/html": [
       "<div>\n",
       "<style scoped>\n",
       "    .dataframe tbody tr th:only-of-type {\n",
       "        vertical-align: middle;\n",
       "    }\n",
       "\n",
       "    .dataframe tbody tr th {\n",
       "        vertical-align: top;\n",
       "    }\n",
       "\n",
       "    .dataframe thead th {\n",
       "        text-align: right;\n",
       "    }\n",
       "</style>\n",
       "<table border=\"1\" class=\"dataframe\">\n",
       "  <thead>\n",
       "    <tr style=\"text-align: right;\">\n",
       "      <th></th>\n",
       "      <th>user_id</th>\n",
       "      <th>name</th>\n",
       "      <th>age</th>\n",
       "      <th>city</th>\n",
       "      <th>subscription_type</th>\n",
       "      <th>distance</th>\n",
       "      <th>duration</th>\n",
       "      <th>date</th>\n",
       "      <th>month</th>\n",
       "      <th>minute_price</th>\n",
       "      <th>start_ride_price</th>\n",
       "      <th>subscription_fee</th>\n",
       "    </tr>\n",
       "  </thead>\n",
       "  <tbody>\n",
       "    <tr>\n",
       "      <th>6500</th>\n",
       "      <td>700</td>\n",
       "      <td>Айдар</td>\n",
       "      <td>22</td>\n",
       "      <td>Омск</td>\n",
       "      <td>free</td>\n",
       "      <td>2515.69</td>\n",
       "      <td>15</td>\n",
       "      <td>2021-01-02</td>\n",
       "      <td>1</td>\n",
       "      <td>8</td>\n",
       "      <td>50</td>\n",
       "      <td>0</td>\n",
       "    </tr>\n",
       "    <tr>\n",
       "      <th>6501</th>\n",
       "      <td>700</td>\n",
       "      <td>Айдар</td>\n",
       "      <td>22</td>\n",
       "      <td>Омск</td>\n",
       "      <td>free</td>\n",
       "      <td>846.93</td>\n",
       "      <td>17</td>\n",
       "      <td>2021-02-01</td>\n",
       "      <td>2</td>\n",
       "      <td>8</td>\n",
       "      <td>50</td>\n",
       "      <td>0</td>\n",
       "    </tr>\n",
       "    <tr>\n",
       "      <th>6502</th>\n",
       "      <td>700</td>\n",
       "      <td>Айдар</td>\n",
       "      <td>22</td>\n",
       "      <td>Омск</td>\n",
       "      <td>free</td>\n",
       "      <td>4004.43</td>\n",
       "      <td>21</td>\n",
       "      <td>2021-02-04</td>\n",
       "      <td>2</td>\n",
       "      <td>8</td>\n",
       "      <td>50</td>\n",
       "      <td>0</td>\n",
       "    </tr>\n",
       "    <tr>\n",
       "      <th>6503</th>\n",
       "      <td>700</td>\n",
       "      <td>Айдар</td>\n",
       "      <td>22</td>\n",
       "      <td>Омск</td>\n",
       "      <td>free</td>\n",
       "      <td>1205.91</td>\n",
       "      <td>10</td>\n",
       "      <td>2021-02-10</td>\n",
       "      <td>2</td>\n",
       "      <td>8</td>\n",
       "      <td>50</td>\n",
       "      <td>0</td>\n",
       "    </tr>\n",
       "    <tr>\n",
       "      <th>6504</th>\n",
       "      <td>700</td>\n",
       "      <td>Айдар</td>\n",
       "      <td>22</td>\n",
       "      <td>Омск</td>\n",
       "      <td>free</td>\n",
       "      <td>3047.38</td>\n",
       "      <td>18</td>\n",
       "      <td>2021-02-14</td>\n",
       "      <td>2</td>\n",
       "      <td>8</td>\n",
       "      <td>50</td>\n",
       "      <td>0</td>\n",
       "    </tr>\n",
       "  </tbody>\n",
       "</table>\n",
       "</div>"
      ],
      "text/plain": [
       "      user_id   name  age  city subscription_type  distance  duration  \\\n",
       "6500      700  Айдар   22  Омск              free   2515.69        15   \n",
       "6501      700  Айдар   22  Омск              free    846.93        17   \n",
       "6502      700  Айдар   22  Омск              free   4004.43        21   \n",
       "6503      700  Айдар   22  Омск              free   1205.91        10   \n",
       "6504      700  Айдар   22  Омск              free   3047.38        18   \n",
       "\n",
       "           date  month  minute_price  start_ride_price  subscription_fee  \n",
       "6500 2021-01-02      1             8                50                 0  \n",
       "6501 2021-02-01      2             8                50                 0  \n",
       "6502 2021-02-04      2             8                50                 0  \n",
       "6503 2021-02-10      2             8                50                 0  \n",
       "6504 2021-02-14      2             8                50                 0  "
      ]
     },
     "execution_count": 36,
     "metadata": {},
     "output_type": "execute_result"
    }
   ],
   "source": [
    "go_fast_free = df_go_fast[df_go_fast['subscription_type'] == 'free']\n",
    "go_fast_free.head()"
   ]
  },
  {
   "cell_type": "markdown",
   "id": "05c1fd24",
   "metadata": {},
   "source": [
    "### Визуализирую информацию о расстоянии поездок для пользователей обеих категорий подписки с помощью совмещённой гистограммы."
   ]
  },
  {
   "cell_type": "code",
   "execution_count": 37,
   "id": "f82658f5",
   "metadata": {},
   "outputs": [
    {
     "data": {
      "text/plain": [
       "count    6500.000000\n",
       "mean     3115.445431\n",
       "std       836.895369\n",
       "min       244.210000\n",
       "25%      2785.447500\n",
       "50%      3148.640000\n",
       "75%      3560.577500\n",
       "max      5699.770000\n",
       "Name: distance, dtype: float64"
      ]
     },
     "execution_count": 37,
     "metadata": {},
     "output_type": "execute_result"
    }
   ],
   "source": [
    "go_fast_ultra['distance'].describe()"
   ]
  },
  {
   "cell_type": "code",
   "execution_count": 38,
   "id": "39b3da49",
   "metadata": {},
   "outputs": [
    {
     "data": {
      "text/plain": [
       "count    11568.000000\n",
       "mean      3045.495284\n",
       "std       1246.173810\n",
       "min          0.860000\n",
       "25%       2366.560000\n",
       "50%       3114.650000\n",
       "75%       3905.695000\n",
       "max       7211.010000\n",
       "Name: distance, dtype: float64"
      ]
     },
     "execution_count": 38,
     "metadata": {},
     "output_type": "execute_result"
    }
   ],
   "source": [
    "go_fast_free['distance'].describe()"
   ]
  },
  {
   "cell_type": "code",
   "execution_count": 39,
   "id": "cc3edf30",
   "metadata": {},
   "outputs": [
    {
     "data": {
      "image/png": "[encoded data removed]",
      "text/plain": [
       "<Figure size 640x480 with 1 Axes>"
      ]
     },
     "metadata": {},
     "output_type": "display_data"
    }
   ],
   "source": [
    "plt.hist([go_fast_ultra['distance'], go_fast_free['distance']], bins=70, range=(0, 7000), label=['ultra', 'free'])\n",
    "plt.legend(loc='upper right')\n",
    "plt.title('Количество поездок по расстоянию поездки')\n",
    "plt.xlabel('Расстояние поездки')\n",
    "plt.ylabel('Количество поездок')\n",
    "plt.grid(True)\n",
    "\n",
    "plt.show()"
   ]
  },
  {
   "cell_type": "markdown",
   "id": "62b6fa4f",
   "metadata": {},
   "source": [
    "Вывод: Сравнение информации о поездках пользователей с подпиской и без подписки, плюс визуализация этой информации позволяет мне сделать вывод: Стандартное отклонение расстояния поездки 'distance' существенно, аж на 48,9% отличается в пользу \"свободных пользователей\", что говорит о системном характере поездок подписчиков 'ultra', скорее всего по одным и тем же маршрутам, и о непредсказуемости маршрутов поездок \"свободных\" пользователей: у них намного больше коротких, до 1 км, поездок и некоторое количество поездок больше пяти километров."
   ]
  },
  {
   "cell_type": "markdown",
   "id": "795e8b4e",
   "metadata": {},
   "source": [
    "#### Визуализирую информацию о длительности поездок для пользователей обеих категорий подписки с помощью совмещённой гистограммы"
   ]
  },
  {
   "cell_type": "code",
   "execution_count": 40,
   "id": "30ae566b",
   "metadata": {},
   "outputs": [
    {
     "data": {
      "text/plain": [
       "count    6500.000000\n",
       "mean       19.037692\n",
       "std         5.577439\n",
       "min         4.000000\n",
       "25%        15.000000\n",
       "50%        19.000000\n",
       "75%        22.000000\n",
       "max        41.000000\n",
       "Name: duration, dtype: float64"
      ]
     },
     "execution_count": 40,
     "metadata": {},
     "output_type": "execute_result"
    }
   ],
   "source": [
    "go_fast_ultra['duration'].describe()"
   ]
  },
  {
   "cell_type": "code",
   "execution_count": 41,
   "id": "72d1b253",
   "metadata": {},
   "outputs": [
    {
     "data": {
      "text/plain": [
       "count    11568.000000\n",
       "mean        17.890992\n",
       "std          6.330250\n",
       "min          1.000000\n",
       "25%         13.000000\n",
       "50%         18.000000\n",
       "75%         22.000000\n",
       "max         35.000000\n",
       "Name: duration, dtype: float64"
      ]
     },
     "execution_count": 41,
     "metadata": {},
     "output_type": "execute_result"
    }
   ],
   "source": [
    "go_fast_free['duration'].describe()"
   ]
  },
  {
   "cell_type": "code",
   "execution_count": 42,
   "id": "12bd117e",
   "metadata": {},
   "outputs": [
    {
     "data": {
      "image/png": "[encoded data removed]",
      "text/plain": [
       "<Figure size 640x480 with 1 Axes>"
      ]
     },
     "metadata": {},
     "output_type": "display_data"
    }
   ],
   "source": [
    "plt.hist([go_fast_ultra['duration'], go_fast_free['duration']], bins=70, range=(0, 40), label=['ultra', 'free'])\n",
    "plt.legend(loc='upper right')\n",
    "plt.title('Количество поездок по продольжительности поездки')\n",
    "plt.xlabel('Продолжительность поездки')\n",
    "plt.ylabel('Количество поездок')\n",
    "plt.grid(True)\n",
    "\n",
    "plt.show()"
   ]
  },
  {
   "cell_type": "markdown",
   "id": "9a8a60e5",
   "metadata": {},
   "source": [
    "Вывод: Стандартное отклонение значений длительности поездки 'duration' существенно, на 13,5% отличается в пользу \"свободных пользователей\", что говорит о системном характере поездок подписчиков 'ultra', скорее всего по одным и тем же маршрутам, и о непредсказуемости маршрутов поездок \"свободных\" пользователей. Пользователи без подписки чаще завершают поездку едва начав её, возможно что у них настроение быстро меняется, либо не понравился самокат, либо возникли проблемы с оплатой. У пользователей без подписки значительно больше коротких поездок - до 1 км и в целом максимальная дальность поездки выше, чем у платных пользователей."
   ]
  },
  {
   "cell_type": "markdown",
   "id": "402d620f",
   "metadata": {},
   "source": [
    "## Подсчёт выручки"
   ]
  },
  {
   "cell_type": "markdown",
   "id": "8c2bbd31",
   "metadata": {},
   "source": [
    "Перед подсчётом выручки проверяю сводную таблицу df_go_fast на отсутствие пропусков.\n"
   ]
  },
  {
   "cell_type": "code",
   "execution_count": 43,
   "id": "5143a5cb",
   "metadata": {},
   "outputs": [
    {
     "data": {
      "text/plain": [
       "user_id              0\n",
       "name                 0\n",
       "age                  0\n",
       "city                 0\n",
       "subscription_type    0\n",
       "distance             0\n",
       "duration             0\n",
       "date                 0\n",
       "month                0\n",
       "minute_price         0\n",
       "start_ride_price     0\n",
       "subscription_fee     0\n",
       "dtype: int64"
      ]
     },
     "execution_count": 43,
     "metadata": {},
     "output_type": "execute_result"
    }
   ],
   "source": [
    "df_go_fast.isna().sum()"
   ]
  },
  {
   "cell_type": "markdown",
   "id": "08411535",
   "metadata": {},
   "source": [
    "Вывод: В сводной таблице для подсчёта выручки df_go_fast отсутствуют пропуски данных."
   ]
  },
  {
   "cell_type": "markdown",
   "id": "dd585fc2",
   "metadata": {},
   "source": [
    "### Добавляю столбец с помесячной выручкой, которую принёс каждый пользователь. Для этого обращаюсь к информации об условиях оплаты для подписчиков и тех, у кого нет подписки. Одновременно реорганизую и переименую сводную таблицу, сделаю  более говорящими названия таблицы и столбцов."
   ]
  },
  {
   "cell_type": "code",
   "execution_count": 44,
   "id": "6d646e08",
   "metadata": {},
   "outputs": [],
   "source": [
    "go_fast_revenue = df_go_fast.pivot_table(index=('user_id', 'month'), values=[\n",
    "                'distance', 'duration', 'minute_price', 'start_ride_price', 'subscription_fee']\\\n",
    "                , aggfunc={'distance': {'count', 'sum'}, 'duration': 'sum', 'minute_price': 'mean'\\\n",
    "                , 'start_ride_price': 'mean', 'subscription_fee': 'mean'})\n",
    "go_fast_revenue.columns = ['month_rides', 'month_distance', 'month_duration', 'minute_price', 'start_ride_price', 'subscription_fee']"
   ]
  },
  {
   "cell_type": "markdown",
   "id": "86513b53",
   "metadata": {},
   "source": [
    "### Помесячная выручка с каждого пользователя считается по формуле: (стоимость старта поездки × количество поездок) + (стоимость одной минуты поездки × общая продолжительность всех поездок в минутах) + стоимость подписки."
   ]
  },
  {
   "cell_type": "code",
   "execution_count": 45,
   "id": "bc4f9cc7",
   "metadata": {
    "scrolled": true
   },
   "outputs": [
    {
     "data": {
      "text/html": [
       "<div>\n",
       "<style scoped>\n",
       "    .dataframe tbody tr th:only-of-type {\n",
       "        vertical-align: middle;\n",
       "    }\n",
       "\n",
       "    .dataframe tbody tr th {\n",
       "        vertical-align: top;\n",
       "    }\n",
       "\n",
       "    .dataframe thead th {\n",
       "        text-align: right;\n",
       "    }\n",
       "</style>\n",
       "<table border=\"1\" class=\"dataframe\">\n",
       "  <thead>\n",
       "    <tr style=\"text-align: right;\">\n",
       "      <th></th>\n",
       "      <th></th>\n",
       "      <th>month_rides</th>\n",
       "      <th>month_distance</th>\n",
       "      <th>month_duration</th>\n",
       "      <th>minute_price</th>\n",
       "      <th>start_ride_price</th>\n",
       "      <th>subscription_fee</th>\n",
       "      <th>month_revenue_per_user</th>\n",
       "    </tr>\n",
       "    <tr>\n",
       "      <th>user_id</th>\n",
       "      <th>month</th>\n",
       "      <th></th>\n",
       "      <th></th>\n",
       "      <th></th>\n",
       "      <th></th>\n",
       "      <th></th>\n",
       "      <th></th>\n",
       "      <th></th>\n",
       "    </tr>\n",
       "  </thead>\n",
       "  <tbody>\n",
       "    <tr>\n",
       "      <th rowspan=\"6\" valign=\"top\">1</th>\n",
       "      <th>1</th>\n",
       "      <td>2</td>\n",
       "      <td>7027.51</td>\n",
       "      <td>42</td>\n",
       "      <td>6.0</td>\n",
       "      <td>0.0</td>\n",
       "      <td>199.0</td>\n",
       "      <td>451.0</td>\n",
       "    </tr>\n",
       "    <tr>\n",
       "      <th>4</th>\n",
       "      <td>1</td>\n",
       "      <td>754.16</td>\n",
       "      <td>7</td>\n",
       "      <td>6.0</td>\n",
       "      <td>0.0</td>\n",
       "      <td>199.0</td>\n",
       "      <td>241.0</td>\n",
       "    </tr>\n",
       "    <tr>\n",
       "      <th>8</th>\n",
       "      <td>2</td>\n",
       "      <td>6723.47</td>\n",
       "      <td>46</td>\n",
       "      <td>6.0</td>\n",
       "      <td>0.0</td>\n",
       "      <td>199.0</td>\n",
       "      <td>475.0</td>\n",
       "    </tr>\n",
       "    <tr>\n",
       "      <th>10</th>\n",
       "      <td>2</td>\n",
       "      <td>5809.91</td>\n",
       "      <td>32</td>\n",
       "      <td>6.0</td>\n",
       "      <td>0.0</td>\n",
       "      <td>199.0</td>\n",
       "      <td>391.0</td>\n",
       "    </tr>\n",
       "    <tr>\n",
       "      <th>11</th>\n",
       "      <td>3</td>\n",
       "      <td>7003.50</td>\n",
       "      <td>56</td>\n",
       "      <td>6.0</td>\n",
       "      <td>0.0</td>\n",
       "      <td>199.0</td>\n",
       "      <td>535.0</td>\n",
       "    </tr>\n",
       "    <tr>\n",
       "      <th>12</th>\n",
       "      <td>2</td>\n",
       "      <td>6751.63</td>\n",
       "      <td>28</td>\n",
       "      <td>6.0</td>\n",
       "      <td>0.0</td>\n",
       "      <td>199.0</td>\n",
       "      <td>367.0</td>\n",
       "    </tr>\n",
       "    <tr>\n",
       "      <th rowspan=\"2\" valign=\"top\">2</th>\n",
       "      <th>3</th>\n",
       "      <td>3</td>\n",
       "      <td>10187.73</td>\n",
       "      <td>63</td>\n",
       "      <td>6.0</td>\n",
       "      <td>0.0</td>\n",
       "      <td>199.0</td>\n",
       "      <td>577.0</td>\n",
       "    </tr>\n",
       "    <tr>\n",
       "      <th>4</th>\n",
       "      <td>2</td>\n",
       "      <td>6164.39</td>\n",
       "      <td>40</td>\n",
       "      <td>6.0</td>\n",
       "      <td>0.0</td>\n",
       "      <td>199.0</td>\n",
       "      <td>439.0</td>\n",
       "    </tr>\n",
       "  </tbody>\n",
       "</table>\n",
       "</div>"
      ],
      "text/plain": [
       "               month_rides  month_distance  month_duration  minute_price  \\\n",
       "user_id month                                                              \n",
       "1       1                2         7027.51              42           6.0   \n",
       "        4                1          754.16               7           6.0   \n",
       "        8                2         6723.47              46           6.0   \n",
       "        10               2         5809.91              32           6.0   \n",
       "        11               3         7003.50              56           6.0   \n",
       "        12               2         6751.63              28           6.0   \n",
       "2       3                3        10187.73              63           6.0   \n",
       "        4                2         6164.39              40           6.0   \n",
       "\n",
       "               start_ride_price  subscription_fee  month_revenue_per_user  \n",
       "user_id month                                                              \n",
       "1       1                   0.0             199.0                   451.0  \n",
       "        4                   0.0             199.0                   241.0  \n",
       "        8                   0.0             199.0                   475.0  \n",
       "        10                  0.0             199.0                   391.0  \n",
       "        11                  0.0             199.0                   535.0  \n",
       "        12                  0.0             199.0                   367.0  \n",
       "2       3                   0.0             199.0                   577.0  \n",
       "        4                   0.0             199.0                   439.0  "
      ]
     },
     "execution_count": 45,
     "metadata": {},
     "output_type": "execute_result"
    }
   ],
   "source": [
    "go_fast_revenue['month_revenue_per_user'] = go_fast_revenue['start_ride_price'] * go_fast_revenue['month_rides'] \\\n",
    "+ go_fast_revenue['month_duration'] * go_fast_revenue['minute_price'] + go_fast_revenue['subscription_fee']\n",
    "go_fast_revenue.head(8)"
   ]
  },
  {
   "cell_type": "markdown",
   "id": "b0b75bfa",
   "metadata": {},
   "source": [
    "### Вычисляю годовую выручку службы с каждого пользователя."
   ]
  },
  {
   "cell_type": "code",
   "execution_count": 46,
   "id": "3b37edab",
   "metadata": {},
   "outputs": [],
   "source": [
    "year_revenue_per_user = go_fast_revenue.pivot_table(index=('user_id'), values='month_revenue_per_user', aggfunc='sum')\n",
    "year_revenue_per_user = year_revenue_per_user.rename(columns={'month_revenue_per_user': 'year_revenue_per_user'})"
   ]
  },
  {
   "cell_type": "markdown",
   "id": "9f35b568",
   "metadata": {},
   "source": [
    "### Вычисляю годовую выручку службы проката самокатов GoFast."
   ]
  },
  {
   "cell_type": "code",
   "execution_count": 47,
   "id": "ba840af8",
   "metadata": {},
   "outputs": [
    {
     "name": "stdout",
     "output_type": "stream",
     "text": [
      "Выручка службы проката самокатов GoFast в 2021 году составила 3878641.0 рублей.\n"
     ]
    }
   ],
   "source": [
    "go_fast_year_revenue = year_revenue_per_user['year_revenue_per_user'].sum()\n",
    "print(f'Выручка службы проката самокатов GoFast в 2021 году составила {go_fast_year_revenue} рублей.')"
   ]
  },
  {
   "cell_type": "markdown",
   "id": "41545ac0",
   "metadata": {},
   "source": [
    "## Проверка гипотез"
   ]
  },
  {
   "cell_type": "markdown",
   "id": "9ca7e934",
   "metadata": {},
   "source": [
    "### Тратят ли пользователи с подпиской больше времени на поездки? Если да, то пользователи с подпиской могут быть «выгоднее» для компании. Проверяю гипотезу. Использую исходные данные о продолжительности каждой сессии — отдельно для подписчиков и тех, у кого нет подписки."
   ]
  },
  {
   "cell_type": "markdown",
   "id": "b264e880",
   "metadata": {},
   "source": [
    "H0: Средняя продолжительность поездок с подпиской 'ultra' и без подписки равна."
   ]
  },
  {
   "cell_type": "markdown",
   "id": "84eba007",
   "metadata": {},
   "source": [
    "H1: Средняя продолжительность поездок с подпиской 'ultra' больше средней продолжительности поездок без подписки."
   ]
  },
  {
   "cell_type": "code",
   "execution_count": 48,
   "id": "6e211784",
   "metadata": {},
   "outputs": [
    {
     "name": "stdout",
     "output_type": "stream",
     "text": [
      "2.495945372073663e-34\n",
      "Отвергаю нулевую гипотезу\n"
     ]
    }
   ],
   "source": [
    "results = st.ttest_ind(go_fast_ultra['duration'], go_fast_free['duration'], equal_var=True, alternative='greater')\n",
    "print(results.pvalue)\n",
    "\n",
    "alpha = 0.05\n",
    "\n",
    "if results.pvalue < alpha:\n",
    "    print('Отвергаю нулевую гипотезу')\n",
    "else:\n",
    "    print('Не получилось отвергнуть нулевую гипотезу')"
   ]
  },
  {
   "cell_type": "markdown",
   "id": "f13accfe",
   "metadata": {},
   "source": [
    "Вывод: Отвергаю нулевую гипотезу: средняя продолжительность поездок с подпиской 'ultra' больше средней продолжительности поездок без подписки."
   ]
  },
  {
   "cell_type": "markdown",
   "id": "5bb134c6",
   "metadata": {},
   "source": [
    "### Расстояние одной поездки в 3130 метров — оптимальное с точки зрения износа самоката. Можно ли сказать, что среднее расстояние, которое проезжают пользователи с подпиской за одну поездку, не превышает 3130 метров? "
   ]
  },
  {
   "cell_type": "markdown",
   "id": "0aaed110",
   "metadata": {},
   "source": [
    "H0: Среднее расстояние, которое проезжают пользователи с подпиской за одну поездку, равно оптимальному: 3130 метров."
   ]
  },
  {
   "cell_type": "markdown",
   "id": "78be3690",
   "metadata": {},
   "source": [
    "H1: Среднее расстояние, которое проезжают пользователи с подпиской за одну поездку более 3130 метров."
   ]
  },
  {
   "cell_type": "code",
   "execution_count": 49,
   "id": "5c878d7d",
   "metadata": {},
   "outputs": [
    {
     "name": "stdout",
     "output_type": "stream",
     "text": [
      "0.9195362605842414\n",
      "Не получилось отвергнуть нулевую гипотезу\n"
     ]
    }
   ],
   "source": [
    "distance = 3130\n",
    "alpha = 0.05\n",
    "\n",
    "results = st.ttest_1samp(go_fast_ultra['distance'], distance, alternative='greater')\n",
    "print(results.pvalue)\n",
    "\n",
    "\n",
    "if results.pvalue < alpha:\n",
    "    print('Отвергаю нулевую гипотезу')\n",
    "else:\n",
    "    print('Не получилось отвергнуть нулевую гипотезу')"
   ]
  },
  {
   "cell_type": "markdown",
   "id": "9d9d38b2",
   "metadata": {},
   "source": [
    "Вывод:Не удалось отвергнуть нулевую гипотезу: При установленном уровне статистической значимости, среднее расстояние, которое проезжают пользователи с подпиской за одну поездку не отличается от оптимального в 3130 метров."
   ]
  },
  {
   "cell_type": "markdown",
   "id": "cfa50616",
   "metadata": {},
   "source": [
    "### Проверьте гипотезу о том, будет ли помесячная выручка от пользователей с подпиской по месяцам выше, чем выручка от пользователей без подписки. "
   ]
  },
  {
   "cell_type": "markdown",
   "id": "de05c902",
   "metadata": {},
   "source": [
    "H0: Помесячная выручка от пользователей с подпиской равна помесячной выручке от пользователей без подписки."
   ]
  },
  {
   "cell_type": "markdown",
   "id": "251050d7",
   "metadata": {},
   "source": [
    "H1: Помесячная выручка от пользователей с подпиской больше, чем помесячная выручка от пользователей без подписки."
   ]
  },
  {
   "cell_type": "markdown",
   "id": "eae7da71",
   "metadata": {},
   "source": [
    "Вычисляю помесячную выручку от пользователя с подпиской 'ultra'."
   ]
  },
  {
   "cell_type": "code",
   "execution_count": 50,
   "id": "5937c4cf",
   "metadata": {},
   "outputs": [],
   "source": [
    "revenue_ultra = go_fast_revenue.loc[go_fast_revenue['subscription_fee'] == 199, 'month_revenue_per_user']"
   ]
  },
  {
   "cell_type": "markdown",
   "id": "5f629fdc",
   "metadata": {},
   "source": [
    "Вычисляю помесячную выручку от пользователя без подписки."
   ]
  },
  {
   "cell_type": "code",
   "execution_count": 51,
   "id": "abd715f7",
   "metadata": {},
   "outputs": [],
   "source": [
    "revenue_free = go_fast_revenue.loc[go_fast_revenue['subscription_fee'] == 0, 'month_revenue_per_user']"
   ]
  },
  {
   "cell_type": "code",
   "execution_count": 52,
   "id": "267600fc",
   "metadata": {},
   "outputs": [
    {
     "name": "stdout",
     "output_type": "stream",
     "text": [
      "1.8850394384715216e-31\n",
      "Отвергаю нулевую гипотезу\n"
     ]
    }
   ],
   "source": [
    "results = st.ttest_ind(revenue_ultra, revenue_free, equal_var=True, alternative='greater')\n",
    "print(results.pvalue)\n",
    "\n",
    "alpha = 0.05\n",
    "\n",
    "if results.pvalue < alpha:\n",
    "    print('Отвергаю нулевую гипотезу')\n",
    "else:\n",
    "    print('Не получилось отвергнуть нулевую гипотезу')"
   ]
  },
  {
   "cell_type": "markdown",
   "id": "a25e8a8e",
   "metadata": {},
   "source": [
    "Вывод: Нулевая гипотеза отвергнута: Помесячная выручка от пользователя с подпиской больше, чем помесячная выручка от пользователя без подписки."
   ]
  },
  {
   "cell_type": "markdown",
   "id": "5e1f64ae",
   "metadata": {},
   "source": [
    "### Представьте такую ситуацию: техническая команда сервиса обновила сервера, с которыми взаимодействует мобильное приложение. Она надеется, что из-за этого количество обращений в техподдержку значимо снизилось. Некоторый файл содержит для каждого пользователя данные о количестве обращений до обновления и после него. Какой тест вам понадобился бы для проверки этой гипотезы?"
   ]
  },
  {
   "cell_type": "markdown",
   "id": "ba453a56",
   "metadata": {},
   "source": [
    "Когда требуется проверить гипотезу о равенстве среднего генеральной совокупности для зависимых (парных) выборок обычно применяют метод scipy.stats.ttest_rel(). В этом случае выборки считаются парными или зависимыми. Это означает, что некоторая переменная измеряется дважды для одних и тех же объектов. В данном примере это пара значений для каждого пользователя — до и после обновления серверов. Этому методу достаточно передать всего два параметра: набор данных для каждого пользователя до и после обновления серверов. Необходимо чтобы оба набора были одинаковыми по размеру: одно измерение проведено до и второе измерение сделано после обновления серверов. Порядок объектов в файле тоже должен быть одинаковый: до и после.\n",
    "Если эти требования не выполняются, тогда использую метод scipy.stats.ttest_ind() для двух независимых выборок."
   ]
  },
  {
   "cell_type": "markdown",
   "id": "61213c5e",
   "metadata": {},
   "source": [
    "## Распределения"
   ]
  },
  {
   "cell_type": "markdown",
   "id": "0b4cc28a",
   "metadata": {},
   "source": [
    "### Отделу маркетинга GoFast поставили задачу: нужно провести акцию с раздачей промокодов на один бесплатный месяц подписки, в рамках которой как минимум 100 существующих клиентов должны продлить эту подписку. Сколько промокодов необходимо раздать чтобы получить заданный результат? Эта акция уже проводилась ранее и по итогу выяснилось, что после бесплатного пробного периода подписку продлевают 10 % пользователей. Выясните, какое минимальное количество промокодов нужно разослать, чтобы вероятность не выполнить план была примерно 5 %."
   ]
  },
  {
   "cell_type": "markdown",
   "id": "5a8bcd8f",
   "metadata": {},
   "source": [
    "Решение этой задачи разделю на два этапа. Первый этап: математический."
   ]
  },
  {
   "cell_type": "code",
   "execution_count": 53,
   "id": "8cac27bb",
   "metadata": {},
   "outputs": [
    {
     "name": "stdout",
     "output_type": "stream",
     "text": [
      "1167\n"
     ]
    }
   ],
   "source": [
    "n = 1000\n",
    "k = 100\n",
    "p = 0.1\n",
    "binom_cdf = 0.05\n",
    "\n",
    "\n",
    "for n in range(1000, 2000):\n",
    "    if binom_cdf < binom.cdf(k, n, p):\n",
    "        n += 1\n",
    "        if binom_cdf == binom.cdf(k, n, p).round(2):\n",
    "            print(n)\n",
    "            break"
   ]
  },
  {
   "cell_type": "markdown",
   "id": "f2015f7e",
   "metadata": {},
   "source": [
    "Вывод: 1167 штук - минимальное количество промокодов, которое нужно раздать среди пользователей, чтобы как минимум 100 существующих клиентов продлили месячную подписку и вероятность не выполнить план стала равной примерно 5 %."
   ]
  },
  {
   "cell_type": "markdown",
   "id": "693debf5",
   "metadata": {},
   "source": [
    "Второй этап: графический, должен потвердить правильность результата первого этапа."
   ]
  },
  {
   "cell_type": "code",
   "execution_count": 54,
   "id": "d76f1dbc",
   "metadata": {},
   "outputs": [
    {
     "data": {
      "image/png": "[encoded data removed]",
      "text/plain": [
       "<Figure size 640x480 with 1 Axes>"
      ]
     },
     "metadata": {},
     "output_type": "display_data"
    }
   ],
   "source": [
    "n = 1200 # количество попыток\n",
    "p = 0.1 # вероятность успеха\n",
    "k = 100\n",
    "distr = []\n",
    "\n",
    "for n in range(0, n + 1):\n",
    "    current_value = binom.cdf(k, n, p)\n",
    "    distr.append(current_value)\n",
    "    \n",
    "plt.bar(range(0, n + 1), distr)\n",
    "plt.title('Вероятность не выполнить план')\n",
    "plt.axvline(x=n, color='red')\n",
    "plt.xlabel('Количество промокодов')\n",
    "plt.ylabel('Вероятность')\n",
    "plt.grid(True)\n",
    "plt.show()"
   ]
  },
  {
   "cell_type": "markdown",
   "id": "b6a1f6e6",
   "metadata": {},
   "source": [
    "Вывод: Визуализация потверждает что при значении количества разданных промокодов равном 1167, вероятность не выполнить план снижается до 5 %."
   ]
  },
  {
   "cell_type": "markdown",
   "id": "f54d1902",
   "metadata": {},
   "source": [
    "### Отдел маркетинга рассылает клиентам push-уведомления в мобильном приложении. Клиенты могут открыть его или не открывать. Известно, что уведомления открывают около 40 % получивших клиентов. Отдел планирует разослать 1 млн уведомлений. С помощью аппроксимации постройте примерный график распределения и оцените вероятность того, что уведомление откроют не более 399,5 тыс. пользователей."
   ]
  },
  {
   "cell_type": "code",
   "execution_count": 55,
   "id": "87afd3ac",
   "metadata": {},
   "outputs": [
    {
     "name": "stdout",
     "output_type": "stream",
     "text": [
      "Вероятность равна: 15.37 %\n"
     ]
    },
    {
     "data": {
      "image/png": "[encoded data removed]",
      "text/plain": [
       "<Figure size 640x480 with 1 Axes>"
      ]
     },
     "metadata": {},
     "output_type": "display_data"
    }
   ],
   "source": [
    "n = 1000000\n",
    "p = 0.4\n",
    "k = 399500\n",
    "\n",
    "mu = n * p\n",
    "\n",
    "sigma = (n * p * (1 - p))**0.5\n",
    "\n",
    "distr = st.norm(mu, sigma)\n",
    "\n",
    "result = distr.cdf(k)\n",
    "print('Вероятность равна:',(result * 100).round(2), '%')\n",
    "\n",
    "arange = np.arange((mu - 4 * sigma), (mu + 4 * sigma), 1)\n",
    "plt.plot(arange, st.norm.cdf(arange, mu, sigma), 'b-')\n",
    "plt.xticks(rotation=70)\n",
    "plt.axvline(x=k, color='red')\n",
    "plt.axvline(x=mu, color='yellow')\n",
    "plt.grid(True)\n",
    "plt.show()"
   ]
  },
  {
   "cell_type": "markdown",
   "id": "8d3cb1bb",
   "metadata": {},
   "source": [
    "Вывод: Если отдел маркетинга сможет отправить миллион push-уведомлений, тогда вероятность того, что не более 399500 получателей откроют это уведомление, будет равна 0,1537 или 15,37 %."
   ]
  },
  {
   "cell_type": "markdown",
   "id": "f78a56ba-d40a-42b3-938a-1e10cd41180c",
   "metadata": {},
   "source": [
    "## Общий вывод по проекту: "
   ]
  },
  {
   "cell_type": "markdown",
   "id": "52b7b0c8",
   "metadata": {},
   "source": [
    "В ходе проведения Статистического исследования службы проката самокатов GoFast, были пройдены следующие этапы и сделаны следующие выводы:\n",
    "\n",
    "1. Загрузка данных: В таблице df_rides: 18068 строк, 4 столбца. Пропуски отсутствуют. В двух столбцах необходимо изменить тип данных. В таблице df_users: 1565 строк и 4 столбца. Пропуски данных отсутствуют. В ней же обнаружен 31 дубликат: дубликаты необходимо будет удалить. В таблице df_subscriptions 2 строки и 4 столбца. Пропуски и дупликаты отсутствуют. Считаю что данные полные и корректные для проведения заданного исследования.\n",
    "\n",
    "2. В процессе предобработки данных: обнаруженные дубликаты в таблице df_users были удалены. В таблице df_rides значения расстояния 'distance' были округлены до сотых метра, а значения продолжительности поездки 'duration', были округлены вверх и их тип данных был изменён с 'float' на 'int'. Данные столбца 'date' были приведены к формату даты datetime. Затем столбец 'date' был преобазован в 'month'. В таблице df_subcriptions данные не изменились.\n",
    "\n",
    "3. Вывод по исследовательскому анализу данных службы GoFast:\n",
    "   \n",
    "       3.1 Город-лидер по количеству пользователей: Пятигорск, что вполне обяснимо с учётом южного длинного курортного сезона. За лидером следуют Екатеринбург и Ростов-на-Дону.\n",
    "       3.2 Количество пользователей без подписки 54,4% превышает количество пользователей с подпиской 'ultra' 45,6%.\n",
    "       3.3 Средний возраст пользователя службы аренды самокатов соизмерим с медианным значением возраста: 25 лет. Распределение возраста нормальное с минимумом 12 лет и максимумом 43 года.\n",
    "       3.4 Самое большое количество поездок совершено на расстояния между первым квартилем: 2543 метров(Q1) и третьим квартильем: 3776 метров(Q3). Среднее и медианное значения расстояния практически соизмеримы 3133 и 3070 метров. На графике наблюдается нормальное распределение значения с двумя пиками: малый пик значения количества коротких поездок(расстояние около 700 метров) и пик значения количества всех поездок(расстояние около 3100 метров).\n",
    "       3.5 Среднее и медианное значения количества поездок в зависимости от длительности поездки, практически совпадают на значении 18 минут. Именно столько длится средняя поездка. Большинство поездок имеют продолжительность между 14 и 22 минут. Максимально длинные поездки длятся около 40 минут. Пользователи без подписки чаще завершают поездку едва начав её, возможно что у них настроение быстро меняется, либо не понравился самокат, либо возникли проблемы с оплатой, именно поэтому необходимо обратить внимание на около сотни поездок с аномальной длительностью меньше одной минуты.\n",
    "   \n",
    "4. Объединение данных: Сравнение информации о поездках пользователей с подпиской и без подписки, плюс визуализация этой информации позволяет мне сделать вывод: Стандартное отклонение расстояния поездки 'distance' существенно, аж на 48,9% отличается в пользу \"свободных пользователей\", что говорит о системном характере поездок подписчиков 'ultra', скорее всего по одным и тем же маршрутам, и о непредсказуемости маршрутов поездок \"свободных\" пользователей. В потверждение этому выводу стандартное отклонение 'duration' также отличается на 13,5% в пользу пользователей без подписки. В итоге можно обобщить что пользователи без подписки совершают больше коротких и длинных поездок, чем подписчики.\n",
    "5. Подсчёт выручки: Выручка службы проката самокатов GoFast в 2021 году составила 3878641 рублей. Пользователи с подспиской генерируют большую выручку с пользователя. \n",
    "6. Проверка гипотез:\n",
    "   \n",
    "       6.1 Отвергнута гипотеза о равенстве продолжительности поездок с подпиской и без подписки: средняя продолжительность поездок с подпиской 'ultra' больше средней продолжительности поездок без подписки.\n",
    "   \n",
    "       6.2 Не удалось отвергнуть нулевую гипотезу о том, что среднее расстояние, которое проезжают пользователи с подпиской за одну поездку, не превышает 3130 метров: При установленном уровне статистической значимости, среднее расстояние, которое проезжают пользователи с подпиской за одну поездку не отличается от оптимального в 3130 метров.\n",
    "   \n",
    "       6.3 Отвергнута гипотеза о том, что помесячная выручка от пользователей с подпиской по месяцам равна выручке от пользователей без подписки: Помесячная выручка от пользователя с подпиской больше, чем помесячная выручка от пользователя без подписки.\n",
    "   \n",
    "       6.4 Дано пояснение о том, что когда требуется проверить гипотезу о равенстве среднего генеральной совокупности для двух зависимых (парных) выборок обычно применяют метод scipy.stats.ttest_rel(). В этом случае выборки считаются парными или зависимыми. Это означает, что некоторая переменная измеряется дважды для одних и тех же объектов. В данном примере это пара значений для каждого пользователя — до и после обновления серверов. Этому методу достаточно передать всего два параметра: набор данных для каждого пользователя до и после обновления серверов. Необходимо чтобы оба набора были одинаковыми по размеру: одно измерение проведено до и второе измерение сделано после обновления серверов. Порядок объектов в файле тоже должен быть одинаковый: до и после. Если эти требования не выполняются, тогда используют метод scipy.stats.ttest_ind() для двух независимых выборок.\n",
    "7. Расспределения:\n",
    "\n",
    "\n",
    "\n",
    "       7.1 Ровно 1167 штук - минимальное количество промокодов, которое нужно раздать среди пользователей, чтобы как минимум 100 существующих клиентов продлили месячную подписку и вероятность не выполнить план стала равной примерно 5 %.\n",
    "\n",
    "       7.2 Если отдел маркетинга сможет отправить миллион push-уведомлений, тогда вероятность того, что не более 399500 получателей откроют это уведомление, будет равна 15,37 %."
   ]
  },
  {
   "cell_type": "markdown",
   "id": "a940b7bb",
   "metadata": {},
   "source": [
    "8. **Рекомендация для отдела маркетинга**: Для службы проката самокатов GoFast имеет смысл расспространять промокоды среди пользователей без подписки, с целью привлечения новых подписчиков, ведь пользователи с подпиской приносят больший доход, чем пользователи без подписки. Значения расстояния маршрутов и длительность поездок у подписчиков 'ultra' более однородные, чем у пользователей без подписки."
   ]
  },
  {
   "cell_type": "code",
   "execution_count": null,
   "id": "252a43f5-cbe1-40d3-84a2-338c7248bace",
   "metadata": {},
   "outputs": [],
   "source": []
  }
 ],
 "metadata": {
  "ExecuteTimeLog": [
   {
    "duration": 54,
    "start_time": "2024-06-09T08:58:59.299Z"
   },
   {
    "duration": 943,
    "start_time": "2024-06-09T08:59:07.266Z"
   },
   {
    "duration": 71,
    "start_time": "2024-06-09T08:59:08.588Z"
   },
   {
    "duration": 3,
    "start_time": "2024-06-09T09:00:11.318Z"
   },
   {
    "duration": 40,
    "start_time": "2024-06-09T09:00:13.355Z"
   },
   {
    "duration": 101,
    "start_time": "2024-06-09T09:01:12.673Z"
   },
   {
    "duration": 23,
    "start_time": "2024-06-09T09:35:37.056Z"
   },
   {
    "duration": 80,
    "start_time": "2024-06-09T09:36:17.630Z"
   },
   {
    "duration": 12,
    "start_time": "2024-06-09T09:36:36.673Z"
   },
   {
    "duration": 75,
    "start_time": "2024-06-09T09:37:06.323Z"
   },
   {
    "duration": 16,
    "start_time": "2024-06-09T09:40:51.893Z"
   },
   {
    "duration": 10,
    "start_time": "2024-06-09T09:41:21.771Z"
   },
   {
    "duration": 9,
    "start_time": "2024-06-09T09:41:38.291Z"
   },
   {
    "duration": 8,
    "start_time": "2024-06-09T09:41:51.673Z"
   },
   {
    "duration": 5,
    "start_time": "2024-06-09T09:42:10.682Z"
   },
   {
    "duration": 7,
    "start_time": "2024-06-09T09:42:30.446Z"
   },
   {
    "duration": 8,
    "start_time": "2024-06-09T09:42:56.504Z"
   },
   {
    "duration": 6,
    "start_time": "2024-06-09T09:43:43.824Z"
   },
   {
    "duration": 7,
    "start_time": "2024-06-09T09:43:47.477Z"
   },
   {
    "duration": 8,
    "start_time": "2024-06-09T09:43:47.595Z"
   },
   {
    "duration": 17,
    "start_time": "2024-06-09T09:44:49.826Z"
   },
   {
    "duration": 216,
    "start_time": "2024-06-09T09:45:09.045Z"
   },
   {
    "duration": 12,
    "start_time": "2024-06-09T09:45:59.347Z"
   },
   {
    "duration": 144,
    "start_time": "2024-06-09T09:46:00.081Z"
   },
   {
    "duration": 14,
    "start_time": "2024-06-09T09:46:49.801Z"
   },
   {
    "duration": 157,
    "start_time": "2024-06-09T09:47:48.106Z"
   },
   {
    "duration": 9,
    "start_time": "2024-06-09T09:48:33.584Z"
   },
   {
    "duration": 196,
    "start_time": "2024-06-09T09:48:53.508Z"
   },
   {
    "duration": 235,
    "start_time": "2024-06-09T09:49:17.196Z"
   },
   {
    "duration": 8,
    "start_time": "2024-06-09T09:50:03.111Z"
   },
   {
    "duration": 195,
    "start_time": "2024-06-09T09:50:19.051Z"
   },
   {
    "duration": 175,
    "start_time": "2024-06-09T09:50:36.927Z"
   },
   {
    "duration": 31,
    "start_time": "2024-06-09T09:51:56.767Z"
   },
   {
    "duration": 13,
    "start_time": "2024-06-09T09:52:27.488Z"
   },
   {
    "duration": 18,
    "start_time": "2024-06-09T09:53:03.560Z"
   },
   {
    "duration": 180,
    "start_time": "2024-06-09T09:53:20.715Z"
   },
   {
    "duration": 151,
    "start_time": "2024-06-09T09:53:36.002Z"
   },
   {
    "duration": 16,
    "start_time": "2024-06-09T09:53:56.087Z"
   },
   {
    "duration": 211,
    "start_time": "2024-06-09T09:54:11.012Z"
   },
   {
    "duration": 171,
    "start_time": "2024-06-09T09:54:29.120Z"
   },
   {
    "duration": 223,
    "start_time": "2024-06-09T09:54:36.546Z"
   },
   {
    "duration": 188,
    "start_time": "2024-06-09T09:55:23.312Z"
   },
   {
    "duration": 6,
    "start_time": "2024-06-09T09:55:53.685Z"
   },
   {
    "duration": 15,
    "start_time": "2024-06-09T09:56:17.322Z"
   },
   {
    "duration": 15,
    "start_time": "2024-06-09T10:00:20.369Z"
   },
   {
    "duration": 19,
    "start_time": "2024-06-09T10:00:53.674Z"
   },
   {
    "duration": 13,
    "start_time": "2024-06-09T10:01:26.590Z"
   },
   {
    "duration": 13,
    "start_time": "2024-06-09T10:01:47.949Z"
   },
   {
    "duration": 79,
    "start_time": "2024-06-09T10:03:34.311Z"
   },
   {
    "duration": 12,
    "start_time": "2024-06-09T10:07:00.922Z"
   },
   {
    "duration": 9,
    "start_time": "2024-06-09T10:07:35.812Z"
   },
   {
    "duration": 9,
    "start_time": "2024-06-09T10:36:39.118Z"
   },
   {
    "duration": 34,
    "start_time": "2024-06-09T10:36:46.149Z"
   },
   {
    "duration": 11,
    "start_time": "2024-06-09T10:36:47.236Z"
   },
   {
    "duration": 31,
    "start_time": "2024-06-09T10:36:59.153Z"
   },
   {
    "duration": 18,
    "start_time": "2024-06-09T10:37:12.036Z"
   },
   {
    "duration": 2,
    "start_time": "2024-06-09T10:37:19.851Z"
   },
   {
    "duration": 46,
    "start_time": "2024-06-09T10:37:20.906Z"
   },
   {
    "duration": 11,
    "start_time": "2024-06-09T10:37:23.148Z"
   },
   {
    "duration": 34,
    "start_time": "2024-06-09T10:37:24.291Z"
   },
   {
    "duration": 11,
    "start_time": "2024-06-09T10:37:25.442Z"
   },
   {
    "duration": 31,
    "start_time": "2024-06-09T10:37:26.694Z"
   },
   {
    "duration": 96,
    "start_time": "2024-06-09T10:37:32.718Z"
   },
   {
    "duration": 12,
    "start_time": "2024-06-09T10:38:46.204Z"
   },
   {
    "duration": 189,
    "start_time": "2024-06-09T10:38:50.988Z"
   },
   {
    "duration": 12,
    "start_time": "2024-06-09T10:38:59.949Z"
   },
   {
    "duration": 157,
    "start_time": "2024-06-09T10:39:02.412Z"
   },
   {
    "duration": 12,
    "start_time": "2024-06-09T10:39:03.951Z"
   },
   {
    "duration": 161,
    "start_time": "2024-06-09T10:39:04.067Z"
   },
   {
    "duration": 24,
    "start_time": "2024-06-09T10:41:03.715Z"
   },
   {
    "duration": 30,
    "start_time": "2024-06-09T10:44:44.214Z"
   },
   {
    "duration": 14,
    "start_time": "2024-06-09T10:44:53.044Z"
   },
   {
    "duration": 17,
    "start_time": "2024-06-09T10:45:37.961Z"
   },
   {
    "duration": 16,
    "start_time": "2024-06-09T10:45:38.064Z"
   },
   {
    "duration": 8,
    "start_time": "2024-06-09T10:46:06.759Z"
   },
   {
    "duration": 17,
    "start_time": "2024-06-09T10:46:28.185Z"
   },
   {
    "duration": 5,
    "start_time": "2024-06-09T10:46:56.009Z"
   },
   {
    "duration": 17,
    "start_time": "2024-06-09T10:46:57.401Z"
   },
   {
    "duration": 14,
    "start_time": "2024-06-09T10:47:20.287Z"
   },
   {
    "duration": 14,
    "start_time": "2024-06-09T10:47:27.689Z"
   },
   {
    "duration": 12,
    "start_time": "2024-06-09T10:47:43.073Z"
   },
   {
    "duration": 12,
    "start_time": "2024-06-09T10:48:05.327Z"
   },
   {
    "duration": 15,
    "start_time": "2024-06-09T10:49:16.992Z"
   },
   {
    "duration": 3,
    "start_time": "2024-06-09T10:49:22.686Z"
   },
   {
    "duration": 44,
    "start_time": "2024-06-09T10:49:22.719Z"
   },
   {
    "duration": 11,
    "start_time": "2024-06-09T10:49:22.765Z"
   },
   {
    "duration": 23,
    "start_time": "2024-06-09T10:49:22.792Z"
   },
   {
    "duration": 14,
    "start_time": "2024-06-09T10:49:22.816Z"
   },
   {
    "duration": 19,
    "start_time": "2024-06-09T10:49:22.849Z"
   },
   {
    "duration": 20,
    "start_time": "2024-06-09T10:49:22.885Z"
   },
   {
    "duration": 7,
    "start_time": "2024-06-09T10:49:22.952Z"
   },
   {
    "duration": 7,
    "start_time": "2024-06-09T10:49:22.993Z"
   },
   {
    "duration": 5,
    "start_time": "2024-06-09T10:49:23.003Z"
   },
   {
    "duration": 5,
    "start_time": "2024-06-09T10:49:23.012Z"
   },
   {
    "duration": 6,
    "start_time": "2024-06-09T10:49:23.031Z"
   },
   {
    "duration": 8,
    "start_time": "2024-06-09T10:49:23.046Z"
   },
   {
    "duration": 10,
    "start_time": "2024-06-09T10:49:23.056Z"
   },
   {
    "duration": 6,
    "start_time": "2024-06-09T10:49:23.081Z"
   },
   {
    "duration": 7,
    "start_time": "2024-06-09T10:49:23.090Z"
   },
   {
    "duration": 14,
    "start_time": "2024-06-09T10:49:23.147Z"
   },
   {
    "duration": 231,
    "start_time": "2024-06-09T10:49:23.163Z"
   },
   {
    "duration": 14,
    "start_time": "2024-06-09T10:49:23.396Z"
   },
   {
    "duration": 168,
    "start_time": "2024-06-09T10:49:23.413Z"
   },
   {
    "duration": 13,
    "start_time": "2024-06-09T10:49:23.582Z"
   },
   {
    "duration": 207,
    "start_time": "2024-06-09T10:49:23.596Z"
   },
   {
    "duration": 10,
    "start_time": "2024-06-09T10:49:23.805Z"
   },
   {
    "duration": 220,
    "start_time": "2024-06-09T10:49:23.816Z"
   },
   {
    "duration": 175,
    "start_time": "2024-06-09T10:49:24.039Z"
   },
   {
    "duration": 8,
    "start_time": "2024-06-09T10:49:24.216Z"
   },
   {
    "duration": 205,
    "start_time": "2024-06-09T10:49:24.226Z"
   },
   {
    "duration": 203,
    "start_time": "2024-06-09T10:49:24.432Z"
   },
   {
    "duration": 31,
    "start_time": "2024-06-09T10:49:24.638Z"
   },
   {
    "duration": 13,
    "start_time": "2024-06-09T10:49:24.671Z"
   },
   {
    "duration": 18,
    "start_time": "2024-06-09T10:49:24.686Z"
   },
   {
    "duration": 42,
    "start_time": "2024-06-09T10:49:24.706Z"
   },
   {
    "duration": 6,
    "start_time": "2024-06-09T10:49:24.750Z"
   },
   {
    "duration": 36,
    "start_time": "2024-06-09T10:49:24.757Z"
   },
   {
    "duration": 20,
    "start_time": "2024-06-09T10:49:24.794Z"
   },
   {
    "duration": 106,
    "start_time": "2024-06-09T10:49:24.815Z"
   },
   {
    "duration": 12,
    "start_time": "2024-06-09T10:49:24.923Z"
   },
   {
    "duration": 12,
    "start_time": "2024-06-09T10:49:24.946Z"
   },
   {
    "duration": 7,
    "start_time": "2024-06-09T10:49:24.959Z"
   },
   {
    "duration": 3,
    "start_time": "2024-06-09T10:49:48.765Z"
   },
   {
    "duration": 45,
    "start_time": "2024-06-09T10:49:50.347Z"
   },
   {
    "duration": 12,
    "start_time": "2024-06-09T10:50:00.250Z"
   },
   {
    "duration": 34,
    "start_time": "2024-06-09T10:50:14.447Z"
   },
   {
    "duration": 11,
    "start_time": "2024-06-09T10:50:21.037Z"
   },
   {
    "duration": 34,
    "start_time": "2024-06-09T10:50:22.836Z"
   },
   {
    "duration": 21,
    "start_time": "2024-06-09T10:50:27.243Z"
   },
   {
    "duration": 8,
    "start_time": "2024-06-09T10:50:31.321Z"
   },
   {
    "duration": 7,
    "start_time": "2024-06-09T10:50:32.412Z"
   },
   {
    "duration": 6,
    "start_time": "2024-06-09T10:50:33.564Z"
   },
   {
    "duration": 5,
    "start_time": "2024-06-09T10:50:34.830Z"
   },
   {
    "duration": 8,
    "start_time": "2024-06-09T10:51:06.509Z"
   },
   {
    "duration": 8,
    "start_time": "2024-06-09T10:51:06.637Z"
   },
   {
    "duration": 6,
    "start_time": "2024-06-09T10:51:07.485Z"
   },
   {
    "duration": 6,
    "start_time": "2024-06-09T10:51:08.549Z"
   },
   {
    "duration": 6,
    "start_time": "2024-06-09T10:51:09.464Z"
   },
   {
    "duration": 12,
    "start_time": "2024-06-09T10:51:16.206Z"
   },
   {
    "duration": 209,
    "start_time": "2024-06-09T10:51:17.478Z"
   },
   {
    "duration": 13,
    "start_time": "2024-06-09T10:51:22.639Z"
   },
   {
    "duration": 152,
    "start_time": "2024-06-09T10:51:23.653Z"
   },
   {
    "duration": 13,
    "start_time": "2024-06-09T10:51:32.198Z"
   },
   {
    "duration": 170,
    "start_time": "2024-06-09T10:51:33.664Z"
   },
   {
    "duration": 12,
    "start_time": "2024-06-09T10:51:37.763Z"
   },
   {
    "duration": 188,
    "start_time": "2024-06-09T10:51:39.482Z"
   },
   {
    "duration": 189,
    "start_time": "2024-06-09T10:51:45.279Z"
   },
   {
    "duration": 9,
    "start_time": "2024-06-09T10:51:50.835Z"
   },
   {
    "duration": 193,
    "start_time": "2024-06-09T10:51:52.245Z"
   },
   {
    "duration": 179,
    "start_time": "2024-06-09T10:51:55.031Z"
   },
   {
    "duration": 30,
    "start_time": "2024-06-09T10:52:18.708Z"
   },
   {
    "duration": 15,
    "start_time": "2024-06-09T10:52:18.841Z"
   },
   {
    "duration": 35,
    "start_time": "2024-06-09T10:53:04.881Z"
   },
   {
    "duration": 7,
    "start_time": "2024-06-09T10:53:34.072Z"
   },
   {
    "duration": 5,
    "start_time": "2024-06-09T10:55:47.133Z"
   },
   {
    "duration": 5,
    "start_time": "2024-06-09T10:56:58.991Z"
   },
   {
    "duration": 17,
    "start_time": "2024-06-09T10:59:51.399Z"
   },
   {
    "duration": 32,
    "start_time": "2024-06-09T11:00:36.480Z"
   },
   {
    "duration": 17,
    "start_time": "2024-06-09T11:02:31.852Z"
   },
   {
    "duration": 24,
    "start_time": "2024-06-09T11:02:32.185Z"
   },
   {
    "duration": 17,
    "start_time": "2024-06-09T11:03:14.720Z"
   },
   {
    "duration": 17,
    "start_time": "2024-06-09T11:03:22.249Z"
   },
   {
    "duration": 16,
    "start_time": "2024-06-09T11:03:28.318Z"
   },
   {
    "duration": 16,
    "start_time": "2024-06-09T11:05:17.282Z"
   },
   {
    "duration": 13,
    "start_time": "2024-06-09T11:05:17.440Z"
   },
   {
    "duration": 16,
    "start_time": "2024-06-09T11:06:06.761Z"
   },
   {
    "duration": 16,
    "start_time": "2024-06-09T11:07:50.638Z"
   },
   {
    "duration": 20,
    "start_time": "2024-06-09T11:09:06.287Z"
   },
   {
    "duration": 9,
    "start_time": "2024-06-09T11:10:54.602Z"
   },
   {
    "duration": 20,
    "start_time": "2024-06-09T11:12:17.641Z"
   },
   {
    "duration": 16,
    "start_time": "2024-06-09T11:12:45.106Z"
   },
   {
    "duration": 9,
    "start_time": "2024-06-09T11:12:51.479Z"
   },
   {
    "duration": 9,
    "start_time": "2024-06-09T11:12:57.391Z"
   },
   {
    "duration": 29,
    "start_time": "2024-06-09T12:46:39.067Z"
   },
   {
    "duration": 53,
    "start_time": "2024-06-09T12:52:21.673Z"
   },
   {
    "duration": 10,
    "start_time": "2024-06-09T12:52:51.145Z"
   },
   {
    "duration": 61,
    "start_time": "2024-06-09T12:52:51.157Z"
   },
   {
    "duration": 14,
    "start_time": "2024-06-09T12:52:51.220Z"
   },
   {
    "duration": 37,
    "start_time": "2024-06-09T12:52:51.236Z"
   },
   {
    "duration": 11,
    "start_time": "2024-06-09T12:52:51.275Z"
   },
   {
    "duration": 39,
    "start_time": "2024-06-09T12:52:51.288Z"
   },
   {
    "duration": 7,
    "start_time": "2024-06-09T12:52:51.329Z"
   },
   {
    "duration": 36,
    "start_time": "2024-06-09T12:52:51.338Z"
   },
   {
    "duration": 11,
    "start_time": "2024-06-09T12:52:51.376Z"
   },
   {
    "duration": 5,
    "start_time": "2024-06-09T12:52:51.389Z"
   },
   {
    "duration": 24,
    "start_time": "2024-06-09T12:52:51.398Z"
   },
   {
    "duration": 33,
    "start_time": "2024-06-09T12:52:51.424Z"
   },
   {
    "duration": 7,
    "start_time": "2024-06-09T12:52:51.460Z"
   },
   {
    "duration": 13,
    "start_time": "2024-06-09T12:52:51.469Z"
   },
   {
    "duration": 7,
    "start_time": "2024-06-09T12:52:51.484Z"
   },
   {
    "duration": 6,
    "start_time": "2024-06-09T12:52:51.493Z"
   },
   {
    "duration": 22,
    "start_time": "2024-06-09T12:52:51.501Z"
   },
   {
    "duration": 8,
    "start_time": "2024-06-09T12:52:51.525Z"
   },
   {
    "duration": 24,
    "start_time": "2024-06-09T12:52:51.535Z"
   },
   {
    "duration": 220,
    "start_time": "2024-06-09T12:52:51.561Z"
   },
   {
    "duration": 15,
    "start_time": "2024-06-09T12:52:51.783Z"
   },
   {
    "duration": 187,
    "start_time": "2024-06-09T12:52:51.800Z"
   },
   {
    "duration": 13,
    "start_time": "2024-06-09T12:52:51.989Z"
   },
   {
    "duration": 173,
    "start_time": "2024-06-09T12:52:52.004Z"
   },
   {
    "duration": 9,
    "start_time": "2024-06-09T12:52:52.179Z"
   },
   {
    "duration": 209,
    "start_time": "2024-06-09T12:52:52.190Z"
   },
   {
    "duration": 188,
    "start_time": "2024-06-09T12:52:52.401Z"
   },
   {
    "duration": 10,
    "start_time": "2024-06-09T12:52:52.591Z"
   },
   {
    "duration": 218,
    "start_time": "2024-06-09T12:52:52.606Z"
   },
   {
    "duration": 189,
    "start_time": "2024-06-09T12:52:52.826Z"
   },
   {
    "duration": 47,
    "start_time": "2024-06-09T12:52:53.016Z"
   },
   {
    "duration": 24,
    "start_time": "2024-06-09T12:52:53.065Z"
   },
   {
    "duration": 66,
    "start_time": "2024-06-09T12:52:53.090Z"
   },
   {
    "duration": 18,
    "start_time": "2024-06-09T12:52:53.157Z"
   },
   {
    "duration": 206,
    "start_time": "2024-06-09T12:52:53.177Z"
   },
   {
    "duration": 13,
    "start_time": "2024-06-09T12:52:53.385Z"
   },
   {
    "duration": 12,
    "start_time": "2024-06-09T12:52:53.400Z"
   },
   {
    "duration": 9,
    "start_time": "2024-06-09T12:52:53.413Z"
   },
   {
    "duration": 40,
    "start_time": "2024-06-09T12:52:53.424Z"
   },
   {
    "duration": 13,
    "start_time": "2024-06-09T12:52:53.466Z"
   },
   {
    "duration": 3,
    "start_time": "2024-06-09T13:00:38.565Z"
   },
   {
    "duration": 57,
    "start_time": "2024-06-09T13:00:38.570Z"
   },
   {
    "duration": 12,
    "start_time": "2024-06-09T13:00:38.629Z"
   },
   {
    "duration": 23,
    "start_time": "2024-06-09T13:00:38.660Z"
   },
   {
    "duration": 11,
    "start_time": "2024-06-09T13:00:38.685Z"
   },
   {
    "duration": 25,
    "start_time": "2024-06-09T13:00:38.697Z"
   },
   {
    "duration": 7,
    "start_time": "2024-06-09T13:00:38.724Z"
   },
   {
    "duration": 23,
    "start_time": "2024-06-09T13:00:38.733Z"
   },
   {
    "duration": 8,
    "start_time": "2024-06-09T13:00:38.758Z"
   },
   {
    "duration": 5,
    "start_time": "2024-06-09T13:00:38.871Z"
   },
   {
    "duration": 18,
    "start_time": "2024-06-09T13:00:38.878Z"
   },
   {
    "duration": 5,
    "start_time": "2024-06-09T13:00:38.898Z"
   },
   {
    "duration": 11,
    "start_time": "2024-06-09T13:00:38.905Z"
   },
   {
    "duration": 17,
    "start_time": "2024-06-09T13:00:38.918Z"
   },
   {
    "duration": 7,
    "start_time": "2024-06-09T13:00:38.937Z"
   },
   {
    "duration": 6,
    "start_time": "2024-06-09T13:00:38.997Z"
   },
   {
    "duration": 18,
    "start_time": "2024-06-09T13:00:39.005Z"
   },
   {
    "duration": 12,
    "start_time": "2024-06-09T13:00:39.025Z"
   },
   {
    "duration": 13,
    "start_time": "2024-06-09T13:00:39.039Z"
   },
   {
    "duration": 194,
    "start_time": "2024-06-09T13:00:39.054Z"
   },
   {
    "duration": 12,
    "start_time": "2024-06-09T13:00:39.250Z"
   },
   {
    "duration": 158,
    "start_time": "2024-06-09T13:00:39.263Z"
   },
   {
    "duration": 24,
    "start_time": "2024-06-09T13:00:39.423Z"
   },
   {
    "duration": 163,
    "start_time": "2024-06-09T13:00:39.449Z"
   },
   {
    "duration": 8,
    "start_time": "2024-06-09T13:00:39.614Z"
   },
   {
    "duration": 210,
    "start_time": "2024-06-09T13:00:39.624Z"
   },
   {
    "duration": 194,
    "start_time": "2024-06-09T13:00:39.836Z"
   },
   {
    "duration": 15,
    "start_time": "2024-06-09T13:00:40.032Z"
   },
   {
    "duration": 209,
    "start_time": "2024-06-09T13:00:40.049Z"
   },
   {
    "duration": 195,
    "start_time": "2024-06-09T13:00:40.260Z"
   },
   {
    "duration": 29,
    "start_time": "2024-06-09T13:00:40.457Z"
   },
   {
    "duration": 26,
    "start_time": "2024-06-09T13:00:40.488Z"
   },
   {
    "duration": 42,
    "start_time": "2024-06-09T13:00:40.516Z"
   },
   {
    "duration": 21,
    "start_time": "2024-06-09T13:00:40.560Z"
   },
   {
    "duration": 69,
    "start_time": "2024-06-09T13:00:40.583Z"
   },
   {
    "duration": 15,
    "start_time": "2024-06-09T13:00:40.654Z"
   },
   {
    "duration": 12,
    "start_time": "2024-06-09T13:00:40.670Z"
   },
   {
    "duration": 9,
    "start_time": "2024-06-09T13:00:40.683Z"
   },
   {
    "duration": 14,
    "start_time": "2024-06-09T13:00:40.693Z"
   },
   {
    "duration": 39,
    "start_time": "2024-06-09T13:00:40.709Z"
   },
   {
    "duration": 1018,
    "start_time": "2024-06-09T13:05:37.933Z"
   },
   {
    "duration": 1053,
    "start_time": "2024-06-09T13:05:48.720Z"
   },
   {
    "duration": 1155,
    "start_time": "2024-06-09T13:10:19.980Z"
   },
   {
    "duration": 42,
    "start_time": "2024-06-09T13:11:10.349Z"
   },
   {
    "duration": 1140,
    "start_time": "2024-06-09T13:11:10.405Z"
   },
   {
    "duration": 1138,
    "start_time": "2024-06-09T13:11:50.066Z"
   },
   {
    "duration": 30,
    "start_time": "2024-06-09T13:12:37.496Z"
   },
   {
    "duration": 12,
    "start_time": "2024-06-09T13:14:19.729Z"
   },
   {
    "duration": 12,
    "start_time": "2024-06-09T13:14:43.987Z"
   },
   {
    "duration": 18,
    "start_time": "2024-06-09T13:15:04.840Z"
   },
   {
    "duration": 16,
    "start_time": "2024-06-09T13:17:47.446Z"
   },
   {
    "duration": 20,
    "start_time": "2024-06-09T13:20:03.386Z"
   },
   {
    "duration": 15,
    "start_time": "2024-06-09T13:21:32.246Z"
   },
   {
    "duration": 16,
    "start_time": "2024-06-09T13:23:09.966Z"
   },
   {
    "duration": 3,
    "start_time": "2024-06-09T13:23:17.465Z"
   },
   {
    "duration": 75,
    "start_time": "2024-06-09T13:23:17.470Z"
   },
   {
    "duration": 13,
    "start_time": "2024-06-09T13:23:17.547Z"
   },
   {
    "duration": 34,
    "start_time": "2024-06-09T13:23:17.562Z"
   },
   {
    "duration": 11,
    "start_time": "2024-06-09T13:23:17.598Z"
   },
   {
    "duration": 40,
    "start_time": "2024-06-09T13:23:17.611Z"
   },
   {
    "duration": 7,
    "start_time": "2024-06-09T13:23:17.653Z"
   },
   {
    "duration": 43,
    "start_time": "2024-06-09T13:23:17.662Z"
   },
   {
    "duration": 8,
    "start_time": "2024-06-09T13:23:17.706Z"
   },
   {
    "duration": 14,
    "start_time": "2024-06-09T13:23:17.716Z"
   },
   {
    "duration": 16,
    "start_time": "2024-06-09T13:23:17.732Z"
   },
   {
    "duration": 31,
    "start_time": "2024-06-09T13:23:17.750Z"
   },
   {
    "duration": 18,
    "start_time": "2024-06-09T13:23:17.783Z"
   },
   {
    "duration": 13,
    "start_time": "2024-06-09T13:23:17.803Z"
   },
   {
    "duration": 8,
    "start_time": "2024-06-09T13:23:17.817Z"
   },
   {
    "duration": 6,
    "start_time": "2024-06-09T13:23:17.827Z"
   },
   {
    "duration": 15,
    "start_time": "2024-06-09T13:23:17.834Z"
   },
   {
    "duration": 48,
    "start_time": "2024-06-09T13:23:17.850Z"
   },
   {
    "duration": 131,
    "start_time": "2024-06-09T13:23:17.900Z"
   },
   {
    "duration": 200,
    "start_time": "2024-06-09T13:23:18.032Z"
   },
   {
    "duration": 16,
    "start_time": "2024-06-09T13:23:18.234Z"
   },
   {
    "duration": 154,
    "start_time": "2024-06-09T13:23:18.253Z"
   },
   {
    "duration": 13,
    "start_time": "2024-06-09T13:23:18.409Z"
   },
   {
    "duration": 186,
    "start_time": "2024-06-09T13:23:18.423Z"
   },
   {
    "duration": 10,
    "start_time": "2024-06-09T13:23:18.610Z"
   },
   {
    "duration": 214,
    "start_time": "2024-06-09T13:23:18.623Z"
   },
   {
    "duration": 209,
    "start_time": "2024-06-09T13:23:18.839Z"
   },
   {
    "duration": 11,
    "start_time": "2024-06-09T13:23:19.050Z"
   },
   {
    "duration": 210,
    "start_time": "2024-06-09T13:23:19.063Z"
   },
   {
    "duration": 366,
    "start_time": "2024-06-09T13:23:19.275Z"
   },
   {
    "duration": 33,
    "start_time": "2024-06-09T13:23:19.642Z"
   },
   {
    "duration": 24,
    "start_time": "2024-06-09T13:23:19.677Z"
   },
   {
    "duration": 47,
    "start_time": "2024-06-09T13:23:19.703Z"
   },
   {
    "duration": 16,
    "start_time": "2024-06-09T13:23:19.752Z"
   },
   {
    "duration": 82,
    "start_time": "2024-06-09T13:23:19.770Z"
   },
   {
    "duration": 13,
    "start_time": "2024-06-09T13:23:19.854Z"
   },
   {
    "duration": 41,
    "start_time": "2024-06-09T13:23:19.868Z"
   },
   {
    "duration": 7,
    "start_time": "2024-06-09T13:23:19.911Z"
   },
   {
    "duration": 14,
    "start_time": "2024-06-09T13:24:54.715Z"
   },
   {
    "duration": 14,
    "start_time": "2024-06-09T13:25:01.298Z"
   },
   {
    "duration": 15,
    "start_time": "2024-06-09T13:25:02.620Z"
   },
   {
    "duration": 9,
    "start_time": "2024-06-09T13:25:05.062Z"
   },
   {
    "duration": 3,
    "start_time": "2024-06-09T13:25:12.365Z"
   },
   {
    "duration": 52,
    "start_time": "2024-06-09T13:25:12.370Z"
   },
   {
    "duration": 11,
    "start_time": "2024-06-09T13:25:12.424Z"
   },
   {
    "duration": 31,
    "start_time": "2024-06-09T13:25:12.436Z"
   },
   {
    "duration": 11,
    "start_time": "2024-06-09T13:25:12.469Z"
   },
   {
    "duration": 31,
    "start_time": "2024-06-09T13:25:12.482Z"
   },
   {
    "duration": 8,
    "start_time": "2024-06-09T13:25:12.515Z"
   },
   {
    "duration": 24,
    "start_time": "2024-06-09T13:25:12.525Z"
   },
   {
    "duration": 19,
    "start_time": "2024-06-09T13:25:12.551Z"
   },
   {
    "duration": 6,
    "start_time": "2024-06-09T13:25:12.572Z"
   },
   {
    "duration": 10,
    "start_time": "2024-06-09T13:25:12.579Z"
   },
   {
    "duration": 8,
    "start_time": "2024-06-09T13:25:12.591Z"
   },
   {
    "duration": 8,
    "start_time": "2024-06-09T13:25:12.600Z"
   },
   {
    "duration": 8,
    "start_time": "2024-06-09T13:25:12.612Z"
   },
   {
    "duration": 10,
    "start_time": "2024-06-09T13:25:12.649Z"
   },
   {
    "duration": 16,
    "start_time": "2024-06-09T13:25:12.661Z"
   },
   {
    "duration": 42,
    "start_time": "2024-06-09T13:25:12.679Z"
   },
   {
    "duration": 8,
    "start_time": "2024-06-09T13:25:12.724Z"
   },
   {
    "duration": 20,
    "start_time": "2024-06-09T13:25:12.733Z"
   },
   {
    "duration": 198,
    "start_time": "2024-06-09T13:25:12.755Z"
   },
   {
    "duration": 12,
    "start_time": "2024-06-09T13:25:12.955Z"
   },
   {
    "duration": 166,
    "start_time": "2024-06-09T13:25:12.969Z"
   },
   {
    "duration": 18,
    "start_time": "2024-06-09T13:25:13.138Z"
   },
   {
    "duration": 172,
    "start_time": "2024-06-09T13:25:13.157Z"
   },
   {
    "duration": 16,
    "start_time": "2024-06-09T13:25:13.330Z"
   },
   {
    "duration": 194,
    "start_time": "2024-06-09T13:25:13.348Z"
   },
   {
    "duration": 180,
    "start_time": "2024-06-09T13:25:13.543Z"
   },
   {
    "duration": 8,
    "start_time": "2024-06-09T13:25:13.725Z"
   },
   {
    "duration": 207,
    "start_time": "2024-06-09T13:25:13.734Z"
   },
   {
    "duration": 183,
    "start_time": "2024-06-09T13:25:13.945Z"
   },
   {
    "duration": 34,
    "start_time": "2024-06-09T13:25:14.130Z"
   },
   {
    "duration": 22,
    "start_time": "2024-06-09T13:25:14.166Z"
   },
   {
    "duration": 26,
    "start_time": "2024-06-09T13:25:14.190Z"
   },
   {
    "duration": 35,
    "start_time": "2024-06-09T13:25:14.218Z"
   },
   {
    "duration": 29,
    "start_time": "2024-06-09T13:25:14.255Z"
   },
   {
    "duration": 22,
    "start_time": "2024-06-09T13:25:14.285Z"
   },
   {
    "duration": 23,
    "start_time": "2024-06-09T13:25:14.309Z"
   },
   {
    "duration": 21,
    "start_time": "2024-06-09T13:25:14.334Z"
   },
   {
    "duration": 15,
    "start_time": "2024-06-09T13:26:23.170Z"
   },
   {
    "duration": 14,
    "start_time": "2024-06-09T13:27:22.704Z"
   },
   {
    "duration": 15,
    "start_time": "2024-06-09T13:27:35.162Z"
   },
   {
    "duration": 14,
    "start_time": "2024-06-09T13:27:57.342Z"
   },
   {
    "duration": 14,
    "start_time": "2024-06-09T13:29:15.265Z"
   },
   {
    "duration": 3,
    "start_time": "2024-06-09T13:29:46.070Z"
   },
   {
    "duration": 4,
    "start_time": "2024-06-09T13:30:13.550Z"
   },
   {
    "duration": 27,
    "start_time": "2024-06-09T13:31:51.249Z"
   },
   {
    "duration": 25,
    "start_time": "2024-06-09T13:32:22.996Z"
   },
   {
    "duration": 25,
    "start_time": "2024-06-09T13:32:44.831Z"
   },
   {
    "duration": 52,
    "start_time": "2024-06-09T13:35:23.253Z"
   },
   {
    "duration": 961,
    "start_time": "2024-06-09T13:35:23.307Z"
   },
   {
    "duration": 47,
    "start_time": "2024-06-09T13:38:20.811Z"
   },
   {
    "duration": 52,
    "start_time": "2024-06-09T13:39:30.579Z"
   },
   {
    "duration": 56,
    "start_time": "2024-06-09T13:39:48.491Z"
   },
   {
    "duration": 57,
    "start_time": "2024-06-09T13:40:07.462Z"
   },
   {
    "duration": 46,
    "start_time": "2024-06-09T13:42:54.663Z"
   },
   {
    "duration": 1035,
    "start_time": "2024-06-09T13:42:54.742Z"
   },
   {
    "duration": 55,
    "start_time": "2024-06-09T13:43:43.747Z"
   },
   {
    "duration": 52,
    "start_time": "2024-06-09T13:44:22.752Z"
   },
   {
    "duration": 15,
    "start_time": "2024-06-09T13:44:57.708Z"
   },
   {
    "duration": 977,
    "start_time": "2024-06-09T13:46:11.712Z"
   },
   {
    "duration": 1015,
    "start_time": "2024-06-09T13:46:26.061Z"
   },
   {
    "duration": 990,
    "start_time": "2024-06-09T13:47:08.594Z"
   },
   {
    "duration": 994,
    "start_time": "2024-06-09T13:47:16.780Z"
   },
   {
    "duration": 0,
    "start_time": "2024-06-09T13:47:17.776Z"
   },
   {
    "duration": 15,
    "start_time": "2024-06-09T13:47:38.868Z"
   },
   {
    "duration": 16,
    "start_time": "2024-06-09T13:51:18.668Z"
   },
   {
    "duration": 11,
    "start_time": "2024-06-09T13:51:21.978Z"
   },
   {
    "duration": 14,
    "start_time": "2024-06-09T13:51:53.577Z"
   },
   {
    "duration": 14,
    "start_time": "2024-06-09T13:52:55.104Z"
   },
   {
    "duration": 3,
    "start_time": "2024-06-09T13:53:11.097Z"
   },
   {
    "duration": 64,
    "start_time": "2024-06-09T13:53:11.109Z"
   },
   {
    "duration": 12,
    "start_time": "2024-06-09T13:53:11.175Z"
   },
   {
    "duration": 25,
    "start_time": "2024-06-09T13:53:11.189Z"
   },
   {
    "duration": 11,
    "start_time": "2024-06-09T13:53:11.216Z"
   },
   {
    "duration": 42,
    "start_time": "2024-06-09T13:53:11.229Z"
   },
   {
    "duration": 8,
    "start_time": "2024-06-09T13:53:11.273Z"
   },
   {
    "duration": 24,
    "start_time": "2024-06-09T13:53:11.283Z"
   },
   {
    "duration": 8,
    "start_time": "2024-06-09T13:53:11.309Z"
   },
   {
    "duration": 4,
    "start_time": "2024-06-09T13:53:11.319Z"
   },
   {
    "duration": 7,
    "start_time": "2024-06-09T13:53:11.325Z"
   },
   {
    "duration": 13,
    "start_time": "2024-06-09T13:53:11.351Z"
   },
   {
    "duration": 8,
    "start_time": "2024-06-09T13:53:11.366Z"
   },
   {
    "duration": 10,
    "start_time": "2024-06-09T13:53:11.376Z"
   },
   {
    "duration": 7,
    "start_time": "2024-06-09T13:53:11.389Z"
   },
   {
    "duration": 6,
    "start_time": "2024-06-09T13:53:11.397Z"
   },
   {
    "duration": 6,
    "start_time": "2024-06-09T13:53:11.405Z"
   },
   {
    "duration": 45,
    "start_time": "2024-06-09T13:53:11.413Z"
   },
   {
    "duration": 26,
    "start_time": "2024-06-09T13:53:11.460Z"
   },
   {
    "duration": 199,
    "start_time": "2024-06-09T13:53:11.488Z"
   },
   {
    "duration": 13,
    "start_time": "2024-06-09T13:53:11.690Z"
   },
   {
    "duration": 188,
    "start_time": "2024-06-09T13:53:11.705Z"
   },
   {
    "duration": 13,
    "start_time": "2024-06-09T13:53:11.894Z"
   },
   {
    "duration": 187,
    "start_time": "2024-06-09T13:53:11.908Z"
   },
   {
    "duration": 9,
    "start_time": "2024-06-09T13:53:12.096Z"
   },
   {
    "duration": 232,
    "start_time": "2024-06-09T13:53:12.107Z"
   },
   {
    "duration": 217,
    "start_time": "2024-06-09T13:53:12.340Z"
   },
   {
    "duration": 14,
    "start_time": "2024-06-09T13:53:12.565Z"
   },
   {
    "duration": 250,
    "start_time": "2024-06-09T13:53:12.581Z"
   },
   {
    "duration": 292,
    "start_time": "2024-06-09T13:53:12.832Z"
   },
   {
    "duration": 58,
    "start_time": "2024-06-09T13:53:13.126Z"
   },
   {
    "duration": 22,
    "start_time": "2024-06-09T13:53:13.186Z"
   },
   {
    "duration": 18,
    "start_time": "2024-06-09T13:53:13.210Z"
   },
   {
    "duration": 28,
    "start_time": "2024-06-09T13:53:13.249Z"
   },
   {
    "duration": 49,
    "start_time": "2024-06-09T13:53:13.278Z"
   },
   {
    "duration": 30,
    "start_time": "2024-06-09T13:53:13.329Z"
   },
   {
    "duration": 17,
    "start_time": "2024-06-09T13:53:13.361Z"
   },
   {
    "duration": 11,
    "start_time": "2024-06-09T13:53:13.380Z"
   },
   {
    "duration": 0,
    "start_time": "2024-06-09T13:53:13.393Z"
   },
   {
    "duration": 15,
    "start_time": "2024-06-09T14:06:19.585Z"
   },
   {
    "duration": 1008,
    "start_time": "2024-06-09T14:06:24.984Z"
   },
   {
    "duration": 14,
    "start_time": "2024-06-09T14:07:00.985Z"
   },
   {
    "duration": 5,
    "start_time": "2024-06-09T14:07:11.338Z"
   },
   {
    "duration": 17,
    "start_time": "2024-06-09T14:32:23.994Z"
   },
   {
    "duration": 24,
    "start_time": "2024-06-09T14:34:26.485Z"
   },
   {
    "duration": 3,
    "start_time": "2024-06-09T14:34:41.712Z"
   },
   {
    "duration": 66,
    "start_time": "2024-06-09T14:34:41.717Z"
   },
   {
    "duration": 14,
    "start_time": "2024-06-09T14:34:41.785Z"
   },
   {
    "duration": 24,
    "start_time": "2024-06-09T14:34:41.801Z"
   },
   {
    "duration": 27,
    "start_time": "2024-06-09T14:34:41.827Z"
   },
   {
    "duration": 22,
    "start_time": "2024-06-09T14:34:41.861Z"
   },
   {
    "duration": 7,
    "start_time": "2024-06-09T14:34:41.885Z"
   },
   {
    "duration": 233,
    "start_time": "2024-06-09T14:34:41.893Z"
   },
   {
    "duration": 8,
    "start_time": "2024-06-09T14:34:42.129Z"
   },
   {
    "duration": 25,
    "start_time": "2024-06-09T14:34:42.138Z"
   },
   {
    "duration": 8,
    "start_time": "2024-06-09T14:34:42.165Z"
   },
   {
    "duration": 19,
    "start_time": "2024-06-09T14:34:42.175Z"
   },
   {
    "duration": 8,
    "start_time": "2024-06-09T14:34:42.196Z"
   },
   {
    "duration": 6,
    "start_time": "2024-06-09T14:34:42.207Z"
   },
   {
    "duration": 16,
    "start_time": "2024-06-09T14:34:42.215Z"
   },
   {
    "duration": 26,
    "start_time": "2024-06-09T14:34:42.233Z"
   },
   {
    "duration": 17,
    "start_time": "2024-06-09T14:34:42.261Z"
   },
   {
    "duration": 6,
    "start_time": "2024-06-09T14:34:42.280Z"
   },
   {
    "duration": 19,
    "start_time": "2024-06-09T14:34:42.288Z"
   },
   {
    "duration": 205,
    "start_time": "2024-06-09T14:34:42.309Z"
   },
   {
    "duration": 12,
    "start_time": "2024-06-09T14:34:42.516Z"
   },
   {
    "duration": 190,
    "start_time": "2024-06-09T14:34:42.530Z"
   },
   {
    "duration": 27,
    "start_time": "2024-06-09T14:34:42.723Z"
   },
   {
    "duration": 178,
    "start_time": "2024-06-09T14:34:42.752Z"
   },
   {
    "duration": 28,
    "start_time": "2024-06-09T14:34:42.932Z"
   },
   {
    "duration": 212,
    "start_time": "2024-06-09T14:34:42.963Z"
   },
   {
    "duration": 198,
    "start_time": "2024-06-09T14:34:43.176Z"
   },
   {
    "duration": 10,
    "start_time": "2024-06-09T14:34:43.375Z"
   },
   {
    "duration": 226,
    "start_time": "2024-06-09T14:34:43.386Z"
   },
   {
    "duration": 200,
    "start_time": "2024-06-09T14:34:43.614Z"
   },
   {
    "duration": 51,
    "start_time": "2024-06-09T14:34:43.816Z"
   },
   {
    "duration": 24,
    "start_time": "2024-06-09T14:34:43.869Z"
   },
   {
    "duration": 22,
    "start_time": "2024-06-09T14:34:43.895Z"
   },
   {
    "duration": 42,
    "start_time": "2024-06-09T14:34:43.919Z"
   },
   {
    "duration": 47,
    "start_time": "2024-06-09T14:34:43.963Z"
   },
   {
    "duration": 49,
    "start_time": "2024-06-09T14:34:44.011Z"
   },
   {
    "duration": 20,
    "start_time": "2024-06-09T14:34:44.061Z"
   },
   {
    "duration": 13,
    "start_time": "2024-06-09T14:34:44.083Z"
   },
   {
    "duration": 4,
    "start_time": "2024-06-09T14:34:44.098Z"
   },
   {
    "duration": 21,
    "start_time": "2024-06-09T14:36:23.445Z"
   },
   {
    "duration": 12,
    "start_time": "2024-06-09T14:36:24.205Z"
   },
   {
    "duration": 6,
    "start_time": "2024-06-09T14:36:24.876Z"
   },
   {
    "duration": 6,
    "start_time": "2024-06-09T14:36:25.233Z"
   },
   {
    "duration": 8,
    "start_time": "2024-06-09T14:36:25.524Z"
   },
   {
    "duration": 7,
    "start_time": "2024-06-09T14:36:27.886Z"
   },
   {
    "duration": 8,
    "start_time": "2024-06-09T14:36:28.732Z"
   },
   {
    "duration": 7,
    "start_time": "2024-06-09T14:36:29.460Z"
   },
   {
    "duration": 9,
    "start_time": "2024-06-09T14:36:30.254Z"
   },
   {
    "duration": 13,
    "start_time": "2024-06-09T14:36:33.009Z"
   },
   {
    "duration": 218,
    "start_time": "2024-06-09T14:36:33.734Z"
   },
   {
    "duration": 12,
    "start_time": "2024-06-09T14:36:36.333Z"
   },
   {
    "duration": 143,
    "start_time": "2024-06-09T14:36:37.757Z"
   },
   {
    "duration": 15,
    "start_time": "2024-06-09T14:36:39.946Z"
   },
   {
    "duration": 161,
    "start_time": "2024-06-09T14:36:42.625Z"
   },
   {
    "duration": 9,
    "start_time": "2024-06-09T14:36:47.824Z"
   },
   {
    "duration": 225,
    "start_time": "2024-06-09T14:36:49.010Z"
   },
   {
    "duration": 223,
    "start_time": "2024-06-09T14:36:50.425Z"
   },
   {
    "duration": 9,
    "start_time": "2024-06-09T14:36:58.733Z"
   },
   {
    "duration": 285,
    "start_time": "2024-06-09T14:36:58.835Z"
   },
   {
    "duration": 211,
    "start_time": "2024-06-09T14:37:00.507Z"
   },
   {
    "duration": 34,
    "start_time": "2024-06-09T14:37:03.048Z"
   },
   {
    "duration": 23,
    "start_time": "2024-06-09T14:37:06.605Z"
   },
   {
    "duration": 13,
    "start_time": "2024-06-09T14:37:48.184Z"
   },
   {
    "duration": 13,
    "start_time": "2024-06-09T14:38:45.187Z"
   },
   {
    "duration": 21,
    "start_time": "2024-06-09T14:38:46.414Z"
   },
   {
    "duration": 17,
    "start_time": "2024-06-09T14:39:24.656Z"
   },
   {
    "duration": 22,
    "start_time": "2024-06-09T14:39:33.462Z"
   },
   {
    "duration": 16,
    "start_time": "2024-06-09T14:40:35.965Z"
   },
   {
    "duration": 17,
    "start_time": "2024-06-09T14:40:43.014Z"
   },
   {
    "duration": 15,
    "start_time": "2024-06-09T14:40:44.827Z"
   },
   {
    "duration": 51,
    "start_time": "2024-06-09T14:40:47.975Z"
   },
   {
    "duration": 12,
    "start_time": "2024-06-09T14:40:52.084Z"
   },
   {
    "duration": 12,
    "start_time": "2024-06-09T14:40:55.961Z"
   },
   {
    "duration": 16,
    "start_time": "2024-06-09T14:40:57.558Z"
   },
   {
    "duration": 5,
    "start_time": "2024-06-09T14:40:59.564Z"
   },
   {
    "duration": 54,
    "start_time": "2024-06-09T14:43:09.813Z"
   },
   {
    "duration": 62,
    "start_time": "2024-06-09T14:43:18.525Z"
   },
   {
    "duration": 10,
    "start_time": "2024-06-09T14:46:12.573Z"
   },
   {
    "duration": 11,
    "start_time": "2024-06-09T14:46:31.486Z"
   },
   {
    "duration": 12,
    "start_time": "2024-06-09T14:47:11.866Z"
   },
   {
    "duration": 16,
    "start_time": "2024-06-09T14:47:12.738Z"
   },
   {
    "duration": 7,
    "start_time": "2024-06-09T14:47:12.845Z"
   },
   {
    "duration": 3,
    "start_time": "2024-06-09T14:47:57.782Z"
   },
   {
    "duration": 70,
    "start_time": "2024-06-09T14:47:57.787Z"
   },
   {
    "duration": 13,
    "start_time": "2024-06-09T14:47:57.859Z"
   },
   {
    "duration": 24,
    "start_time": "2024-06-09T14:47:57.874Z"
   },
   {
    "duration": 11,
    "start_time": "2024-06-09T14:47:57.900Z"
   },
   {
    "duration": 28,
    "start_time": "2024-06-09T14:47:57.912Z"
   },
   {
    "duration": 17,
    "start_time": "2024-06-09T14:47:57.942Z"
   },
   {
    "duration": 30,
    "start_time": "2024-06-09T14:47:57.961Z"
   },
   {
    "duration": 11,
    "start_time": "2024-06-09T14:47:57.998Z"
   },
   {
    "duration": 60,
    "start_time": "2024-06-09T14:47:58.012Z"
   },
   {
    "duration": 9,
    "start_time": "2024-06-09T14:47:58.081Z"
   },
   {
    "duration": 6,
    "start_time": "2024-06-09T14:47:58.092Z"
   },
   {
    "duration": 14,
    "start_time": "2024-06-09T14:47:58.099Z"
   },
   {
    "duration": 13,
    "start_time": "2024-06-09T14:47:58.115Z"
   },
   {
    "duration": 9,
    "start_time": "2024-06-09T14:47:58.130Z"
   },
   {
    "duration": 20,
    "start_time": "2024-06-09T14:47:58.141Z"
   },
   {
    "duration": 7,
    "start_time": "2024-06-09T14:47:58.162Z"
   },
   {
    "duration": 14,
    "start_time": "2024-06-09T14:47:58.170Z"
   },
   {
    "duration": 215,
    "start_time": "2024-06-09T14:47:58.186Z"
   },
   {
    "duration": 12,
    "start_time": "2024-06-09T14:47:58.403Z"
   },
   {
    "duration": 174,
    "start_time": "2024-06-09T14:47:58.416Z"
   },
   {
    "duration": 13,
    "start_time": "2024-06-09T14:47:58.591Z"
   },
   {
    "duration": 187,
    "start_time": "2024-06-09T14:47:58.606Z"
   },
   {
    "duration": 10,
    "start_time": "2024-06-09T14:47:58.795Z"
   },
   {
    "duration": 220,
    "start_time": "2024-06-09T14:47:58.806Z"
   },
   {
    "duration": 196,
    "start_time": "2024-06-09T14:47:59.027Z"
   },
   {
    "duration": 10,
    "start_time": "2024-06-09T14:47:59.224Z"
   },
   {
    "duration": 215,
    "start_time": "2024-06-09T14:47:59.248Z"
   },
   {
    "duration": 199,
    "start_time": "2024-06-09T14:47:59.466Z"
   },
   {
    "duration": 37,
    "start_time": "2024-06-09T14:47:59.666Z"
   },
   {
    "duration": 18,
    "start_time": "2024-06-09T14:47:59.705Z"
   },
   {
    "duration": 22,
    "start_time": "2024-06-09T14:47:59.747Z"
   },
   {
    "duration": 15,
    "start_time": "2024-06-09T14:47:59.771Z"
   },
   {
    "duration": 74,
    "start_time": "2024-06-09T14:47:59.788Z"
   },
   {
    "duration": 13,
    "start_time": "2024-06-09T14:47:59.864Z"
   },
   {
    "duration": 33,
    "start_time": "2024-06-09T14:47:59.878Z"
   },
   {
    "duration": 4,
    "start_time": "2024-06-09T14:47:59.913Z"
   },
   {
    "duration": 844,
    "start_time": "2024-06-09T17:23:05.373Z"
   },
   {
    "duration": 101,
    "start_time": "2024-06-09T17:23:06.321Z"
   },
   {
    "duration": 42,
    "start_time": "2024-06-09T17:23:34.931Z"
   },
   {
    "duration": 13,
    "start_time": "2024-06-09T17:23:36.466Z"
   },
   {
    "duration": 76,
    "start_time": "2024-06-09T17:23:37.571Z"
   },
   {
    "duration": 33,
    "start_time": "2024-06-09T17:23:42.555Z"
   },
   {
    "duration": 11,
    "start_time": "2024-06-09T17:23:43.644Z"
   },
   {
    "duration": 73,
    "start_time": "2024-06-09T17:32:16.357Z"
   },
   {
    "duration": 12,
    "start_time": "2024-06-09T17:32:30.418Z"
   },
   {
    "duration": 11,
    "start_time": "2024-06-09T17:32:58.110Z"
   },
   {
    "duration": 9,
    "start_time": "2024-06-09T17:32:58.208Z"
   },
   {
    "duration": 6,
    "start_time": "2024-06-09T17:32:59.185Z"
   },
   {
    "duration": 10,
    "start_time": "2024-06-09T17:54:38.434Z"
   },
   {
    "duration": 8,
    "start_time": "2024-06-09T17:54:47.529Z"
   },
   {
    "duration": 8,
    "start_time": "2024-06-09T17:55:07.516Z"
   },
   {
    "duration": 11,
    "start_time": "2024-06-09T17:55:13.462Z"
   },
   {
    "duration": 75,
    "start_time": "2024-06-09T17:55:14.269Z"
   },
   {
    "duration": 10,
    "start_time": "2024-06-09T17:55:15.947Z"
   },
   {
    "duration": 12,
    "start_time": "2024-06-09T17:55:28.296Z"
   },
   {
    "duration": 7,
    "start_time": "2024-06-09T17:55:32.949Z"
   },
   {
    "duration": 9,
    "start_time": "2024-06-09T17:55:33.036Z"
   },
   {
    "duration": 19,
    "start_time": "2024-06-09T18:02:27.554Z"
   },
   {
    "duration": 6,
    "start_time": "2024-06-09T18:03:37.719Z"
   },
   {
    "duration": 7,
    "start_time": "2024-06-09T18:03:39.768Z"
   },
   {
    "duration": 7,
    "start_time": "2024-06-09T18:04:32.437Z"
   },
   {
    "duration": 6,
    "start_time": "2024-06-09T18:04:34.429Z"
   },
   {
    "duration": 13,
    "start_time": "2024-06-09T18:07:53.579Z"
   },
   {
    "duration": 5,
    "start_time": "2024-06-09T18:08:49.750Z"
   },
   {
    "duration": 497,
    "start_time": "2024-06-09T18:08:58.270Z"
   },
   {
    "duration": 42,
    "start_time": "2024-06-09T18:08:58.769Z"
   },
   {
    "duration": 20,
    "start_time": "2024-06-09T18:08:58.812Z"
   },
   {
    "duration": 7,
    "start_time": "2024-06-09T18:08:58.834Z"
   },
   {
    "duration": 12,
    "start_time": "2024-06-09T18:08:58.842Z"
   },
   {
    "duration": 25,
    "start_time": "2024-06-09T18:08:58.856Z"
   },
   {
    "duration": 24,
    "start_time": "2024-06-09T18:08:58.882Z"
   },
   {
    "duration": 9,
    "start_time": "2024-06-09T18:08:58.908Z"
   },
   {
    "duration": 6,
    "start_time": "2024-06-09T18:08:58.919Z"
   },
   {
    "duration": 5,
    "start_time": "2024-06-09T18:08:58.927Z"
   },
   {
    "duration": 12,
    "start_time": "2024-06-09T18:08:58.934Z"
   },
   {
    "duration": 13,
    "start_time": "2024-06-09T18:08:58.947Z"
   },
   {
    "duration": 25,
    "start_time": "2024-06-09T18:08:58.962Z"
   },
   {
    "duration": 22,
    "start_time": "2024-06-09T18:08:58.989Z"
   },
   {
    "duration": 224,
    "start_time": "2024-06-09T18:08:59.013Z"
   },
   {
    "duration": 11,
    "start_time": "2024-06-09T18:08:59.239Z"
   },
   {
    "duration": 174,
    "start_time": "2024-06-09T18:08:59.252Z"
   },
   {
    "duration": 13,
    "start_time": "2024-06-09T18:08:59.428Z"
   },
   {
    "duration": 161,
    "start_time": "2024-06-09T18:08:59.442Z"
   },
   {
    "duration": 8,
    "start_time": "2024-06-09T18:08:59.605Z"
   },
   {
    "duration": 196,
    "start_time": "2024-06-09T18:08:59.614Z"
   },
   {
    "duration": 173,
    "start_time": "2024-06-09T18:08:59.811Z"
   },
   {
    "duration": 8,
    "start_time": "2024-06-09T18:08:59.986Z"
   },
   {
    "duration": 203,
    "start_time": "2024-06-09T18:08:59.996Z"
   },
   {
    "duration": 181,
    "start_time": "2024-06-09T18:09:00.201Z"
   },
   {
    "duration": 42,
    "start_time": "2024-06-09T18:09:00.383Z"
   },
   {
    "duration": 0,
    "start_time": "2024-06-09T18:09:00.427Z"
   },
   {
    "duration": 0,
    "start_time": "2024-06-09T18:09:00.428Z"
   },
   {
    "duration": 0,
    "start_time": "2024-06-09T18:09:00.429Z"
   },
   {
    "duration": 0,
    "start_time": "2024-06-09T18:09:00.430Z"
   },
   {
    "duration": 0,
    "start_time": "2024-06-09T18:09:00.431Z"
   },
   {
    "duration": 0,
    "start_time": "2024-06-09T18:09:00.432Z"
   },
   {
    "duration": 0,
    "start_time": "2024-06-09T18:09:00.433Z"
   },
   {
    "duration": 81,
    "start_time": "2024-06-09T18:11:21.467Z"
   },
   {
    "duration": 4,
    "start_time": "2024-06-09T18:11:47.889Z"
   },
   {
    "duration": 43,
    "start_time": "2024-06-09T18:11:49.215Z"
   },
   {
    "duration": 22,
    "start_time": "2024-06-09T18:11:49.722Z"
   },
   {
    "duration": 7,
    "start_time": "2024-06-09T18:11:50.578Z"
   },
   {
    "duration": 11,
    "start_time": "2024-06-09T18:11:51.937Z"
   },
   {
    "duration": 11,
    "start_time": "2024-06-09T18:11:52.774Z"
   },
   {
    "duration": 32,
    "start_time": "2024-06-09T18:11:53.460Z"
   },
   {
    "duration": 8,
    "start_time": "2024-06-09T18:11:54.350Z"
   },
   {
    "duration": 10,
    "start_time": "2024-06-09T18:11:54.360Z"
   },
   {
    "duration": 5,
    "start_time": "2024-06-09T18:11:55.247Z"
   },
   {
    "duration": 14,
    "start_time": "2024-06-09T18:11:57.240Z"
   },
   {
    "duration": 21,
    "start_time": "2024-06-09T18:11:59.167Z"
   },
   {
    "duration": 6,
    "start_time": "2024-06-09T18:11:59.281Z"
   },
   {
    "duration": 22,
    "start_time": "2024-06-09T18:35:28.292Z"
   },
   {
    "duration": 43,
    "start_time": "2024-06-09T18:36:59.352Z"
   },
   {
    "duration": 25,
    "start_time": "2024-06-09T18:36:59.461Z"
   },
   {
    "duration": 7,
    "start_time": "2024-06-09T18:37:00.614Z"
   },
   {
    "duration": 4,
    "start_time": "2024-06-09T18:59:24.004Z"
   },
   {
    "duration": 18,
    "start_time": "2024-06-09T19:02:12.733Z"
   },
   {
    "duration": 27,
    "start_time": "2024-06-09T19:02:22.405Z"
   },
   {
    "duration": 4,
    "start_time": "2024-06-09T19:04:01.919Z"
   },
   {
    "duration": 44,
    "start_time": "2024-06-09T19:04:08.459Z"
   },
   {
    "duration": 37,
    "start_time": "2024-06-09T19:04:09.624Z"
   },
   {
    "duration": 7,
    "start_time": "2024-06-09T19:04:10.653Z"
   },
   {
    "duration": 11,
    "start_time": "2024-06-09T19:04:12.709Z"
   },
   {
    "duration": 10,
    "start_time": "2024-06-09T19:04:16.256Z"
   },
   {
    "duration": 31,
    "start_time": "2024-06-09T19:04:17.380Z"
   },
   {
    "duration": 10,
    "start_time": "2024-06-09T19:04:18.416Z"
   },
   {
    "duration": 8,
    "start_time": "2024-06-09T19:04:19.370Z"
   },
   {
    "duration": 5,
    "start_time": "2024-06-09T19:04:20.405Z"
   },
   {
    "duration": 6,
    "start_time": "2024-06-09T19:04:23.804Z"
   },
   {
    "duration": 12,
    "start_time": "2024-06-09T19:04:25.546Z"
   },
   {
    "duration": 4,
    "start_time": "2024-06-09T19:04:28.809Z"
   },
   {
    "duration": 13,
    "start_time": "2024-06-09T19:04:29.607Z"
   },
   {
    "duration": 12,
    "start_time": "2024-06-09T19:04:47.008Z"
   },
   {
    "duration": 180,
    "start_time": "2024-06-09T19:04:48.343Z"
   },
   {
    "duration": 15,
    "start_time": "2024-06-09T19:04:50.529Z"
   },
   {
    "duration": 137,
    "start_time": "2024-06-09T19:04:51.434Z"
   },
   {
    "duration": 12,
    "start_time": "2024-06-09T19:04:53.209Z"
   },
   {
    "duration": 151,
    "start_time": "2024-06-09T19:04:54.097Z"
   },
   {
    "duration": 8,
    "start_time": "2024-06-09T19:04:56.030Z"
   },
   {
    "duration": 197,
    "start_time": "2024-06-09T19:04:56.957Z"
   },
   {
    "duration": 169,
    "start_time": "2024-06-09T19:04:58.122Z"
   },
   {
    "duration": 11,
    "start_time": "2024-06-09T19:05:03.273Z"
   },
   {
    "duration": 200,
    "start_time": "2024-06-09T19:05:08.253Z"
   },
   {
    "duration": 171,
    "start_time": "2024-06-09T19:05:09.569Z"
   },
   {
    "duration": 40,
    "start_time": "2024-06-09T19:05:13.848Z"
   },
   {
    "duration": 18,
    "start_time": "2024-06-09T19:05:29.047Z"
   },
   {
    "duration": 19,
    "start_time": "2024-06-09T19:05:34.814Z"
   },
   {
    "duration": 13,
    "start_time": "2024-06-09T19:21:37.839Z"
   },
   {
    "duration": 14,
    "start_time": "2024-06-09T19:22:46.441Z"
   },
   {
    "duration": 19,
    "start_time": "2024-06-09T19:23:18.565Z"
   },
   {
    "duration": 13,
    "start_time": "2024-06-09T19:23:33.823Z"
   },
   {
    "duration": 12,
    "start_time": "2024-06-09T19:23:59.883Z"
   },
   {
    "duration": 179,
    "start_time": "2024-06-09T19:46:00.632Z"
   },
   {
    "duration": 252,
    "start_time": "2024-06-09T19:46:56.978Z"
   },
   {
    "duration": 13,
    "start_time": "2024-06-09T19:51:57.526Z"
   },
   {
    "duration": 161,
    "start_time": "2024-06-09T19:51:58.362Z"
   },
   {
    "duration": 11,
    "start_time": "2024-06-09T19:55:22.290Z"
   },
   {
    "duration": 4,
    "start_time": "2024-06-09T20:02:35.039Z"
   },
   {
    "duration": 6,
    "start_time": "2024-06-09T20:03:01.859Z"
   },
   {
    "duration": 6,
    "start_time": "2024-06-09T20:03:24.031Z"
   },
   {
    "duration": 6,
    "start_time": "2024-06-09T20:03:46.193Z"
   },
   {
    "duration": 8,
    "start_time": "2024-06-09T20:07:08.231Z"
   },
   {
    "duration": 5,
    "start_time": "2024-06-09T20:07:20.973Z"
   },
   {
    "duration": 65,
    "start_time": "2024-06-09T20:10:01.202Z"
   },
   {
    "duration": 10,
    "start_time": "2024-06-09T20:13:41.279Z"
   },
   {
    "duration": 9,
    "start_time": "2024-06-09T20:15:39.088Z"
   },
   {
    "duration": 190,
    "start_time": "2024-06-09T20:16:05.638Z"
   },
   {
    "duration": 4,
    "start_time": "2024-06-09T20:16:24.817Z"
   },
   {
    "duration": 16,
    "start_time": "2024-06-09T20:21:09.872Z"
   },
   {
    "duration": 77,
    "start_time": "2024-06-09T20:24:46.289Z"
   },
   {
    "duration": 16,
    "start_time": "2024-06-09T20:24:46.444Z"
   },
   {
    "duration": 104,
    "start_time": "2024-06-09T20:25:53.580Z"
   },
   {
    "duration": 105,
    "start_time": "2024-06-09T20:26:03.648Z"
   },
   {
    "duration": 75,
    "start_time": "2024-06-09T20:29:37.685Z"
   },
   {
    "duration": 76,
    "start_time": "2024-06-09T20:29:55.920Z"
   },
   {
    "duration": 222,
    "start_time": "2024-06-09T20:33:27.913Z"
   },
   {
    "duration": 249,
    "start_time": "2024-06-09T20:35:15.065Z"
   },
   {
    "duration": 245,
    "start_time": "2024-06-09T20:37:13.715Z"
   },
   {
    "duration": 827,
    "start_time": "2024-06-09T20:37:23.449Z"
   },
   {
    "duration": 487,
    "start_time": "2024-06-09T20:37:35.041Z"
   },
   {
    "duration": 481,
    "start_time": "2024-06-09T20:37:45.742Z"
   },
   {
    "duration": 640,
    "start_time": "2024-06-09T20:38:16.308Z"
   },
   {
    "duration": 517,
    "start_time": "2024-06-09T20:40:51.887Z"
   },
   {
    "duration": 627,
    "start_time": "2024-06-09T20:42:38.355Z"
   },
   {
    "duration": 488,
    "start_time": "2024-06-09T20:42:50.536Z"
   },
   {
    "duration": 504,
    "start_time": "2024-06-09T21:00:03.451Z"
   },
   {
    "duration": 673,
    "start_time": "2024-06-09T21:00:20.593Z"
   },
   {
    "duration": 173,
    "start_time": "2024-06-09T21:04:10.318Z"
   },
   {
    "duration": 182,
    "start_time": "2024-06-09T21:06:02.842Z"
   },
   {
    "duration": 11,
    "start_time": "2024-06-09T21:08:08.414Z"
   },
   {
    "duration": 470,
    "start_time": "2024-06-09T21:08:08.532Z"
   },
   {
    "duration": 182,
    "start_time": "2024-06-09T21:08:38.260Z"
   },
   {
    "duration": 175,
    "start_time": "2024-06-09T21:22:59.837Z"
   },
   {
    "duration": 439,
    "start_time": "2024-06-09T21:23:23.109Z"
   },
   {
    "duration": 246,
    "start_time": "2024-06-09T21:23:56.050Z"
   },
   {
    "duration": 265,
    "start_time": "2024-06-09T21:24:20.326Z"
   },
   {
    "duration": 28,
    "start_time": "2024-06-09T21:37:33.738Z"
   },
   {
    "duration": 19,
    "start_time": "2024-06-09T21:40:03.725Z"
   },
   {
    "duration": 21,
    "start_time": "2024-06-09T21:40:59.825Z"
   },
   {
    "duration": 16,
    "start_time": "2024-06-09T21:41:43.002Z"
   },
   {
    "duration": 14,
    "start_time": "2024-06-09T21:42:24.063Z"
   },
   {
    "duration": 130,
    "start_time": "2024-06-09T21:43:13.183Z"
   },
   {
    "duration": 146,
    "start_time": "2024-06-09T21:44:00.686Z"
   },
   {
    "duration": 147,
    "start_time": "2024-06-09T21:44:26.566Z"
   },
   {
    "duration": 121,
    "start_time": "2024-06-09T21:45:34.449Z"
   },
   {
    "duration": 140,
    "start_time": "2024-06-09T21:45:42.247Z"
   },
   {
    "duration": 147,
    "start_time": "2024-06-09T21:46:27.669Z"
   },
   {
    "duration": 937,
    "start_time": "2024-06-09T21:46:53.416Z"
   },
   {
    "duration": 154,
    "start_time": "2024-06-09T21:46:54.355Z"
   },
   {
    "duration": 156,
    "start_time": "2024-06-09T21:47:12.406Z"
   },
   {
    "duration": 129,
    "start_time": "2024-06-09T21:48:24.119Z"
   },
   {
    "duration": 481,
    "start_time": "2024-06-09T21:51:19.735Z"
   },
   {
    "duration": 6,
    "start_time": "2024-06-09T21:51:52.175Z"
   },
   {
    "duration": 662,
    "start_time": "2024-06-09T21:52:31.525Z"
   },
   {
    "duration": 491,
    "start_time": "2024-06-09T21:52:44.215Z"
   },
   {
    "duration": 522,
    "start_time": "2024-06-09T21:54:10.325Z"
   },
   {
    "duration": 6,
    "start_time": "2024-06-09T21:54:24.567Z"
   },
   {
    "duration": 646,
    "start_time": "2024-06-09T21:55:06.465Z"
   },
   {
    "duration": 497,
    "start_time": "2024-06-09T21:55:22.237Z"
   },
   {
    "duration": 628,
    "start_time": "2024-06-09T21:55:30.318Z"
   },
   {
    "duration": 250,
    "start_time": "2024-06-09T21:56:23.519Z"
   },
   {
    "duration": 231,
    "start_time": "2024-06-09T21:57:03.618Z"
   },
   {
    "duration": 296,
    "start_time": "2024-06-09T21:57:57.760Z"
   },
   {
    "duration": 208,
    "start_time": "2024-06-09T21:58:33.967Z"
   },
   {
    "duration": 254,
    "start_time": "2024-06-09T21:58:47.415Z"
   },
   {
    "duration": 189,
    "start_time": "2024-06-09T21:59:04.043Z"
   },
   {
    "duration": 190,
    "start_time": "2024-06-09T21:59:20.579Z"
   },
   {
    "duration": 441,
    "start_time": "2024-06-09T21:59:28.976Z"
   },
   {
    "duration": 241,
    "start_time": "2024-06-09T21:59:37.641Z"
   },
   {
    "duration": 4159,
    "start_time": "2024-06-09T21:59:43.970Z"
   },
   {
    "duration": 854,
    "start_time": "2024-06-09T21:59:55.839Z"
   },
   {
    "duration": 47,
    "start_time": "2024-06-09T22:01:23.603Z"
   },
   {
    "duration": 39,
    "start_time": "2024-06-09T22:02:06.682Z"
   },
   {
    "duration": 12,
    "start_time": "2024-06-09T22:02:08.724Z"
   },
   {
    "duration": 14,
    "start_time": "2024-06-09T22:15:46.232Z"
   },
   {
    "duration": 12,
    "start_time": "2024-06-09T22:16:09.536Z"
   },
   {
    "duration": 12,
    "start_time": "2024-06-09T22:16:48.980Z"
   },
   {
    "duration": 8,
    "start_time": "2024-06-09T22:16:50.250Z"
   },
   {
    "duration": 5,
    "start_time": "2024-06-09T22:17:24.197Z"
   },
   {
    "duration": 12,
    "start_time": "2024-06-09T22:17:49.928Z"
   },
   {
    "duration": 4,
    "start_time": "2024-06-09T22:18:55.049Z"
   },
   {
    "duration": 13,
    "start_time": "2024-06-09T22:19:48.609Z"
   },
   {
    "duration": 60,
    "start_time": "2024-06-09T22:21:08.169Z"
   },
   {
    "duration": 13,
    "start_time": "2024-06-09T22:21:21.376Z"
   },
   {
    "duration": 5,
    "start_time": "2024-06-09T22:22:27.728Z"
   },
   {
    "duration": 5,
    "start_time": "2024-06-09T22:25:23.497Z"
   },
   {
    "duration": 4,
    "start_time": "2024-06-09T22:26:34.034Z"
   },
   {
    "duration": 4,
    "start_time": "2024-06-09T22:27:16.506Z"
   },
   {
    "duration": 3,
    "start_time": "2024-06-09T22:27:52.010Z"
   },
   {
    "duration": 3,
    "start_time": "2024-06-09T22:28:48.808Z"
   },
   {
    "duration": 1133,
    "start_time": "2024-06-11T08:49:35.178Z"
   },
   {
    "duration": 98,
    "start_time": "2024-06-11T08:49:37.303Z"
   },
   {
    "duration": 77,
    "start_time": "2024-06-11T08:49:47.407Z"
   },
   {
    "duration": 84,
    "start_time": "2024-06-11T08:49:49.046Z"
   },
   {
    "duration": 10,
    "start_time": "2024-06-11T08:49:49.981Z"
   },
   {
    "duration": 6,
    "start_time": "2024-06-11T08:49:55.726Z"
   },
   {
    "duration": 4,
    "start_time": "2024-06-11T08:51:05.183Z"
   },
   {
    "duration": 45,
    "start_time": "2024-06-11T08:51:06.498Z"
   },
   {
    "duration": 32,
    "start_time": "2024-06-11T08:51:07.537Z"
   },
   {
    "duration": 75,
    "start_time": "2024-06-11T08:51:08.568Z"
   },
   {
    "duration": 9,
    "start_time": "2024-06-11T08:51:12.712Z"
   },
   {
    "duration": 9,
    "start_time": "2024-06-11T08:51:13.749Z"
   },
   {
    "duration": 9,
    "start_time": "2024-06-11T08:51:16.228Z"
   },
   {
    "duration": 8,
    "start_time": "2024-06-11T08:51:20.380Z"
   },
   {
    "duration": 6,
    "start_time": "2024-06-11T08:51:21.387Z"
   },
   {
    "duration": 5,
    "start_time": "2024-06-11T08:51:21.531Z"
   },
   {
    "duration": 5,
    "start_time": "2024-06-11T08:51:29.654Z"
   },
   {
    "duration": 12,
    "start_time": "2024-06-11T08:52:32.826Z"
   },
   {
    "duration": 3,
    "start_time": "2024-06-11T08:52:40.227Z"
   },
   {
    "duration": 11,
    "start_time": "2024-06-11T08:52:41.261Z"
   },
   {
    "duration": 11,
    "start_time": "2024-06-11T08:53:12.687Z"
   },
   {
    "duration": 166,
    "start_time": "2024-06-11T08:53:16.780Z"
   },
   {
    "duration": 16,
    "start_time": "2024-06-11T08:53:56.776Z"
   },
   {
    "duration": 10,
    "start_time": "2024-06-11T08:54:20.508Z"
   },
   {
    "duration": 10,
    "start_time": "2024-06-11T08:54:59.864Z"
   },
   {
    "duration": 163,
    "start_time": "2024-06-11T08:55:20.989Z"
   },
   {
    "duration": 10,
    "start_time": "2024-06-11T08:56:01.906Z"
   },
   {
    "duration": 107,
    "start_time": "2024-06-11T08:56:13.479Z"
   },
   {
    "duration": 10,
    "start_time": "2024-06-11T08:56:19.124Z"
   },
   {
    "duration": 129,
    "start_time": "2024-06-11T08:56:29.308Z"
   },
   {
    "duration": 7,
    "start_time": "2024-06-11T08:56:29.439Z"
   },
   {
    "duration": 8,
    "start_time": "2024-06-11T08:56:40.625Z"
   },
   {
    "duration": 361,
    "start_time": "2024-06-11T08:56:41.801Z"
   },
   {
    "duration": 7,
    "start_time": "2024-06-11T08:56:46.172Z"
   },
   {
    "duration": 251,
    "start_time": "2024-06-11T08:56:48.601Z"
   },
   {
    "duration": 22,
    "start_time": "2024-06-11T08:57:08.731Z"
   },
   {
    "duration": 6,
    "start_time": "2024-06-11T08:57:26.184Z"
   },
   {
    "duration": 356,
    "start_time": "2024-06-11T08:57:29.764Z"
   },
   {
    "duration": 187,
    "start_time": "2024-06-11T08:57:40.138Z"
   },
   {
    "duration": 4,
    "start_time": "2024-06-11T08:57:50.578Z"
   },
   {
    "duration": 413,
    "start_time": "2024-06-11T08:57:57.602Z"
   },
   {
    "duration": 12,
    "start_time": "2024-06-11T09:00:19.320Z"
   },
   {
    "duration": 9,
    "start_time": "2024-06-11T09:00:48.488Z"
   },
   {
    "duration": 355,
    "start_time": "2024-06-11T09:00:48.592Z"
   },
   {
    "duration": 77,
    "start_time": "2024-06-11T09:01:03.239Z"
   },
   {
    "duration": 9,
    "start_time": "2024-06-11T09:02:12.985Z"
   },
   {
    "duration": 49,
    "start_time": "2024-06-11T09:02:22.850Z"
   },
   {
    "duration": 142,
    "start_time": "2024-06-11T09:02:40.714Z"
   },
   {
    "duration": 123,
    "start_time": "2024-06-11T09:03:15.313Z"
   },
   {
    "duration": 122,
    "start_time": "2024-06-11T09:04:04.799Z"
   },
   {
    "duration": 9,
    "start_time": "2024-06-11T09:06:51.838Z"
   },
   {
    "duration": 13,
    "start_time": "2024-06-11T09:07:05.545Z"
   },
   {
    "duration": 12,
    "start_time": "2024-06-11T09:07:54.640Z"
   },
   {
    "duration": 9,
    "start_time": "2024-06-11T09:10:09.942Z"
   },
   {
    "duration": 100,
    "start_time": "2024-06-11T09:10:23.052Z"
   },
   {
    "duration": 107,
    "start_time": "2024-06-11T09:10:41.656Z"
   },
   {
    "duration": 122,
    "start_time": "2024-06-11T09:11:40.602Z"
   },
   {
    "duration": 113,
    "start_time": "2024-06-11T09:28:02.594Z"
   },
   {
    "duration": 117,
    "start_time": "2024-06-11T09:28:29.910Z"
   },
   {
    "duration": 106,
    "start_time": "2024-06-11T09:29:01.547Z"
   },
   {
    "duration": 13,
    "start_time": "2024-06-11T09:33:37.700Z"
   },
   {
    "duration": 15,
    "start_time": "2024-06-11T09:35:37.682Z"
   },
   {
    "duration": 3,
    "start_time": "2024-06-11T09:36:03.342Z"
   },
   {
    "duration": 41,
    "start_time": "2024-06-11T09:36:03.364Z"
   },
   {
    "duration": 21,
    "start_time": "2024-06-11T09:36:03.407Z"
   },
   {
    "duration": 18,
    "start_time": "2024-06-11T09:36:03.429Z"
   },
   {
    "duration": 13,
    "start_time": "2024-06-11T09:36:03.449Z"
   },
   {
    "duration": 8,
    "start_time": "2024-06-11T09:36:03.678Z"
   },
   {
    "duration": 23,
    "start_time": "2024-06-11T09:36:03.687Z"
   },
   {
    "duration": 27,
    "start_time": "2024-06-11T09:36:03.712Z"
   },
   {
    "duration": 4,
    "start_time": "2024-06-11T09:36:04.002Z"
   },
   {
    "duration": 42,
    "start_time": "2024-06-11T09:36:04.008Z"
   },
   {
    "duration": 20,
    "start_time": "2024-06-11T09:36:04.052Z"
   },
   {
    "duration": 20,
    "start_time": "2024-06-11T09:36:04.073Z"
   },
   {
    "duration": 88,
    "start_time": "2024-06-11T09:36:04.094Z"
   },
   {
    "duration": 31,
    "start_time": "2024-06-11T09:36:04.183Z"
   },
   {
    "duration": 30,
    "start_time": "2024-06-11T09:36:04.216Z"
   },
   {
    "duration": 142,
    "start_time": "2024-06-11T09:36:04.724Z"
   },
   {
    "duration": 9,
    "start_time": "2024-06-11T09:36:04.867Z"
   },
   {
    "duration": 115,
    "start_time": "2024-06-11T09:36:04.878Z"
   },
   {
    "duration": 10,
    "start_time": "2024-06-11T09:36:05.001Z"
   },
   {
    "duration": 146,
    "start_time": "2024-06-11T09:36:05.013Z"
   },
   {
    "duration": 6,
    "start_time": "2024-06-11T09:36:05.160Z"
   },
   {
    "duration": 35,
    "start_time": "2024-06-11T09:36:05.168Z"
   },
   {
    "duration": 382,
    "start_time": "2024-06-11T09:36:05.204Z"
   },
   {
    "duration": 14,
    "start_time": "2024-06-11T09:36:05.587Z"
   },
   {
    "duration": 276,
    "start_time": "2024-06-11T09:36:05.603Z"
   },
   {
    "duration": 28,
    "start_time": "2024-06-11T09:36:05.881Z"
   },
   {
    "duration": 18,
    "start_time": "2024-06-11T09:36:05.910Z"
   },
   {
    "duration": 10,
    "start_time": "2024-06-11T09:36:05.929Z"
   },
   {
    "duration": 0,
    "start_time": "2024-06-11T09:36:05.940Z"
   },
   {
    "duration": 0,
    "start_time": "2024-06-11T09:36:05.941Z"
   },
   {
    "duration": 0,
    "start_time": "2024-06-11T09:36:05.942Z"
   },
   {
    "duration": 0,
    "start_time": "2024-06-11T09:36:05.943Z"
   },
   {
    "duration": 0,
    "start_time": "2024-06-11T09:36:05.944Z"
   },
   {
    "duration": 0,
    "start_time": "2024-06-11T09:36:05.944Z"
   },
   {
    "duration": 0,
    "start_time": "2024-06-11T09:36:05.945Z"
   },
   {
    "duration": 0,
    "start_time": "2024-06-11T09:36:05.946Z"
   },
   {
    "duration": 0,
    "start_time": "2024-06-11T09:36:05.947Z"
   },
   {
    "duration": 0,
    "start_time": "2024-06-11T09:36:05.948Z"
   },
   {
    "duration": 0,
    "start_time": "2024-06-11T09:36:05.948Z"
   },
   {
    "duration": 0,
    "start_time": "2024-06-11T09:36:05.949Z"
   },
   {
    "duration": 22,
    "start_time": "2024-06-11T09:40:32.199Z"
   },
   {
    "duration": 14,
    "start_time": "2024-06-11T09:41:25.633Z"
   },
   {
    "duration": 14,
    "start_time": "2024-06-11T09:43:17.680Z"
   },
   {
    "duration": 19,
    "start_time": "2024-06-11T09:43:49.162Z"
   },
   {
    "duration": 120,
    "start_time": "2024-06-11T09:48:34.027Z"
   },
   {
    "duration": 15,
    "start_time": "2024-06-11T09:49:00.476Z"
   },
   {
    "duration": 11,
    "start_time": "2024-06-11T09:49:39.545Z"
   },
   {
    "duration": 15,
    "start_time": "2024-06-11T09:50:24.933Z"
   },
   {
    "duration": 10,
    "start_time": "2024-06-11T09:56:39.337Z"
   },
   {
    "duration": 10,
    "start_time": "2024-06-11T09:57:25.248Z"
   },
   {
    "duration": 15,
    "start_time": "2024-06-11T09:57:49.821Z"
   },
   {
    "duration": 11,
    "start_time": "2024-06-11T09:57:51.124Z"
   },
   {
    "duration": 10,
    "start_time": "2024-06-11T09:58:40.056Z"
   },
   {
    "duration": 15,
    "start_time": "2024-06-11T09:59:18.009Z"
   },
   {
    "duration": 17,
    "start_time": "2024-06-11T10:01:29.306Z"
   },
   {
    "duration": 12,
    "start_time": "2024-06-11T10:01:41.848Z"
   },
   {
    "duration": 1010,
    "start_time": "2024-06-11T10:03:07.531Z"
   },
   {
    "duration": 14,
    "start_time": "2024-06-11T10:05:06.812Z"
   },
   {
    "duration": 153,
    "start_time": "2024-06-11T10:05:58.887Z"
   },
   {
    "duration": 185,
    "start_time": "2024-06-11T10:06:23.978Z"
   },
   {
    "duration": 177,
    "start_time": "2024-06-11T10:07:07.664Z"
   },
   {
    "duration": 224,
    "start_time": "2024-06-11T10:10:20.210Z"
   },
   {
    "duration": 178,
    "start_time": "2024-06-11T10:11:20.418Z"
   },
   {
    "duration": 193,
    "start_time": "2024-06-11T10:11:45.666Z"
   },
   {
    "duration": 172,
    "start_time": "2024-06-11T10:18:43.460Z"
   },
   {
    "duration": 168,
    "start_time": "2024-06-11T10:19:06.260Z"
   },
   {
    "duration": 139,
    "start_time": "2024-06-11T10:32:39.703Z"
   },
   {
    "duration": 14,
    "start_time": "2024-06-11T10:36:35.466Z"
   },
   {
    "duration": 157,
    "start_time": "2024-06-11T10:36:35.576Z"
   },
   {
    "duration": 740,
    "start_time": "2024-06-11T10:48:06.763Z"
   },
   {
    "duration": 222,
    "start_time": "2024-06-11T10:48:42.119Z"
   },
   {
    "duration": 6,
    "start_time": "2024-06-11T10:50:00.355Z"
   },
   {
    "duration": 212,
    "start_time": "2024-06-11T10:50:01.966Z"
   },
   {
    "duration": 359,
    "start_time": "2024-06-11T10:50:30.049Z"
   },
   {
    "duration": 334,
    "start_time": "2024-06-11T10:50:59.680Z"
   },
   {
    "duration": 285,
    "start_time": "2024-06-11T10:51:13.399Z"
   },
   {
    "duration": 291,
    "start_time": "2024-06-11T10:54:33.079Z"
   },
   {
    "duration": 293,
    "start_time": "2024-06-11T10:55:00.536Z"
   },
   {
    "duration": 412,
    "start_time": "2024-06-11T10:55:16.951Z"
   },
   {
    "duration": 291,
    "start_time": "2024-06-11T10:59:04.232Z"
   },
   {
    "duration": 271,
    "start_time": "2024-06-11T11:00:12.355Z"
   },
   {
    "duration": 14,
    "start_time": "2024-06-11T11:00:51.737Z"
   },
   {
    "duration": 9,
    "start_time": "2024-06-11T11:06:55.763Z"
   },
   {
    "duration": 9,
    "start_time": "2024-06-11T11:07:04.542Z"
   },
   {
    "duration": 270,
    "start_time": "2024-06-11T11:07:17.063Z"
   },
   {
    "duration": 7,
    "start_time": "2024-06-11T11:07:21.218Z"
   },
   {
    "duration": 7,
    "start_time": "2024-06-11T11:07:23.233Z"
   },
   {
    "duration": 15,
    "start_time": "2024-06-11T11:08:15.885Z"
   },
   {
    "duration": 159,
    "start_time": "2024-06-11T11:08:30.398Z"
   },
   {
    "duration": 166,
    "start_time": "2024-06-11T11:08:58.346Z"
   },
   {
    "duration": 157,
    "start_time": "2024-06-11T11:09:27.964Z"
   },
   {
    "duration": 171,
    "start_time": "2024-06-11T11:09:34.675Z"
   },
   {
    "duration": 19,
    "start_time": "2024-06-11T11:10:20.396Z"
   },
   {
    "duration": 272,
    "start_time": "2024-06-11T11:10:24.121Z"
   },
   {
    "duration": 33,
    "start_time": "2024-06-11T11:12:00.004Z"
   },
   {
    "duration": 10,
    "start_time": "2024-06-11T11:12:04.119Z"
   },
   {
    "duration": 10,
    "start_time": "2024-06-11T11:12:20.236Z"
   },
   {
    "duration": 3,
    "start_time": "2024-06-11T11:12:29.437Z"
   },
   {
    "duration": 302,
    "start_time": "2024-06-11T11:15:06.245Z"
   },
   {
    "duration": 7,
    "start_time": "2024-06-11T11:15:36.932Z"
   },
   {
    "duration": 7,
    "start_time": "2024-06-11T11:15:38.004Z"
   },
   {
    "duration": 269,
    "start_time": "2024-06-11T11:15:39.468Z"
   },
   {
    "duration": 6,
    "start_time": "2024-06-11T11:15:40.292Z"
   },
   {
    "duration": 15,
    "start_time": "2024-06-11T12:20:05.301Z"
   },
   {
    "duration": 166,
    "start_time": "2024-06-11T12:20:07.082Z"
   },
   {
    "duration": 179,
    "start_time": "2024-06-11T12:21:20.874Z"
   },
   {
    "duration": 37,
    "start_time": "2024-06-11T12:22:42.251Z"
   },
   {
    "duration": 16,
    "start_time": "2024-06-11T12:22:44.144Z"
   },
   {
    "duration": 32,
    "start_time": "2024-06-11T12:23:39.631Z"
   },
   {
    "duration": 10,
    "start_time": "2024-06-11T12:23:41.542Z"
   },
   {
    "duration": 10,
    "start_time": "2024-06-11T12:23:46.733Z"
   },
   {
    "duration": 3,
    "start_time": "2024-06-11T12:24:02.669Z"
   },
   {
    "duration": 76,
    "start_time": "2024-06-11T12:24:02.693Z"
   },
   {
    "duration": 46,
    "start_time": "2024-06-11T12:24:02.770Z"
   },
   {
    "duration": 30,
    "start_time": "2024-06-11T12:24:02.817Z"
   },
   {
    "duration": 8,
    "start_time": "2024-06-11T12:24:02.849Z"
   },
   {
    "duration": 128,
    "start_time": "2024-06-11T12:24:02.858Z"
   },
   {
    "duration": 26,
    "start_time": "2024-06-11T12:24:02.987Z"
   },
   {
    "duration": 13,
    "start_time": "2024-06-11T12:24:03.014Z"
   },
   {
    "duration": 12,
    "start_time": "2024-06-11T12:24:03.028Z"
   },
   {
    "duration": 9,
    "start_time": "2024-06-11T12:24:03.041Z"
   },
   {
    "duration": 5,
    "start_time": "2024-06-11T12:24:03.052Z"
   },
   {
    "duration": 31,
    "start_time": "2024-06-11T12:24:03.058Z"
   },
   {
    "duration": 18,
    "start_time": "2024-06-11T12:24:03.091Z"
   },
   {
    "duration": 14,
    "start_time": "2024-06-11T12:24:03.111Z"
   },
   {
    "duration": 10,
    "start_time": "2024-06-11T12:24:03.126Z"
   },
   {
    "duration": 166,
    "start_time": "2024-06-11T12:24:03.137Z"
   },
   {
    "duration": 10,
    "start_time": "2024-06-11T12:24:03.304Z"
   },
   {
    "duration": 119,
    "start_time": "2024-06-11T12:24:03.315Z"
   },
   {
    "duration": 13,
    "start_time": "2024-06-11T12:24:03.436Z"
   },
   {
    "duration": 164,
    "start_time": "2024-06-11T12:24:03.450Z"
   },
   {
    "duration": 6,
    "start_time": "2024-06-11T12:24:03.615Z"
   },
   {
    "duration": 9,
    "start_time": "2024-06-11T12:24:03.622Z"
   },
   {
    "duration": 481,
    "start_time": "2024-06-11T12:24:03.632Z"
   },
   {
    "duration": 7,
    "start_time": "2024-06-11T12:24:04.114Z"
   },
   {
    "duration": 292,
    "start_time": "2024-06-11T12:24:04.122Z"
   },
   {
    "duration": 22,
    "start_time": "2024-06-11T12:24:04.416Z"
   },
   {
    "duration": 5,
    "start_time": "2024-06-11T12:24:04.440Z"
   },
   {
    "duration": 8,
    "start_time": "2024-06-11T12:24:04.447Z"
   },
   {
    "duration": 288,
    "start_time": "2024-06-11T12:24:04.458Z"
   },
   {
    "duration": 6,
    "start_time": "2024-06-11T12:24:04.748Z"
   },
   {
    "duration": 10,
    "start_time": "2024-06-11T12:24:04.755Z"
   },
   {
    "duration": 311,
    "start_time": "2024-06-11T12:24:04.766Z"
   },
   {
    "duration": 6,
    "start_time": "2024-06-11T12:24:05.078Z"
   },
   {
    "duration": 24,
    "start_time": "2024-06-11T12:24:05.085Z"
   },
   {
    "duration": 34,
    "start_time": "2024-06-11T12:24:05.110Z"
   },
   {
    "duration": 173,
    "start_time": "2024-06-11T12:24:05.145Z"
   },
   {
    "duration": 30,
    "start_time": "2024-06-11T12:24:05.320Z"
   },
   {
    "duration": 10,
    "start_time": "2024-06-11T12:24:05.351Z"
   },
   {
    "duration": 19,
    "start_time": "2024-06-11T12:24:05.362Z"
   },
   {
    "duration": 6,
    "start_time": "2024-06-11T12:24:05.382Z"
   },
   {
    "duration": 31,
    "start_time": "2024-06-11T12:24:36.308Z"
   },
   {
    "duration": 1043,
    "start_time": "2024-06-11T12:24:37.947Z"
   },
   {
    "duration": 10,
    "start_time": "2024-06-11T12:24:55.061Z"
   },
   {
    "duration": 11,
    "start_time": "2024-06-11T12:25:09.304Z"
   },
   {
    "duration": 3,
    "start_time": "2024-06-11T12:25:14.354Z"
   },
   {
    "duration": 40,
    "start_time": "2024-06-11T12:30:08.809Z"
   },
   {
    "duration": 11,
    "start_time": "2024-06-11T12:30:13.632Z"
   },
   {
    "duration": 10,
    "start_time": "2024-06-11T12:30:15.771Z"
   },
   {
    "duration": 3,
    "start_time": "2024-06-11T12:30:17.548Z"
   },
   {
    "duration": 503,
    "start_time": "2024-06-11T12:32:19.757Z"
   },
   {
    "duration": 217,
    "start_time": "2024-06-11T12:32:38.117Z"
   },
   {
    "duration": 15,
    "start_time": "2024-06-11T12:38:41.119Z"
   },
   {
    "duration": 159,
    "start_time": "2024-06-11T12:38:41.946Z"
   },
   {
    "duration": 13,
    "start_time": "2024-06-11T12:39:52.825Z"
   },
   {
    "duration": 11,
    "start_time": "2024-06-11T12:40:37.998Z"
   },
   {
    "duration": 11,
    "start_time": "2024-06-11T12:44:54.177Z"
   },
   {
    "duration": 12,
    "start_time": "2024-06-11T12:45:26.805Z"
   },
   {
    "duration": 5,
    "start_time": "2024-06-11T12:56:39.069Z"
   },
   {
    "duration": 288,
    "start_time": "2024-06-11T13:02:41.698Z"
   },
   {
    "duration": 264,
    "start_time": "2024-06-11T13:03:32.864Z"
   },
   {
    "duration": 389,
    "start_time": "2024-06-11T13:03:46.150Z"
   },
   {
    "duration": 4,
    "start_time": "2024-06-11T13:08:41.453Z"
   },
   {
    "duration": 4,
    "start_time": "2024-06-11T13:12:44.990Z"
   },
   {
    "duration": 5,
    "start_time": "2024-06-11T13:16:56.443Z"
   },
   {
    "duration": 8,
    "start_time": "2024-06-11T13:18:32.675Z"
   },
   {
    "duration": 10,
    "start_time": "2024-06-11T13:20:34.509Z"
   },
   {
    "duration": 15,
    "start_time": "2024-06-11T13:21:16.332Z"
   },
   {
    "duration": 4,
    "start_time": "2024-06-11T13:22:19.389Z"
   },
   {
    "duration": 5,
    "start_time": "2024-06-11T13:22:42.315Z"
   },
   {
    "duration": 5,
    "start_time": "2024-06-11T13:23:39.548Z"
   },
   {
    "duration": 5,
    "start_time": "2024-06-11T13:26:40.730Z"
   },
   {
    "duration": 5,
    "start_time": "2024-06-11T13:26:53.321Z"
   },
   {
    "duration": 6,
    "start_time": "2024-06-11T13:29:42.336Z"
   },
   {
    "duration": 10,
    "start_time": "2024-06-11T13:35:26.417Z"
   },
   {
    "duration": 8,
    "start_time": "2024-06-11T13:38:09.802Z"
   },
   {
    "duration": 9,
    "start_time": "2024-06-11T13:39:11.908Z"
   },
   {
    "duration": 2,
    "start_time": "2024-06-11T13:39:33.687Z"
   },
   {
    "duration": 39,
    "start_time": "2024-06-11T13:39:33.733Z"
   },
   {
    "duration": 21,
    "start_time": "2024-06-11T13:39:33.773Z"
   },
   {
    "duration": 20,
    "start_time": "2024-06-11T13:39:33.796Z"
   },
   {
    "duration": 10,
    "start_time": "2024-06-11T13:39:33.817Z"
   },
   {
    "duration": 24,
    "start_time": "2024-06-11T13:39:33.828Z"
   },
   {
    "duration": 11,
    "start_time": "2024-06-11T13:39:33.854Z"
   },
   {
    "duration": 8,
    "start_time": "2024-06-11T13:39:33.867Z"
   },
   {
    "duration": 5,
    "start_time": "2024-06-11T13:39:33.899Z"
   },
   {
    "duration": 4,
    "start_time": "2024-06-11T13:39:33.954Z"
   },
   {
    "duration": 5,
    "start_time": "2024-06-11T13:39:33.984Z"
   },
   {
    "duration": 10,
    "start_time": "2024-06-11T13:39:34.068Z"
   },
   {
    "duration": 3,
    "start_time": "2024-06-11T13:39:34.093Z"
   },
   {
    "duration": 10,
    "start_time": "2024-06-11T13:39:34.144Z"
   },
   {
    "duration": 10,
    "start_time": "2024-06-11T13:39:34.213Z"
   },
   {
    "duration": 159,
    "start_time": "2024-06-11T13:39:34.267Z"
   },
   {
    "duration": 9,
    "start_time": "2024-06-11T13:39:34.428Z"
   },
   {
    "duration": 124,
    "start_time": "2024-06-11T13:39:34.438Z"
   },
   {
    "duration": 10,
    "start_time": "2024-06-11T13:39:34.564Z"
   },
   {
    "duration": 10,
    "start_time": "2024-06-11T13:39:34.576Z"
   },
   {
    "duration": 156,
    "start_time": "2024-06-11T13:39:34.588Z"
   },
   {
    "duration": 7,
    "start_time": "2024-06-11T13:39:34.745Z"
   },
   {
    "duration": 266,
    "start_time": "2024-06-11T13:39:34.753Z"
   },
   {
    "duration": 7,
    "start_time": "2024-06-11T13:39:35.021Z"
   },
   {
    "duration": 256,
    "start_time": "2024-06-11T13:39:35.030Z"
   },
   {
    "duration": 37,
    "start_time": "2024-06-11T13:39:35.288Z"
   },
   {
    "duration": 12,
    "start_time": "2024-06-11T13:39:35.327Z"
   },
   {
    "duration": 23,
    "start_time": "2024-06-11T13:39:35.341Z"
   },
   {
    "duration": 26,
    "start_time": "2024-06-11T13:39:35.365Z"
   },
   {
    "duration": 31,
    "start_time": "2024-06-11T13:39:35.392Z"
   },
   {
    "duration": 268,
    "start_time": "2024-06-11T13:39:36.681Z"
   },
   {
    "duration": 6,
    "start_time": "2024-06-11T13:39:36.951Z"
   },
   {
    "duration": 33,
    "start_time": "2024-06-11T13:39:36.958Z"
   },
   {
    "duration": 394,
    "start_time": "2024-06-11T13:39:36.993Z"
   },
   {
    "duration": 21,
    "start_time": "2024-06-11T13:39:37.389Z"
   },
   {
    "duration": 170,
    "start_time": "2024-06-11T13:39:37.412Z"
   },
   {
    "duration": 36,
    "start_time": "2024-06-11T13:39:37.584Z"
   },
   {
    "duration": 9,
    "start_time": "2024-06-11T13:39:37.622Z"
   },
   {
    "duration": 19,
    "start_time": "2024-06-11T13:39:37.632Z"
   },
   {
    "duration": 3,
    "start_time": "2024-06-11T13:39:37.652Z"
   },
   {
    "duration": 16,
    "start_time": "2024-06-11T13:39:37.656Z"
   },
   {
    "duration": 7,
    "start_time": "2024-06-11T13:39:37.673Z"
   },
   {
    "duration": 22,
    "start_time": "2024-06-11T13:39:37.681Z"
   },
   {
    "duration": 0,
    "start_time": "2024-06-11T13:39:37.704Z"
   },
   {
    "duration": 0,
    "start_time": "2024-06-11T13:39:37.705Z"
   },
   {
    "duration": 9,
    "start_time": "2024-06-11T13:40:15.323Z"
   },
   {
    "duration": 10,
    "start_time": "2024-06-11T13:40:17.130Z"
   },
   {
    "duration": 3,
    "start_time": "2024-06-11T13:40:19.874Z"
   },
   {
    "duration": 5,
    "start_time": "2024-06-11T13:40:24.184Z"
   },
   {
    "duration": 4,
    "start_time": "2024-06-11T13:40:28.851Z"
   },
   {
    "duration": 8,
    "start_time": "2024-06-11T13:40:33.723Z"
   },
   {
    "duration": 6,
    "start_time": "2024-06-11T13:40:41.566Z"
   },
   {
    "duration": 11,
    "start_time": "2024-06-11T13:40:46.416Z"
   },
   {
    "duration": 5,
    "start_time": "2024-06-11T13:41:18.633Z"
   },
   {
    "duration": 4,
    "start_time": "2024-06-11T13:41:22.145Z"
   },
   {
    "duration": 5,
    "start_time": "2024-06-11T13:41:26.414Z"
   },
   {
    "duration": 706,
    "start_time": "2024-06-11T13:42:41.394Z"
   },
   {
    "duration": 667,
    "start_time": "2024-06-11T13:43:15.165Z"
   },
   {
    "duration": 697,
    "start_time": "2024-06-11T13:44:03.056Z"
   },
   {
    "duration": 5,
    "start_time": "2024-06-11T13:44:16.390Z"
   },
   {
    "duration": 4,
    "start_time": "2024-06-11T13:44:46.951Z"
   },
   {
    "duration": 5,
    "start_time": "2024-06-11T13:44:52.289Z"
   },
   {
    "duration": 6,
    "start_time": "2024-06-11T13:46:05.352Z"
   },
   {
    "duration": 6,
    "start_time": "2024-06-11T13:46:09.764Z"
   },
   {
    "duration": 4,
    "start_time": "2024-06-11T13:46:57.302Z"
   },
   {
    "duration": 5,
    "start_time": "2024-06-11T13:47:02.209Z"
   },
   {
    "duration": 4,
    "start_time": "2024-06-11T13:47:16.959Z"
   },
   {
    "duration": 5,
    "start_time": "2024-06-11T13:48:48.959Z"
   },
   {
    "duration": 4,
    "start_time": "2024-06-11T13:48:57.539Z"
   },
   {
    "duration": 5,
    "start_time": "2024-06-11T13:49:36.118Z"
   },
   {
    "duration": 4,
    "start_time": "2024-06-11T13:51:17.662Z"
   },
   {
    "duration": 3,
    "start_time": "2024-06-11T13:52:08.360Z"
   },
   {
    "duration": 3,
    "start_time": "2024-06-11T13:52:16.180Z"
   },
   {
    "duration": 5,
    "start_time": "2024-06-11T13:52:18.709Z"
   },
   {
    "duration": 4,
    "start_time": "2024-06-11T13:52:20.072Z"
   },
   {
    "duration": 67,
    "start_time": "2024-06-11T13:53:37.192Z"
   },
   {
    "duration": 5,
    "start_time": "2024-06-11T13:56:48.779Z"
   },
   {
    "duration": 5,
    "start_time": "2024-06-11T13:56:56.164Z"
   },
   {
    "duration": 4,
    "start_time": "2024-06-11T13:57:06.454Z"
   },
   {
    "duration": 5,
    "start_time": "2024-06-11T13:57:11.533Z"
   },
   {
    "duration": 4,
    "start_time": "2024-06-11T13:57:23.133Z"
   },
   {
    "duration": 5,
    "start_time": "2024-06-11T13:57:37.793Z"
   },
   {
    "duration": 4,
    "start_time": "2024-06-11T13:58:23.653Z"
   },
   {
    "duration": 4,
    "start_time": "2024-06-11T13:58:24.995Z"
   },
   {
    "duration": 5,
    "start_time": "2024-06-11T13:58:25.992Z"
   },
   {
    "duration": 4,
    "start_time": "2024-06-11T13:59:39.908Z"
   },
   {
    "duration": 5,
    "start_time": "2024-06-11T13:59:44.206Z"
   },
   {
    "duration": 54,
    "start_time": "2024-06-11T14:00:22.061Z"
   },
   {
    "duration": 67,
    "start_time": "2024-06-11T14:01:24.321Z"
   },
   {
    "duration": 4,
    "start_time": "2024-06-11T14:02:20.238Z"
   },
   {
    "duration": 2,
    "start_time": "2024-06-11T14:03:20.112Z"
   },
   {
    "duration": 39,
    "start_time": "2024-06-11T14:03:20.693Z"
   },
   {
    "duration": 20,
    "start_time": "2024-06-11T14:03:20.733Z"
   },
   {
    "duration": 29,
    "start_time": "2024-06-11T14:03:22.419Z"
   },
   {
    "duration": 8,
    "start_time": "2024-06-11T14:03:22.450Z"
   },
   {
    "duration": 10,
    "start_time": "2024-06-11T14:03:22.459Z"
   },
   {
    "duration": 8,
    "start_time": "2024-06-11T14:03:23.282Z"
   },
   {
    "duration": 15,
    "start_time": "2024-06-11T14:03:23.292Z"
   },
   {
    "duration": 5,
    "start_time": "2024-06-11T14:03:23.309Z"
   },
   {
    "duration": 4,
    "start_time": "2024-06-11T14:03:24.523Z"
   },
   {
    "duration": 31,
    "start_time": "2024-06-11T14:03:24.529Z"
   },
   {
    "duration": 18,
    "start_time": "2024-06-11T14:03:24.561Z"
   },
   {
    "duration": 3,
    "start_time": "2024-06-11T14:03:24.581Z"
   },
   {
    "duration": 23,
    "start_time": "2024-06-11T14:03:24.585Z"
   },
   {
    "duration": 11,
    "start_time": "2024-06-11T14:03:25.184Z"
   },
   {
    "duration": 159,
    "start_time": "2024-06-11T14:03:25.196Z"
   },
   {
    "duration": 10,
    "start_time": "2024-06-11T14:03:25.356Z"
   },
   {
    "duration": 153,
    "start_time": "2024-06-11T14:03:25.368Z"
   },
   {
    "duration": 9,
    "start_time": "2024-06-11T14:03:25.524Z"
   },
   {
    "duration": 6,
    "start_time": "2024-06-11T14:03:25.535Z"
   },
   {
    "duration": 157,
    "start_time": "2024-06-11T14:03:25.542Z"
   },
   {
    "duration": 6,
    "start_time": "2024-06-11T14:03:25.701Z"
   },
   {
    "duration": 236,
    "start_time": "2024-06-11T14:03:25.708Z"
   },
   {
    "duration": 7,
    "start_time": "2024-06-11T14:03:25.945Z"
   },
   {
    "duration": 314,
    "start_time": "2024-06-11T14:03:25.953Z"
   },
   {
    "duration": 22,
    "start_time": "2024-06-11T14:03:26.268Z"
   },
   {
    "duration": 12,
    "start_time": "2024-06-11T14:03:26.301Z"
   },
   {
    "duration": 12,
    "start_time": "2024-06-11T14:03:26.315Z"
   },
   {
    "duration": 6,
    "start_time": "2024-06-11T14:03:26.328Z"
   },
   {
    "duration": 6,
    "start_time": "2024-06-11T14:03:26.336Z"
   },
   {
    "duration": 283,
    "start_time": "2024-06-11T14:03:26.343Z"
   },
   {
    "duration": 7,
    "start_time": "2024-06-11T14:03:26.627Z"
   },
   {
    "duration": 24,
    "start_time": "2024-06-11T14:03:26.635Z"
   },
   {
    "duration": 279,
    "start_time": "2024-06-11T14:03:26.660Z"
   },
   {
    "duration": 14,
    "start_time": "2024-06-11T14:03:26.941Z"
   },
   {
    "duration": 174,
    "start_time": "2024-06-11T14:03:26.957Z"
   },
   {
    "duration": 31,
    "start_time": "2024-06-11T14:03:27.133Z"
   },
   {
    "duration": 10,
    "start_time": "2024-06-11T14:03:27.166Z"
   },
   {
    "duration": 26,
    "start_time": "2024-06-11T14:03:27.177Z"
   },
   {
    "duration": 3,
    "start_time": "2024-06-11T14:03:27.205Z"
   },
   {
    "duration": 8,
    "start_time": "2024-06-11T14:03:27.210Z"
   },
   {
    "duration": 6,
    "start_time": "2024-06-11T14:03:27.220Z"
   },
   {
    "duration": 4,
    "start_time": "2024-06-11T14:03:27.228Z"
   },
   {
    "duration": 16,
    "start_time": "2024-06-11T14:03:27.233Z"
   },
   {
    "duration": 6,
    "start_time": "2024-06-11T14:03:27.250Z"
   },
   {
    "duration": 5,
    "start_time": "2024-06-11T14:40:16.189Z"
   },
   {
    "duration": 15,
    "start_time": "2024-06-11T14:41:11.345Z"
   },
   {
    "duration": 161,
    "start_time": "2024-06-11T14:41:12.478Z"
   },
   {
    "duration": 15,
    "start_time": "2024-06-11T14:42:02.957Z"
   },
   {
    "duration": 19,
    "start_time": "2024-06-11T14:42:18.657Z"
   },
   {
    "duration": 156,
    "start_time": "2024-06-11T14:42:26.469Z"
   },
   {
    "duration": 14,
    "start_time": "2024-06-11T14:43:08.868Z"
   },
   {
    "duration": 16,
    "start_time": "2024-06-11T14:43:51.630Z"
   },
   {
    "duration": 19,
    "start_time": "2024-06-11T15:01:58.480Z"
   },
   {
    "duration": 3,
    "start_time": "2024-06-11T15:03:03.111Z"
   },
   {
    "duration": 3,
    "start_time": "2024-06-11T15:03:07.263Z"
   },
   {
    "duration": 39,
    "start_time": "2024-06-11T15:03:07.292Z"
   },
   {
    "duration": 20,
    "start_time": "2024-06-11T15:03:07.338Z"
   },
   {
    "duration": 18,
    "start_time": "2024-06-11T15:03:07.387Z"
   },
   {
    "duration": 10,
    "start_time": "2024-06-11T15:03:07.407Z"
   },
   {
    "duration": 7,
    "start_time": "2024-06-11T15:03:07.431Z"
   },
   {
    "duration": 8,
    "start_time": "2024-06-11T15:03:07.515Z"
   },
   {
    "duration": 29,
    "start_time": "2024-06-11T15:03:07.525Z"
   },
   {
    "duration": 5,
    "start_time": "2024-06-11T15:03:07.564Z"
   },
   {
    "duration": 37,
    "start_time": "2024-06-11T15:03:07.570Z"
   },
   {
    "duration": 5,
    "start_time": "2024-06-11T15:03:07.672Z"
   },
   {
    "duration": 10,
    "start_time": "2024-06-11T15:03:07.783Z"
   },
   {
    "duration": 20,
    "start_time": "2024-06-11T15:03:07.795Z"
   },
   {
    "duration": 10,
    "start_time": "2024-06-11T15:03:07.992Z"
   },
   {
    "duration": 31,
    "start_time": "2024-06-11T15:03:08.003Z"
   },
   {
    "duration": 156,
    "start_time": "2024-06-11T15:03:08.163Z"
   },
   {
    "duration": 12,
    "start_time": "2024-06-11T15:03:08.396Z"
   },
   {
    "duration": 129,
    "start_time": "2024-06-11T15:03:08.410Z"
   },
   {
    "duration": 10,
    "start_time": "2024-06-11T15:03:08.541Z"
   },
   {
    "duration": 36,
    "start_time": "2024-06-11T15:03:08.552Z"
   },
   {
    "duration": 144,
    "start_time": "2024-06-11T15:03:08.716Z"
   },
   {
    "duration": 7,
    "start_time": "2024-06-11T15:03:08.862Z"
   },
   {
    "duration": 335,
    "start_time": "2024-06-11T15:03:08.870Z"
   },
   {
    "duration": 7,
    "start_time": "2024-06-11T15:03:09.206Z"
   },
   {
    "duration": 223,
    "start_time": "2024-06-11T15:03:09.214Z"
   },
   {
    "duration": 21,
    "start_time": "2024-06-11T15:03:09.438Z"
   },
   {
    "duration": 12,
    "start_time": "2024-06-11T15:03:09.461Z"
   },
   {
    "duration": 21,
    "start_time": "2024-06-11T15:03:09.474Z"
   },
   {
    "duration": 6,
    "start_time": "2024-06-11T15:03:09.502Z"
   },
   {
    "duration": 16,
    "start_time": "2024-06-11T15:03:09.509Z"
   },
   {
    "duration": 261,
    "start_time": "2024-06-11T15:03:09.527Z"
   },
   {
    "duration": 12,
    "start_time": "2024-06-11T15:03:09.790Z"
   },
   {
    "duration": 11,
    "start_time": "2024-06-11T15:03:09.803Z"
   },
   {
    "duration": 277,
    "start_time": "2024-06-11T15:03:10.594Z"
   },
   {
    "duration": 14,
    "start_time": "2024-06-11T15:03:10.872Z"
   },
   {
    "duration": 181,
    "start_time": "2024-06-11T15:03:10.887Z"
   },
   {
    "duration": 37,
    "start_time": "2024-06-11T15:03:11.069Z"
   },
   {
    "duration": 9,
    "start_time": "2024-06-11T15:03:11.108Z"
   },
   {
    "duration": 11,
    "start_time": "2024-06-11T15:03:11.118Z"
   },
   {
    "duration": 3,
    "start_time": "2024-06-11T15:03:11.130Z"
   },
   {
    "duration": 5,
    "start_time": "2024-06-11T15:03:11.134Z"
   },
   {
    "duration": 4,
    "start_time": "2024-06-11T15:03:12.720Z"
   },
   {
    "duration": 19,
    "start_time": "2024-06-11T15:03:12.725Z"
   },
   {
    "duration": 4,
    "start_time": "2024-06-11T15:03:12.951Z"
   },
   {
    "duration": 72,
    "start_time": "2024-06-11T15:03:12.957Z"
   },
   {
    "duration": 7,
    "start_time": "2024-06-11T15:03:13.030Z"
   },
   {
    "duration": 7,
    "start_time": "2024-06-11T15:08:15.851Z"
   },
   {
    "duration": 7,
    "start_time": "2024-06-11T15:09:04.143Z"
   },
   {
    "duration": 8,
    "start_time": "2024-06-11T15:10:05.679Z"
   },
   {
    "duration": 7,
    "start_time": "2024-06-11T15:12:46.009Z"
   },
   {
    "duration": 7,
    "start_time": "2024-06-11T15:14:16.429Z"
   },
   {
    "duration": 7,
    "start_time": "2024-06-11T15:14:31.878Z"
   },
   {
    "duration": 7,
    "start_time": "2024-06-11T15:15:08.561Z"
   },
   {
    "duration": 4,
    "start_time": "2024-06-11T15:15:25.886Z"
   },
   {
    "duration": 47,
    "start_time": "2024-06-11T15:15:25.894Z"
   },
   {
    "duration": 20,
    "start_time": "2024-06-11T15:15:25.942Z"
   },
   {
    "duration": 18,
    "start_time": "2024-06-11T15:15:25.963Z"
   },
   {
    "duration": 9,
    "start_time": "2024-06-11T15:15:25.982Z"
   },
   {
    "duration": 23,
    "start_time": "2024-06-11T15:15:25.992Z"
   },
   {
    "duration": 10,
    "start_time": "2024-06-11T15:15:26.016Z"
   },
   {
    "duration": 12,
    "start_time": "2024-06-11T15:15:26.027Z"
   },
   {
    "duration": 4,
    "start_time": "2024-06-11T15:15:26.041Z"
   },
   {
    "duration": 5,
    "start_time": "2024-06-11T15:15:26.066Z"
   },
   {
    "duration": 7,
    "start_time": "2024-06-11T15:15:26.105Z"
   },
   {
    "duration": 13,
    "start_time": "2024-06-11T15:15:26.131Z"
   },
   {
    "duration": 3,
    "start_time": "2024-06-11T15:15:26.146Z"
   },
   {
    "duration": 15,
    "start_time": "2024-06-11T15:15:26.193Z"
   },
   {
    "duration": 11,
    "start_time": "2024-06-11T15:15:26.237Z"
   },
   {
    "duration": 158,
    "start_time": "2024-06-11T15:15:26.282Z"
   },
   {
    "duration": 10,
    "start_time": "2024-06-11T15:15:26.441Z"
   },
   {
    "duration": 117,
    "start_time": "2024-06-11T15:15:26.452Z"
   },
   {
    "duration": 10,
    "start_time": "2024-06-11T15:15:26.571Z"
   },
   {
    "duration": 23,
    "start_time": "2024-06-11T15:15:26.583Z"
   },
   {
    "duration": 159,
    "start_time": "2024-06-11T15:15:26.608Z"
   },
   {
    "duration": 7,
    "start_time": "2024-06-11T15:15:26.769Z"
   },
   {
    "duration": 364,
    "start_time": "2024-06-11T15:15:26.778Z"
   },
   {
    "duration": 7,
    "start_time": "2024-06-11T15:15:27.143Z"
   },
   {
    "duration": 236,
    "start_time": "2024-06-11T15:15:27.153Z"
   },
   {
    "duration": 23,
    "start_time": "2024-06-11T15:15:27.391Z"
   },
   {
    "duration": 12,
    "start_time": "2024-06-11T15:15:27.416Z"
   },
   {
    "duration": 15,
    "start_time": "2024-06-11T15:15:27.430Z"
   },
   {
    "duration": 9,
    "start_time": "2024-06-11T15:15:27.446Z"
   },
   {
    "duration": 15,
    "start_time": "2024-06-11T15:15:27.457Z"
   },
   {
    "duration": 306,
    "start_time": "2024-06-11T15:15:27.473Z"
   },
   {
    "duration": 7,
    "start_time": "2024-06-11T15:15:27.780Z"
   },
   {
    "duration": 18,
    "start_time": "2024-06-11T15:15:27.788Z"
   },
   {
    "duration": 274,
    "start_time": "2024-06-11T15:15:27.807Z"
   },
   {
    "duration": 20,
    "start_time": "2024-06-11T15:15:28.083Z"
   },
   {
    "duration": 167,
    "start_time": "2024-06-11T15:15:28.104Z"
   },
   {
    "duration": 42,
    "start_time": "2024-06-11T15:15:28.272Z"
   },
   {
    "duration": 10,
    "start_time": "2024-06-11T15:15:28.315Z"
   },
   {
    "duration": 9,
    "start_time": "2024-06-11T15:15:28.326Z"
   },
   {
    "duration": 3,
    "start_time": "2024-06-11T15:15:28.336Z"
   },
   {
    "duration": 7,
    "start_time": "2024-06-11T15:15:28.340Z"
   },
   {
    "duration": 17,
    "start_time": "2024-06-11T15:15:28.348Z"
   },
   {
    "duration": 4,
    "start_time": "2024-06-11T15:15:28.368Z"
   },
   {
    "duration": 7,
    "start_time": "2024-06-11T15:15:28.373Z"
   },
   {
    "duration": 15,
    "start_time": "2024-06-11T15:15:28.381Z"
   },
   {
    "duration": 13,
    "start_time": "2024-06-11T15:15:28.398Z"
   },
   {
    "duration": 7,
    "start_time": "2024-06-11T15:15:39.395Z"
   },
   {
    "duration": 8,
    "start_time": "2024-06-11T15:21:05.715Z"
   },
   {
    "duration": 8,
    "start_time": "2024-06-11T15:22:53.794Z"
   },
   {
    "duration": 9,
    "start_time": "2024-06-11T15:39:42.189Z"
   },
   {
    "duration": 9,
    "start_time": "2024-06-11T15:40:09.642Z"
   },
   {
    "duration": 8,
    "start_time": "2024-06-11T15:41:35.809Z"
   },
   {
    "duration": 20,
    "start_time": "2024-06-11T15:42:30.573Z"
   },
   {
    "duration": 11,
    "start_time": "2024-06-11T15:42:40.528Z"
   },
   {
    "duration": 8,
    "start_time": "2024-06-11T15:42:53.250Z"
   },
   {
    "duration": 8,
    "start_time": "2024-06-11T15:44:15.883Z"
   },
   {
    "duration": 9,
    "start_time": "2024-06-11T15:44:39.018Z"
   },
   {
    "duration": 8,
    "start_time": "2024-06-11T15:45:08.542Z"
   },
   {
    "duration": 3,
    "start_time": "2024-06-11T15:45:20.333Z"
   },
   {
    "duration": 8,
    "start_time": "2024-06-11T15:46:08.442Z"
   },
   {
    "duration": 4,
    "start_time": "2024-06-11T15:46:29.692Z"
   },
   {
    "duration": 2,
    "start_time": "2024-06-11T15:46:55.518Z"
   },
   {
    "duration": 11,
    "start_time": "2024-06-11T15:48:25.629Z"
   },
   {
    "duration": 10,
    "start_time": "2024-06-11T15:49:01.603Z"
   },
   {
    "duration": 122,
    "start_time": "2024-06-11T15:50:17.872Z"
   },
   {
    "duration": 128,
    "start_time": "2024-06-11T15:50:58.498Z"
   },
   {
    "duration": 130,
    "start_time": "2024-06-11T15:51:12.107Z"
   },
   {
    "duration": 141,
    "start_time": "2024-06-11T15:51:51.576Z"
   },
   {
    "duration": 293,
    "start_time": "2024-06-11T15:52:07.349Z"
   },
   {
    "duration": 212,
    "start_time": "2024-06-11T15:53:02.840Z"
   },
   {
    "duration": 371,
    "start_time": "2024-06-11T15:53:28.569Z"
   },
   {
    "duration": 261,
    "start_time": "2024-06-11T15:54:37.778Z"
   },
   {
    "duration": 82,
    "start_time": "2024-06-11T15:55:05.056Z"
   },
   {
    "duration": 194,
    "start_time": "2024-06-11T15:55:17.258Z"
   },
   {
    "duration": 213,
    "start_time": "2024-06-11T15:55:37.050Z"
   },
   {
    "duration": 202,
    "start_time": "2024-06-11T15:55:52.043Z"
   },
   {
    "duration": 263,
    "start_time": "2024-06-11T15:55:59.890Z"
   },
   {
    "duration": 261,
    "start_time": "2024-06-11T15:56:09.993Z"
   },
   {
    "duration": 75,
    "start_time": "2024-06-11T15:56:19.299Z"
   },
   {
    "duration": 238,
    "start_time": "2024-06-11T15:56:27.224Z"
   },
   {
    "duration": 226,
    "start_time": "2024-06-11T15:57:04.232Z"
   },
   {
    "duration": 259,
    "start_time": "2024-06-11T15:59:25.003Z"
   },
   {
    "duration": 273,
    "start_time": "2024-06-11T16:00:52.380Z"
   },
   {
    "duration": 265,
    "start_time": "2024-06-11T16:18:10.587Z"
   },
   {
    "duration": 222,
    "start_time": "2024-06-11T16:18:43.342Z"
   },
   {
    "duration": 217,
    "start_time": "2024-06-11T16:19:17.443Z"
   },
   {
    "duration": 261,
    "start_time": "2024-06-11T16:19:31.576Z"
   },
   {
    "duration": 244,
    "start_time": "2024-06-11T16:19:41.863Z"
   },
   {
    "duration": 207,
    "start_time": "2024-06-11T16:19:49.350Z"
   },
   {
    "duration": 10,
    "start_time": "2024-06-11T16:22:43.555Z"
   },
   {
    "duration": 248,
    "start_time": "2024-06-11T16:23:07.015Z"
   },
   {
    "duration": 259,
    "start_time": "2024-06-11T16:26:13.696Z"
   },
   {
    "duration": 11,
    "start_time": "2024-06-11T16:27:20.783Z"
   },
   {
    "duration": 252,
    "start_time": "2024-06-11T16:27:41.413Z"
   },
   {
    "duration": 0,
    "start_time": "2024-06-11T16:34:09.437Z"
   },
   {
    "duration": 0,
    "start_time": "2024-06-11T16:34:09.438Z"
   },
   {
    "duration": 0,
    "start_time": "2024-06-11T16:34:09.439Z"
   },
   {
    "duration": 0,
    "start_time": "2024-06-11T16:34:09.440Z"
   },
   {
    "duration": 0,
    "start_time": "2024-06-11T16:34:09.441Z"
   },
   {
    "duration": 0,
    "start_time": "2024-06-11T16:34:09.442Z"
   },
   {
    "duration": 0,
    "start_time": "2024-06-11T16:34:09.444Z"
   },
   {
    "duration": 0,
    "start_time": "2024-06-11T16:34:09.445Z"
   },
   {
    "duration": 0,
    "start_time": "2024-06-11T16:34:09.446Z"
   },
   {
    "duration": 1,
    "start_time": "2024-06-11T16:34:09.447Z"
   },
   {
    "duration": 0,
    "start_time": "2024-06-11T16:34:09.448Z"
   },
   {
    "duration": 0,
    "start_time": "2024-06-11T16:34:09.450Z"
   },
   {
    "duration": 0,
    "start_time": "2024-06-11T16:34:09.451Z"
   },
   {
    "duration": 0,
    "start_time": "2024-06-11T16:34:09.452Z"
   },
   {
    "duration": 0,
    "start_time": "2024-06-11T16:34:09.453Z"
   },
   {
    "duration": 0,
    "start_time": "2024-06-11T16:34:09.454Z"
   },
   {
    "duration": 0,
    "start_time": "2024-06-11T16:34:09.456Z"
   },
   {
    "duration": 0,
    "start_time": "2024-06-11T16:34:09.457Z"
   },
   {
    "duration": 0,
    "start_time": "2024-06-11T16:34:09.458Z"
   },
   {
    "duration": 0,
    "start_time": "2024-06-11T16:34:09.459Z"
   },
   {
    "duration": 0,
    "start_time": "2024-06-11T16:34:09.502Z"
   },
   {
    "duration": 0,
    "start_time": "2024-06-11T16:34:09.503Z"
   },
   {
    "duration": 0,
    "start_time": "2024-06-11T16:34:09.504Z"
   },
   {
    "duration": 0,
    "start_time": "2024-06-11T16:34:09.506Z"
   },
   {
    "duration": 0,
    "start_time": "2024-06-11T16:34:09.507Z"
   },
   {
    "duration": 0,
    "start_time": "2024-06-11T16:34:09.508Z"
   },
   {
    "duration": 0,
    "start_time": "2024-06-11T16:34:09.509Z"
   },
   {
    "duration": 0,
    "start_time": "2024-06-11T16:34:09.511Z"
   },
   {
    "duration": 0,
    "start_time": "2024-06-11T16:34:09.512Z"
   },
   {
    "duration": 0,
    "start_time": "2024-06-11T16:34:09.513Z"
   },
   {
    "duration": 0,
    "start_time": "2024-06-11T16:34:09.514Z"
   },
   {
    "duration": 0,
    "start_time": "2024-06-11T16:34:09.515Z"
   },
   {
    "duration": 0,
    "start_time": "2024-06-11T16:34:09.516Z"
   },
   {
    "duration": 0,
    "start_time": "2024-06-11T16:34:09.517Z"
   },
   {
    "duration": 0,
    "start_time": "2024-06-11T16:34:09.518Z"
   },
   {
    "duration": 0,
    "start_time": "2024-06-11T16:34:09.518Z"
   },
   {
    "duration": 0,
    "start_time": "2024-06-11T16:34:09.519Z"
   },
   {
    "duration": 0,
    "start_time": "2024-06-11T16:34:09.520Z"
   },
   {
    "duration": 0,
    "start_time": "2024-06-11T16:34:09.521Z"
   },
   {
    "duration": 0,
    "start_time": "2024-06-11T16:34:09.522Z"
   },
   {
    "duration": 0,
    "start_time": "2024-06-11T16:34:09.523Z"
   },
   {
    "duration": 0,
    "start_time": "2024-06-11T16:34:09.524Z"
   },
   {
    "duration": 0,
    "start_time": "2024-06-11T16:34:09.525Z"
   },
   {
    "duration": 0,
    "start_time": "2024-06-11T16:34:09.525Z"
   },
   {
    "duration": 1,
    "start_time": "2024-06-11T16:34:09.526Z"
   },
   {
    "duration": 0,
    "start_time": "2024-06-11T16:34:09.527Z"
   },
   {
    "duration": 0,
    "start_time": "2024-06-11T16:34:09.530Z"
   },
   {
    "duration": 3,
    "start_time": "2024-06-11T16:34:17.365Z"
   },
   {
    "duration": 3,
    "start_time": "2024-06-11T16:34:21.468Z"
   },
   {
    "duration": 46,
    "start_time": "2024-06-11T16:34:21.520Z"
   },
   {
    "duration": 31,
    "start_time": "2024-06-11T16:34:21.567Z"
   },
   {
    "duration": 19,
    "start_time": "2024-06-11T16:34:21.600Z"
   },
   {
    "duration": 9,
    "start_time": "2024-06-11T16:34:21.621Z"
   },
   {
    "duration": 8,
    "start_time": "2024-06-11T16:34:21.631Z"
   },
   {
    "duration": 8,
    "start_time": "2024-06-11T16:34:21.640Z"
   },
   {
    "duration": 16,
    "start_time": "2024-06-11T16:34:21.649Z"
   },
   {
    "duration": 4,
    "start_time": "2024-06-11T16:34:21.667Z"
   },
   {
    "duration": 4,
    "start_time": "2024-06-11T16:34:21.688Z"
   },
   {
    "duration": 6,
    "start_time": "2024-06-11T16:34:21.715Z"
   },
   {
    "duration": 11,
    "start_time": "2024-06-11T16:34:21.756Z"
   },
   {
    "duration": 3,
    "start_time": "2024-06-11T16:34:21.781Z"
   },
   {
    "duration": 11,
    "start_time": "2024-06-11T16:34:21.792Z"
   },
   {
    "duration": 10,
    "start_time": "2024-06-11T16:34:21.838Z"
   },
   {
    "duration": 152,
    "start_time": "2024-06-11T16:34:21.943Z"
   },
   {
    "duration": 11,
    "start_time": "2024-06-11T16:34:22.097Z"
   },
   {
    "duration": 113,
    "start_time": "2024-06-11T16:34:22.110Z"
   },
   {
    "duration": 9,
    "start_time": "2024-06-11T16:34:22.225Z"
   },
   {
    "duration": 6,
    "start_time": "2024-06-11T16:34:22.236Z"
   },
   {
    "duration": 168,
    "start_time": "2024-06-11T16:34:22.243Z"
   },
   {
    "duration": 6,
    "start_time": "2024-06-11T16:34:22.412Z"
   },
   {
    "duration": 372,
    "start_time": "2024-06-11T16:34:22.420Z"
   },
   {
    "duration": 13,
    "start_time": "2024-06-11T16:34:22.794Z"
   },
   {
    "duration": 222,
    "start_time": "2024-06-11T16:34:22.808Z"
   },
   {
    "duration": 21,
    "start_time": "2024-06-11T16:34:23.032Z"
   },
   {
    "duration": 20,
    "start_time": "2024-06-11T16:34:23.054Z"
   },
   {
    "duration": 11,
    "start_time": "2024-06-11T16:34:23.075Z"
   },
   {
    "duration": 22,
    "start_time": "2024-06-11T16:34:23.087Z"
   },
   {
    "duration": 7,
    "start_time": "2024-06-11T16:34:23.111Z"
   },
   {
    "duration": 277,
    "start_time": "2024-06-11T16:34:23.119Z"
   },
   {
    "duration": 8,
    "start_time": "2024-06-11T16:34:23.397Z"
   },
   {
    "duration": 19,
    "start_time": "2024-06-11T16:34:23.406Z"
   },
   {
    "duration": 269,
    "start_time": "2024-06-11T16:34:23.426Z"
   },
   {
    "duration": 15,
    "start_time": "2024-06-11T16:34:23.697Z"
   },
   {
    "duration": 165,
    "start_time": "2024-06-11T16:34:23.714Z"
   },
   {
    "duration": 42,
    "start_time": "2024-06-11T16:34:23.881Z"
   },
   {
    "duration": 10,
    "start_time": "2024-06-11T16:34:23.924Z"
   },
   {
    "duration": 10,
    "start_time": "2024-06-11T16:34:23.935Z"
   },
   {
    "duration": 5,
    "start_time": "2024-06-11T16:34:23.946Z"
   },
   {
    "duration": 70,
    "start_time": "2024-06-11T16:34:23.952Z"
   },
   {
    "duration": 22,
    "start_time": "2024-06-11T16:34:24.024Z"
   },
   {
    "duration": 4,
    "start_time": "2024-06-11T16:34:24.047Z"
   },
   {
    "duration": 8,
    "start_time": "2024-06-11T16:34:24.053Z"
   },
   {
    "duration": 6,
    "start_time": "2024-06-11T16:34:24.062Z"
   },
   {
    "duration": 1227,
    "start_time": "2024-06-11T16:34:24.069Z"
   },
   {
    "duration": 1242,
    "start_time": "2024-06-11T16:35:00.320Z"
   },
   {
    "duration": 258,
    "start_time": "2024-06-11T16:35:18.266Z"
   },
   {
    "duration": 244,
    "start_time": "2024-06-11T16:35:30.186Z"
   },
   {
    "duration": 297,
    "start_time": "2024-06-11T16:36:20.471Z"
   },
   {
    "duration": 260,
    "start_time": "2024-06-11T16:36:56.872Z"
   },
   {
    "duration": 208,
    "start_time": "2024-06-11T16:37:14.939Z"
   },
   {
    "duration": 259,
    "start_time": "2024-06-11T16:37:27.292Z"
   },
   {
    "duration": 211,
    "start_time": "2024-06-11T16:37:35.524Z"
   },
   {
    "duration": 186,
    "start_time": "2024-06-11T16:37:52.349Z"
   },
   {
    "duration": 265,
    "start_time": "2024-06-11T16:38:07.071Z"
   },
   {
    "duration": 225,
    "start_time": "2024-06-11T16:38:46.230Z"
   },
   {
    "duration": 203,
    "start_time": "2024-06-11T16:38:53.730Z"
   },
   {
    "duration": 245,
    "start_time": "2024-06-11T16:39:02.087Z"
   },
   {
    "duration": 239,
    "start_time": "2024-06-11T16:39:13.765Z"
   },
   {
    "duration": 7,
    "start_time": "2024-06-11T16:45:04.968Z"
   },
   {
    "duration": 7,
    "start_time": "2024-06-11T16:45:14.906Z"
   },
   {
    "duration": 3,
    "start_time": "2024-06-11T16:45:22.872Z"
   },
   {
    "duration": 7,
    "start_time": "2024-06-11T16:45:38.489Z"
   },
   {
    "duration": 8,
    "start_time": "2024-06-11T16:48:53.132Z"
   },
   {
    "duration": 7,
    "start_time": "2024-06-11T16:49:52.604Z"
   },
   {
    "duration": 7,
    "start_time": "2024-06-11T16:50:42.107Z"
   },
   {
    "duration": 7,
    "start_time": "2024-06-11T16:51:11.028Z"
   },
   {
    "duration": 3,
    "start_time": "2024-06-11T16:51:55.003Z"
   },
   {
    "duration": 3,
    "start_time": "2024-06-11T16:52:14.880Z"
   },
   {
    "duration": 4,
    "start_time": "2024-06-11T16:52:18.134Z"
   },
   {
    "duration": 8,
    "start_time": "2024-06-11T16:54:46.343Z"
   },
   {
    "duration": 7,
    "start_time": "2024-06-11T16:55:46.696Z"
   },
   {
    "duration": 7,
    "start_time": "2024-06-11T16:56:03.015Z"
   },
   {
    "duration": 8,
    "start_time": "2024-06-11T16:57:06.528Z"
   },
   {
    "duration": 2,
    "start_time": "2024-06-11T16:57:09.179Z"
   },
   {
    "duration": 3,
    "start_time": "2024-06-11T16:59:39.477Z"
   },
   {
    "duration": 52,
    "start_time": "2024-06-11T16:59:39.486Z"
   },
   {
    "duration": 20,
    "start_time": "2024-06-11T16:59:39.539Z"
   },
   {
    "duration": 19,
    "start_time": "2024-06-11T16:59:39.560Z"
   },
   {
    "duration": 15,
    "start_time": "2024-06-11T16:59:39.581Z"
   },
   {
    "duration": 16,
    "start_time": "2024-06-11T16:59:39.598Z"
   },
   {
    "duration": 12,
    "start_time": "2024-06-11T16:59:39.615Z"
   },
   {
    "duration": 12,
    "start_time": "2024-06-11T16:59:39.629Z"
   },
   {
    "duration": 7,
    "start_time": "2024-06-11T16:59:39.643Z"
   },
   {
    "duration": 13,
    "start_time": "2024-06-11T16:59:39.652Z"
   },
   {
    "duration": 24,
    "start_time": "2024-06-11T16:59:39.666Z"
   },
   {
    "duration": 20,
    "start_time": "2024-06-11T16:59:39.691Z"
   },
   {
    "duration": 7,
    "start_time": "2024-06-11T16:59:39.712Z"
   },
   {
    "duration": 23,
    "start_time": "2024-06-11T16:59:39.720Z"
   },
   {
    "duration": 13,
    "start_time": "2024-06-11T16:59:39.744Z"
   },
   {
    "duration": 167,
    "start_time": "2024-06-11T16:59:39.759Z"
   },
   {
    "duration": 9,
    "start_time": "2024-06-11T16:59:39.928Z"
   },
   {
    "duration": 120,
    "start_time": "2024-06-11T16:59:39.939Z"
   },
   {
    "duration": 10,
    "start_time": "2024-06-11T16:59:40.060Z"
   },
   {
    "duration": 115,
    "start_time": "2024-06-11T16:59:40.071Z"
   },
   {
    "duration": 193,
    "start_time": "2024-06-11T16:59:40.188Z"
   },
   {
    "duration": 7,
    "start_time": "2024-06-11T16:59:40.383Z"
   },
   {
    "duration": 239,
    "start_time": "2024-06-11T16:59:40.392Z"
   },
   {
    "duration": 7,
    "start_time": "2024-06-11T16:59:40.632Z"
   },
   {
    "duration": 212,
    "start_time": "2024-06-11T16:59:40.640Z"
   },
   {
    "duration": 21,
    "start_time": "2024-06-11T16:59:40.854Z"
   },
   {
    "duration": 11,
    "start_time": "2024-06-11T16:59:40.876Z"
   },
   {
    "duration": 22,
    "start_time": "2024-06-11T16:59:40.889Z"
   },
   {
    "duration": 7,
    "start_time": "2024-06-11T16:59:40.912Z"
   },
   {
    "duration": 10,
    "start_time": "2024-06-11T16:59:40.921Z"
   },
   {
    "duration": 283,
    "start_time": "2024-06-11T16:59:40.932Z"
   },
   {
    "duration": 7,
    "start_time": "2024-06-11T16:59:41.217Z"
   },
   {
    "duration": 9,
    "start_time": "2024-06-11T16:59:41.226Z"
   },
   {
    "duration": 524,
    "start_time": "2024-06-11T16:59:41.239Z"
   },
   {
    "duration": 19,
    "start_time": "2024-06-11T16:59:41.765Z"
   },
   {
    "duration": 184,
    "start_time": "2024-06-11T16:59:41.786Z"
   },
   {
    "duration": 40,
    "start_time": "2024-06-11T16:59:41.971Z"
   },
   {
    "duration": 10,
    "start_time": "2024-06-11T16:59:42.012Z"
   },
   {
    "duration": 15,
    "start_time": "2024-06-11T16:59:42.023Z"
   },
   {
    "duration": 9,
    "start_time": "2024-06-11T16:59:42.040Z"
   },
   {
    "duration": 19,
    "start_time": "2024-06-11T16:59:42.050Z"
   },
   {
    "duration": 13,
    "start_time": "2024-06-11T16:59:42.070Z"
   },
   {
    "duration": 12,
    "start_time": "2024-06-11T16:59:42.084Z"
   },
   {
    "duration": 7,
    "start_time": "2024-06-11T16:59:42.097Z"
   },
   {
    "duration": 11,
    "start_time": "2024-06-11T16:59:42.105Z"
   },
   {
    "duration": 10,
    "start_time": "2024-06-11T16:59:42.117Z"
   },
   {
    "duration": 0,
    "start_time": "2024-06-11T16:59:42.128Z"
   },
   {
    "duration": 0,
    "start_time": "2024-06-11T16:59:42.129Z"
   },
   {
    "duration": 256,
    "start_time": "2024-06-11T17:02:10.799Z"
   },
   {
    "duration": 11,
    "start_time": "2024-06-11T17:02:20.869Z"
   },
   {
    "duration": 258,
    "start_time": "2024-06-11T17:02:37.013Z"
   },
   {
    "duration": 255,
    "start_time": "2024-06-11T17:05:12.121Z"
   },
   {
    "duration": 227,
    "start_time": "2024-06-11T17:05:43.523Z"
   },
   {
    "duration": 282,
    "start_time": "2024-06-11T17:06:14.189Z"
   },
   {
    "duration": 15,
    "start_time": "2024-06-11T17:06:55.178Z"
   },
   {
    "duration": 268,
    "start_time": "2024-06-11T17:07:16.282Z"
   },
   {
    "duration": 4,
    "start_time": "2024-06-11T17:08:00.463Z"
   },
   {
    "duration": 4,
    "start_time": "2024-06-11T17:08:35.285Z"
   },
   {
    "duration": 3,
    "start_time": "2024-06-11T17:08:41.119Z"
   },
   {
    "duration": 5,
    "start_time": "2024-06-11T17:08:46.988Z"
   },
   {
    "duration": 3,
    "start_time": "2024-06-11T17:13:04.369Z"
   },
   {
    "duration": 3,
    "start_time": "2024-06-11T17:14:34.146Z"
   },
   {
    "duration": 79,
    "start_time": "2024-06-11T17:15:09.748Z"
   },
   {
    "duration": 8,
    "start_time": "2024-06-11T17:15:29.627Z"
   },
   {
    "duration": 8,
    "start_time": "2024-06-11T17:16:53.638Z"
   },
   {
    "duration": 7,
    "start_time": "2024-06-11T17:17:03.636Z"
   },
   {
    "duration": 10,
    "start_time": "2024-06-11T17:18:10.383Z"
   },
   {
    "duration": 63,
    "start_time": "2024-06-11T17:18:36.764Z"
   },
   {
    "duration": 56,
    "start_time": "2024-06-11T17:18:41.298Z"
   },
   {
    "duration": 64,
    "start_time": "2024-06-11T17:18:47.289Z"
   },
   {
    "duration": 7,
    "start_time": "2024-06-11T17:18:50.853Z"
   },
   {
    "duration": 7,
    "start_time": "2024-06-11T17:22:08.624Z"
   },
   {
    "duration": 119,
    "start_time": "2024-06-11T17:22:38.295Z"
   },
   {
    "duration": 109,
    "start_time": "2024-06-11T17:22:55.945Z"
   },
   {
    "duration": 141,
    "start_time": "2024-06-11T17:23:01.598Z"
   },
   {
    "duration": 126,
    "start_time": "2024-06-11T17:23:48.113Z"
   },
   {
    "duration": 1333,
    "start_time": "2024-06-11T17:24:49.301Z"
   },
   {
    "duration": 204,
    "start_time": "2024-06-11T17:25:14.435Z"
   },
   {
    "duration": 3,
    "start_time": "2024-06-11T17:29:08.007Z"
   },
   {
    "duration": 2,
    "start_time": "2024-06-11T17:29:23.641Z"
   },
   {
    "duration": 39,
    "start_time": "2024-06-11T17:29:23.668Z"
   },
   {
    "duration": 20,
    "start_time": "2024-06-11T17:29:23.708Z"
   },
   {
    "duration": 24,
    "start_time": "2024-06-11T17:29:23.730Z"
   },
   {
    "duration": 9,
    "start_time": "2024-06-11T17:29:23.756Z"
   },
   {
    "duration": 8,
    "start_time": "2024-06-11T17:29:23.766Z"
   },
   {
    "duration": 16,
    "start_time": "2024-06-11T17:29:23.775Z"
   },
   {
    "duration": 32,
    "start_time": "2024-06-11T17:29:23.792Z"
   },
   {
    "duration": 6,
    "start_time": "2024-06-11T17:29:23.827Z"
   },
   {
    "duration": 7,
    "start_time": "2024-06-11T17:29:23.834Z"
   },
   {
    "duration": 5,
    "start_time": "2024-06-11T17:29:23.843Z"
   },
   {
    "duration": 9,
    "start_time": "2024-06-11T17:29:23.849Z"
   },
   {
    "duration": 3,
    "start_time": "2024-06-11T17:29:23.859Z"
   },
   {
    "duration": 10,
    "start_time": "2024-06-11T17:29:23.863Z"
   },
   {
    "duration": 28,
    "start_time": "2024-06-11T17:29:23.874Z"
   },
   {
    "duration": 179,
    "start_time": "2024-06-11T17:29:23.904Z"
   },
   {
    "duration": 21,
    "start_time": "2024-06-11T17:29:24.084Z"
   },
   {
    "duration": 117,
    "start_time": "2024-06-11T17:29:24.106Z"
   },
   {
    "duration": 9,
    "start_time": "2024-06-11T17:29:24.225Z"
   },
   {
    "duration": 39,
    "start_time": "2024-06-11T17:29:24.235Z"
   },
   {
    "duration": 167,
    "start_time": "2024-06-11T17:29:24.276Z"
   },
   {
    "duration": 7,
    "start_time": "2024-06-11T17:29:24.444Z"
   },
   {
    "duration": 235,
    "start_time": "2024-06-11T17:29:24.453Z"
   },
   {
    "duration": 13,
    "start_time": "2024-06-11T17:29:24.690Z"
   },
   {
    "duration": 210,
    "start_time": "2024-06-11T17:29:24.704Z"
   },
   {
    "duration": 21,
    "start_time": "2024-06-11T17:29:24.916Z"
   },
   {
    "duration": 12,
    "start_time": "2024-06-11T17:29:24.938Z"
   },
   {
    "duration": 10,
    "start_time": "2024-06-11T17:29:24.951Z"
   },
   {
    "duration": 6,
    "start_time": "2024-06-11T17:29:24.963Z"
   },
   {
    "duration": 6,
    "start_time": "2024-06-11T17:29:24.970Z"
   },
   {
    "duration": 290,
    "start_time": "2024-06-11T17:29:24.977Z"
   },
   {
    "duration": 7,
    "start_time": "2024-06-11T17:29:25.268Z"
   },
   {
    "duration": 17,
    "start_time": "2024-06-11T17:29:25.276Z"
   },
   {
    "duration": 291,
    "start_time": "2024-06-11T17:29:25.294Z"
   },
   {
    "duration": 16,
    "start_time": "2024-06-11T17:29:25.586Z"
   },
   {
    "duration": 390,
    "start_time": "2024-06-11T17:29:25.603Z"
   },
   {
    "duration": 35,
    "start_time": "2024-06-11T17:29:25.994Z"
   },
   {
    "duration": 34,
    "start_time": "2024-06-11T17:29:26.030Z"
   },
   {
    "duration": 63,
    "start_time": "2024-06-11T17:29:26.066Z"
   },
   {
    "duration": 137,
    "start_time": "2024-06-11T17:29:26.130Z"
   },
   {
    "duration": 11,
    "start_time": "2024-06-11T17:29:26.268Z"
   },
   {
    "duration": 17,
    "start_time": "2024-06-11T17:29:26.280Z"
   },
   {
    "duration": 6,
    "start_time": "2024-06-11T17:29:26.299Z"
   },
   {
    "duration": 7,
    "start_time": "2024-06-11T17:29:26.306Z"
   },
   {
    "duration": 17,
    "start_time": "2024-06-11T17:29:26.314Z"
   },
   {
    "duration": 207,
    "start_time": "2024-06-11T17:29:26.332Z"
   },
   {
    "duration": 230,
    "start_time": "2024-06-11T17:29:26.541Z"
   },
   {
    "duration": 4,
    "start_time": "2024-06-11T17:29:50.380Z"
   },
   {
    "duration": 3,
    "start_time": "2024-06-11T17:30:07.434Z"
   },
   {
    "duration": 3,
    "start_time": "2024-06-11T17:30:39.683Z"
   },
   {
    "duration": 3,
    "start_time": "2024-06-11T17:30:54.957Z"
   },
   {
    "duration": 3,
    "start_time": "2024-06-11T17:34:32.962Z"
   },
   {
    "duration": 3,
    "start_time": "2024-06-11T17:37:51.684Z"
   },
   {
    "duration": 2,
    "start_time": "2024-06-11T17:37:55.082Z"
   },
   {
    "duration": 42,
    "start_time": "2024-06-11T17:37:55.094Z"
   },
   {
    "duration": 20,
    "start_time": "2024-06-11T17:37:55.137Z"
   },
   {
    "duration": 18,
    "start_time": "2024-06-11T17:37:55.158Z"
   },
   {
    "duration": 11,
    "start_time": "2024-06-11T17:37:55.178Z"
   },
   {
    "duration": 9,
    "start_time": "2024-06-11T17:37:55.191Z"
   },
   {
    "duration": 9,
    "start_time": "2024-06-11T17:37:55.202Z"
   },
   {
    "duration": 8,
    "start_time": "2024-06-11T17:37:55.213Z"
   },
   {
    "duration": 5,
    "start_time": "2024-06-11T17:37:55.222Z"
   },
   {
    "duration": 6,
    "start_time": "2024-06-11T17:37:55.228Z"
   },
   {
    "duration": 16,
    "start_time": "2024-06-11T17:37:55.236Z"
   },
   {
    "duration": 15,
    "start_time": "2024-06-11T17:37:55.254Z"
   },
   {
    "duration": 4,
    "start_time": "2024-06-11T17:37:55.270Z"
   },
   {
    "duration": 29,
    "start_time": "2024-06-11T17:37:55.275Z"
   },
   {
    "duration": 14,
    "start_time": "2024-06-11T17:37:55.306Z"
   },
   {
    "duration": 180,
    "start_time": "2024-06-11T17:37:55.321Z"
   },
   {
    "duration": 9,
    "start_time": "2024-06-11T17:37:55.503Z"
   },
   {
    "duration": 128,
    "start_time": "2024-06-11T17:37:55.513Z"
   },
   {
    "duration": 10,
    "start_time": "2024-06-11T17:37:55.643Z"
   },
   {
    "duration": 6,
    "start_time": "2024-06-11T17:37:55.654Z"
   },
   {
    "duration": 159,
    "start_time": "2024-06-11T17:37:55.661Z"
   },
   {
    "duration": 6,
    "start_time": "2024-06-11T17:37:55.822Z"
   },
   {
    "duration": 219,
    "start_time": "2024-06-11T17:37:55.829Z"
   },
   {
    "duration": 7,
    "start_time": "2024-06-11T17:37:56.049Z"
   },
   {
    "duration": 207,
    "start_time": "2024-06-11T17:37:56.057Z"
   },
   {
    "duration": 22,
    "start_time": "2024-06-11T17:37:56.265Z"
   },
   {
    "duration": 17,
    "start_time": "2024-06-11T17:37:56.288Z"
   },
   {
    "duration": 12,
    "start_time": "2024-06-11T17:37:56.306Z"
   },
   {
    "duration": 6,
    "start_time": "2024-06-11T17:37:56.319Z"
   },
   {
    "duration": 6,
    "start_time": "2024-06-11T17:37:56.326Z"
   },
   {
    "duration": 286,
    "start_time": "2024-06-11T17:37:56.333Z"
   },
   {
    "duration": 6,
    "start_time": "2024-06-11T17:37:56.621Z"
   },
   {
    "duration": 6,
    "start_time": "2024-06-11T17:37:56.628Z"
   },
   {
    "duration": 287,
    "start_time": "2024-06-11T17:37:56.635Z"
   },
   {
    "duration": 14,
    "start_time": "2024-06-11T17:37:56.923Z"
   },
   {
    "duration": 187,
    "start_time": "2024-06-11T17:37:56.938Z"
   },
   {
    "duration": 32,
    "start_time": "2024-06-11T17:37:57.127Z"
   },
   {
    "duration": 9,
    "start_time": "2024-06-11T17:37:57.160Z"
   },
   {
    "duration": 10,
    "start_time": "2024-06-11T17:37:57.171Z"
   },
   {
    "duration": 18,
    "start_time": "2024-06-11T17:37:57.183Z"
   },
   {
    "duration": 21,
    "start_time": "2024-06-11T17:37:57.203Z"
   },
   {
    "duration": 4,
    "start_time": "2024-06-11T17:37:57.227Z"
   },
   {
    "duration": 13,
    "start_time": "2024-06-11T17:37:57.233Z"
   },
   {
    "duration": 3,
    "start_time": "2024-06-11T17:37:57.247Z"
   },
   {
    "duration": 8,
    "start_time": "2024-06-11T17:37:57.251Z"
   },
   {
    "duration": 62,
    "start_time": "2024-06-11T17:37:57.260Z"
   },
   {
    "duration": 0,
    "start_time": "2024-06-11T17:37:57.323Z"
   },
   {
    "duration": 0,
    "start_time": "2024-06-11T17:37:57.324Z"
   },
   {
    "duration": 0,
    "start_time": "2024-06-11T17:37:57.325Z"
   },
   {
    "duration": 0,
    "start_time": "2024-06-11T17:37:57.326Z"
   },
   {
    "duration": 3,
    "start_time": "2024-06-11T17:38:15.340Z"
   },
   {
    "duration": 1334,
    "start_time": "2024-06-11T17:38:18.729Z"
   },
   {
    "duration": 7,
    "start_time": "2024-06-11T17:38:20.926Z"
   },
   {
    "duration": 3,
    "start_time": "2024-06-11T17:38:53.590Z"
   },
   {
    "duration": 44,
    "start_time": "2024-06-11T17:38:53.599Z"
   },
   {
    "duration": 21,
    "start_time": "2024-06-11T17:38:53.644Z"
   },
   {
    "duration": 18,
    "start_time": "2024-06-11T17:38:53.666Z"
   },
   {
    "duration": 9,
    "start_time": "2024-06-11T17:38:53.685Z"
   },
   {
    "duration": 8,
    "start_time": "2024-06-11T17:38:53.695Z"
   },
   {
    "duration": 8,
    "start_time": "2024-06-11T17:38:53.704Z"
   },
   {
    "duration": 9,
    "start_time": "2024-06-11T17:38:53.713Z"
   },
   {
    "duration": 4,
    "start_time": "2024-06-11T17:38:53.723Z"
   },
   {
    "duration": 17,
    "start_time": "2024-06-11T17:38:53.729Z"
   },
   {
    "duration": 6,
    "start_time": "2024-06-11T17:38:53.747Z"
   },
   {
    "duration": 10,
    "start_time": "2024-06-11T17:38:53.755Z"
   },
   {
    "duration": 3,
    "start_time": "2024-06-11T17:38:53.766Z"
   },
   {
    "duration": 17,
    "start_time": "2024-06-11T17:38:53.771Z"
   },
   {
    "duration": 9,
    "start_time": "2024-06-11T17:38:53.801Z"
   },
   {
    "duration": 165,
    "start_time": "2024-06-11T17:38:53.811Z"
   },
   {
    "duration": 9,
    "start_time": "2024-06-11T17:38:53.978Z"
   },
   {
    "duration": 121,
    "start_time": "2024-06-11T17:38:53.988Z"
   },
   {
    "duration": 10,
    "start_time": "2024-06-11T17:38:54.110Z"
   },
   {
    "duration": 11,
    "start_time": "2024-06-11T17:38:54.121Z"
   },
   {
    "duration": 157,
    "start_time": "2024-06-11T17:38:54.133Z"
   },
   {
    "duration": 13,
    "start_time": "2024-06-11T17:38:54.291Z"
   },
   {
    "duration": 219,
    "start_time": "2024-06-11T17:38:54.305Z"
   },
   {
    "duration": 6,
    "start_time": "2024-06-11T17:38:54.525Z"
   },
   {
    "duration": 222,
    "start_time": "2024-06-11T17:38:54.533Z"
   },
   {
    "duration": 22,
    "start_time": "2024-06-11T17:38:54.757Z"
   },
   {
    "duration": 23,
    "start_time": "2024-06-11T17:38:54.781Z"
   },
   {
    "duration": 10,
    "start_time": "2024-06-11T17:38:54.805Z"
   },
   {
    "duration": 6,
    "start_time": "2024-06-11T17:38:54.816Z"
   },
   {
    "duration": 15,
    "start_time": "2024-06-11T17:38:54.824Z"
   },
   {
    "duration": 288,
    "start_time": "2024-06-11T17:38:54.840Z"
   },
   {
    "duration": 6,
    "start_time": "2024-06-11T17:38:55.130Z"
   },
   {
    "duration": 10,
    "start_time": "2024-06-11T17:38:55.137Z"
   },
   {
    "duration": 295,
    "start_time": "2024-06-11T17:38:55.148Z"
   },
   {
    "duration": 14,
    "start_time": "2024-06-11T17:38:55.444Z"
   },
   {
    "duration": 176,
    "start_time": "2024-06-11T17:38:55.460Z"
   },
   {
    "duration": 31,
    "start_time": "2024-06-11T17:38:55.638Z"
   },
   {
    "duration": 10,
    "start_time": "2024-06-11T17:38:55.670Z"
   },
   {
    "duration": 27,
    "start_time": "2024-06-11T17:38:55.682Z"
   },
   {
    "duration": 3,
    "start_time": "2024-06-11T17:38:55.710Z"
   },
   {
    "duration": 7,
    "start_time": "2024-06-11T17:38:55.714Z"
   },
   {
    "duration": 5,
    "start_time": "2024-06-11T17:38:55.722Z"
   },
   {
    "duration": 3,
    "start_time": "2024-06-11T17:38:55.730Z"
   },
   {
    "duration": 3,
    "start_time": "2024-06-11T17:38:55.734Z"
   },
   {
    "duration": 9,
    "start_time": "2024-06-11T17:38:55.738Z"
   },
   {
    "duration": 2,
    "start_time": "2024-06-11T17:38:55.749Z"
   },
   {
    "duration": 4,
    "start_time": "2024-06-11T17:38:55.752Z"
   },
   {
    "duration": 288,
    "start_time": "2024-06-11T17:38:55.757Z"
   },
   {
    "duration": 3,
    "start_time": "2024-06-11T17:38:56.046Z"
   },
   {
    "duration": 3,
    "start_time": "2024-06-11T17:40:23.458Z"
   },
   {
    "duration": 3,
    "start_time": "2024-06-11T17:51:45.871Z"
   },
   {
    "duration": 40,
    "start_time": "2024-06-11T17:51:47.800Z"
   },
   {
    "duration": 21,
    "start_time": "2024-06-11T17:51:48.455Z"
   },
   {
    "duration": 33,
    "start_time": "2024-06-11T17:51:49.163Z"
   },
   {
    "duration": 9,
    "start_time": "2024-06-11T17:51:51.084Z"
   },
   {
    "duration": 9,
    "start_time": "2024-06-11T17:51:51.688Z"
   },
   {
    "duration": 9,
    "start_time": "2024-06-11T17:51:52.629Z"
   },
   {
    "duration": 13,
    "start_time": "2024-06-11T17:51:53.633Z"
   },
   {
    "duration": 5,
    "start_time": "2024-06-11T17:51:54.592Z"
   },
   {
    "duration": 4,
    "start_time": "2024-06-11T17:51:55.429Z"
   },
   {
    "duration": 6,
    "start_time": "2024-06-11T17:51:58.769Z"
   },
   {
    "duration": 10,
    "start_time": "2024-06-11T17:52:01.291Z"
   },
   {
    "duration": 3,
    "start_time": "2024-06-11T17:52:02.759Z"
   },
   {
    "duration": 9,
    "start_time": "2024-06-11T17:52:04.461Z"
   },
   {
    "duration": 10,
    "start_time": "2024-06-11T17:52:07.717Z"
   },
   {
    "duration": 163,
    "start_time": "2024-06-11T17:52:11.240Z"
   },
   {
    "duration": 10,
    "start_time": "2024-06-11T17:52:15.694Z"
   },
   {
    "duration": 113,
    "start_time": "2024-06-11T17:52:16.898Z"
   },
   {
    "duration": 11,
    "start_time": "2024-06-11T17:53:20.240Z"
   },
   {
    "duration": 7,
    "start_time": "2024-06-11T17:53:21.141Z"
   },
   {
    "duration": 147,
    "start_time": "2024-06-11T17:53:22.051Z"
   },
   {
    "duration": 6,
    "start_time": "2024-06-11T17:53:24.957Z"
   },
   {
    "duration": 502,
    "start_time": "2024-06-11T17:53:26.098Z"
   },
   {
    "duration": 7,
    "start_time": "2024-06-11T17:53:29.483Z"
   },
   {
    "duration": 200,
    "start_time": "2024-06-11T17:53:30.510Z"
   },
   {
    "duration": 22,
    "start_time": "2024-06-11T17:53:36.376Z"
   },
   {
    "duration": 13,
    "start_time": "2024-06-11T17:53:39.040Z"
   },
   {
    "duration": 14,
    "start_time": "2024-06-11T17:53:41.039Z"
   },
   {
    "duration": 6,
    "start_time": "2024-06-11T17:53:42.653Z"
   },
   {
    "duration": 7,
    "start_time": "2024-06-11T17:53:44.311Z"
   },
   {
    "duration": 302,
    "start_time": "2024-06-11T17:53:44.325Z"
   },
   {
    "duration": 6,
    "start_time": "2024-06-11T17:53:46.727Z"
   },
   {
    "duration": 7,
    "start_time": "2024-06-11T17:53:47.336Z"
   },
   {
    "duration": 271,
    "start_time": "2024-06-11T17:53:48.850Z"
   },
   {
    "duration": 14,
    "start_time": "2024-06-11T17:53:52.020Z"
   },
   {
    "duration": 162,
    "start_time": "2024-06-11T17:53:55.960Z"
   },
   {
    "duration": 32,
    "start_time": "2024-06-11T17:54:02.901Z"
   },
   {
    "duration": 15,
    "start_time": "2024-06-11T17:54:04.497Z"
   },
   {
    "duration": 11,
    "start_time": "2024-06-11T17:54:06.773Z"
   },
   {
    "duration": 3,
    "start_time": "2024-06-11T17:54:09.021Z"
   },
   {
    "duration": 5,
    "start_time": "2024-06-11T17:54:18.462Z"
   },
   {
    "duration": 4,
    "start_time": "2024-06-11T17:54:22.826Z"
   },
   {
    "duration": 4,
    "start_time": "2024-06-11T17:54:27.233Z"
   },
   {
    "duration": 4,
    "start_time": "2024-06-11T17:54:29.009Z"
   },
   {
    "duration": 4,
    "start_time": "2024-06-11T17:54:30.469Z"
   },
   {
    "duration": 2,
    "start_time": "2024-06-11T17:54:45.986Z"
   },
   {
    "duration": 3,
    "start_time": "2024-06-11T17:54:47.882Z"
   },
   {
    "duration": 250,
    "start_time": "2024-06-11T17:55:06.510Z"
   },
   {
    "duration": 3,
    "start_time": "2024-06-11T17:56:26.055Z"
   },
   {
    "duration": 3,
    "start_time": "2024-06-11T17:58:14.677Z"
   },
   {
    "duration": 4,
    "start_time": "2024-06-11T17:59:00.795Z"
   },
   {
    "duration": 5,
    "start_time": "2024-06-11T17:59:59.179Z"
   },
   {
    "duration": 5,
    "start_time": "2024-06-11T18:01:23.260Z"
   },
   {
    "duration": 202,
    "start_time": "2024-06-11T18:05:48.446Z"
   },
   {
    "duration": 115,
    "start_time": "2024-06-11T18:06:48.176Z"
   },
   {
    "duration": 260,
    "start_time": "2024-06-11T18:07:14.069Z"
   },
   {
    "duration": 237,
    "start_time": "2024-06-11T18:07:27.218Z"
   },
   {
    "duration": 251,
    "start_time": "2024-06-11T18:07:43.508Z"
   },
   {
    "duration": 251,
    "start_time": "2024-06-11T18:07:58.010Z"
   },
   {
    "duration": 191,
    "start_time": "2024-06-11T18:08:18.055Z"
   },
   {
    "duration": 7,
    "start_time": "2024-06-11T18:10:55.520Z"
   },
   {
    "duration": 6,
    "start_time": "2024-06-11T18:11:36.976Z"
   },
   {
    "duration": 6,
    "start_time": "2024-06-11T18:11:55.025Z"
   },
   {
    "duration": 15,
    "start_time": "2024-06-11T18:19:08.974Z"
   },
   {
    "duration": 15,
    "start_time": "2024-06-11T18:19:21.827Z"
   },
   {
    "duration": 24,
    "start_time": "2024-06-11T18:19:55.456Z"
   },
   {
    "duration": 29,
    "start_time": "2024-06-11T18:20:21.466Z"
   },
   {
    "duration": 966,
    "start_time": "2024-06-11T18:28:37.328Z"
   },
   {
    "duration": 3,
    "start_time": "2024-06-11T18:29:06.757Z"
   },
   {
    "duration": 45,
    "start_time": "2024-06-11T18:29:08.769Z"
   },
   {
    "duration": 21,
    "start_time": "2024-06-11T18:29:09.764Z"
   },
   {
    "duration": 31,
    "start_time": "2024-06-11T18:29:10.301Z"
   },
   {
    "duration": 9,
    "start_time": "2024-06-11T18:29:14.039Z"
   },
   {
    "duration": 8,
    "start_time": "2024-06-11T18:29:14.612Z"
   },
   {
    "duration": 8,
    "start_time": "2024-06-11T18:29:14.785Z"
   },
   {
    "duration": 8,
    "start_time": "2024-06-11T18:29:15.549Z"
   },
   {
    "duration": 5,
    "start_time": "2024-06-11T18:29:16.254Z"
   },
   {
    "duration": 4,
    "start_time": "2024-06-11T18:29:17.038Z"
   },
   {
    "duration": 5,
    "start_time": "2024-06-11T18:29:21.253Z"
   },
   {
    "duration": 10,
    "start_time": "2024-06-11T18:29:22.256Z"
   },
   {
    "duration": 2,
    "start_time": "2024-06-11T18:29:24.951Z"
   },
   {
    "duration": 9,
    "start_time": "2024-06-11T18:29:28.466Z"
   },
   {
    "duration": 11,
    "start_time": "2024-06-11T18:29:32.968Z"
   },
   {
    "duration": 156,
    "start_time": "2024-06-11T18:29:33.980Z"
   },
   {
    "duration": 10,
    "start_time": "2024-06-11T18:29:36.737Z"
   },
   {
    "duration": 106,
    "start_time": "2024-06-11T18:29:37.558Z"
   },
   {
    "duration": 10,
    "start_time": "2024-06-11T18:29:40.396Z"
   },
   {
    "duration": 6,
    "start_time": "2024-06-11T18:29:41.212Z"
   },
   {
    "duration": 128,
    "start_time": "2024-06-11T18:29:42.491Z"
   },
   {
    "duration": 6,
    "start_time": "2024-06-11T18:29:44.959Z"
   },
   {
    "duration": 195,
    "start_time": "2024-06-11T18:29:45.923Z"
   },
   {
    "duration": 7,
    "start_time": "2024-06-11T18:29:48.416Z"
   },
   {
    "duration": 184,
    "start_time": "2024-06-11T18:29:49.452Z"
   },
   {
    "duration": 23,
    "start_time": "2024-06-11T18:29:53.733Z"
   },
   {
    "duration": 15,
    "start_time": "2024-06-11T18:29:58.791Z"
   },
   {
    "duration": 11,
    "start_time": "2024-06-11T18:30:00.608Z"
   },
   {
    "duration": 7,
    "start_time": "2024-06-11T18:30:02.133Z"
   },
   {
    "duration": 7,
    "start_time": "2024-06-11T18:30:03.041Z"
   },
   {
    "duration": 240,
    "start_time": "2024-06-11T18:30:04.167Z"
   },
   {
    "duration": 7,
    "start_time": "2024-06-11T18:30:07.455Z"
   },
   {
    "duration": 7,
    "start_time": "2024-06-11T18:30:09.934Z"
   },
   {
    "duration": 314,
    "start_time": "2024-06-11T18:30:11.586Z"
   },
   {
    "duration": 18,
    "start_time": "2024-06-11T18:30:20.351Z"
   },
   {
    "duration": 165,
    "start_time": "2024-06-11T18:30:21.858Z"
   },
   {
    "duration": 40,
    "start_time": "2024-06-11T18:30:31.908Z"
   },
   {
    "duration": 11,
    "start_time": "2024-06-11T18:30:34.914Z"
   },
   {
    "duration": 13,
    "start_time": "2024-06-11T18:30:37.771Z"
   },
   {
    "duration": 3,
    "start_time": "2024-06-11T18:30:39.760Z"
   },
   {
    "duration": 4,
    "start_time": "2024-06-11T18:30:44.515Z"
   },
   {
    "duration": 4,
    "start_time": "2024-06-11T18:30:48.084Z"
   },
   {
    "duration": 4,
    "start_time": "2024-06-11T18:30:52.788Z"
   },
   {
    "duration": 3,
    "start_time": "2024-06-11T18:30:54.515Z"
   },
   {
    "duration": 5,
    "start_time": "2024-06-11T18:30:55.407Z"
   },
   {
    "duration": 84,
    "start_time": "2024-06-11T18:31:07.522Z"
   },
   {
    "duration": 171,
    "start_time": "2024-06-11T18:31:25.048Z"
   },
   {
    "duration": 3,
    "start_time": "2024-06-11T18:31:55.965Z"
   },
   {
    "duration": 43,
    "start_time": "2024-06-11T18:31:55.992Z"
   },
   {
    "duration": 20,
    "start_time": "2024-06-11T18:31:56.037Z"
   },
   {
    "duration": 17,
    "start_time": "2024-06-11T18:31:56.058Z"
   },
   {
    "duration": 16,
    "start_time": "2024-06-11T18:31:56.077Z"
   },
   {
    "duration": 26,
    "start_time": "2024-06-11T18:31:56.094Z"
   },
   {
    "duration": 13,
    "start_time": "2024-06-11T18:31:56.121Z"
   },
   {
    "duration": 11,
    "start_time": "2024-06-11T18:31:56.135Z"
   },
   {
    "duration": 18,
    "start_time": "2024-06-11T18:31:56.148Z"
   },
   {
    "duration": 22,
    "start_time": "2024-06-11T18:31:56.168Z"
   },
   {
    "duration": 27,
    "start_time": "2024-06-11T18:31:56.191Z"
   },
   {
    "duration": 31,
    "start_time": "2024-06-11T18:31:56.219Z"
   },
   {
    "duration": 19,
    "start_time": "2024-06-11T18:31:56.252Z"
   },
   {
    "duration": 27,
    "start_time": "2024-06-11T18:31:56.273Z"
   },
   {
    "duration": 40,
    "start_time": "2024-06-11T18:31:56.301Z"
   },
   {
    "duration": 187,
    "start_time": "2024-06-11T18:31:56.342Z"
   },
   {
    "duration": 9,
    "start_time": "2024-06-11T18:31:56.531Z"
   },
   {
    "duration": 168,
    "start_time": "2024-06-11T18:31:56.541Z"
   },
   {
    "duration": 9,
    "start_time": "2024-06-11T18:31:56.710Z"
   },
   {
    "duration": 12,
    "start_time": "2024-06-11T18:31:56.721Z"
   },
   {
    "duration": 148,
    "start_time": "2024-06-11T18:31:56.734Z"
   },
   {
    "duration": 18,
    "start_time": "2024-06-11T18:31:56.884Z"
   },
   {
    "duration": 218,
    "start_time": "2024-06-11T18:31:56.904Z"
   },
   {
    "duration": 7,
    "start_time": "2024-06-11T18:31:57.123Z"
   },
   {
    "duration": 195,
    "start_time": "2024-06-11T18:31:57.132Z"
   },
   {
    "duration": 22,
    "start_time": "2024-06-11T18:31:57.328Z"
   },
   {
    "duration": 12,
    "start_time": "2024-06-11T18:31:57.351Z"
   },
   {
    "duration": 19,
    "start_time": "2024-06-11T18:31:57.365Z"
   },
   {
    "duration": 16,
    "start_time": "2024-06-11T18:31:57.386Z"
   },
   {
    "duration": 6,
    "start_time": "2024-06-11T18:31:57.403Z"
   },
   {
    "duration": 303,
    "start_time": "2024-06-11T18:31:57.410Z"
   },
   {
    "duration": 6,
    "start_time": "2024-06-11T18:31:57.714Z"
   },
   {
    "duration": 9,
    "start_time": "2024-06-11T18:31:57.722Z"
   },
   {
    "duration": 252,
    "start_time": "2024-06-11T18:31:57.733Z"
   },
   {
    "duration": 20,
    "start_time": "2024-06-11T18:31:57.986Z"
   },
   {
    "duration": 178,
    "start_time": "2024-06-11T18:31:58.007Z"
   },
   {
    "duration": 32,
    "start_time": "2024-06-11T18:31:58.186Z"
   },
   {
    "duration": 9,
    "start_time": "2024-06-11T18:31:58.220Z"
   },
   {
    "duration": 9,
    "start_time": "2024-06-11T18:31:58.231Z"
   },
   {
    "duration": 3,
    "start_time": "2024-06-11T18:31:58.241Z"
   },
   {
    "duration": 6,
    "start_time": "2024-06-11T18:31:58.245Z"
   },
   {
    "duration": 6,
    "start_time": "2024-06-11T18:31:58.253Z"
   },
   {
    "duration": 18,
    "start_time": "2024-06-11T18:31:58.260Z"
   },
   {
    "duration": 4,
    "start_time": "2024-06-11T18:31:58.280Z"
   },
   {
    "duration": 5,
    "start_time": "2024-06-11T18:31:58.301Z"
   },
   {
    "duration": 226,
    "start_time": "2024-06-11T18:31:58.309Z"
   },
   {
    "duration": 64,
    "start_time": "2024-06-11T18:32:40.112Z"
   },
   {
    "duration": 96,
    "start_time": "2024-06-11T18:33:04.969Z"
   },
   {
    "duration": 228,
    "start_time": "2024-06-11T18:33:27.393Z"
   },
   {
    "duration": 3,
    "start_time": "2024-06-11T18:33:46.762Z"
   },
   {
    "duration": 2,
    "start_time": "2024-06-11T18:33:54.630Z"
   },
   {
    "duration": 55,
    "start_time": "2024-06-11T18:33:54.634Z"
   },
   {
    "duration": 20,
    "start_time": "2024-06-11T18:33:54.691Z"
   },
   {
    "duration": 19,
    "start_time": "2024-06-11T18:33:54.737Z"
   },
   {
    "duration": 9,
    "start_time": "2024-06-11T18:33:54.757Z"
   },
   {
    "duration": 30,
    "start_time": "2024-06-11T18:33:54.767Z"
   },
   {
    "duration": 19,
    "start_time": "2024-06-11T18:33:54.798Z"
   },
   {
    "duration": 8,
    "start_time": "2024-06-11T18:33:54.819Z"
   },
   {
    "duration": 10,
    "start_time": "2024-06-11T18:33:54.828Z"
   },
   {
    "duration": 5,
    "start_time": "2024-06-11T18:33:54.839Z"
   },
   {
    "duration": 9,
    "start_time": "2024-06-11T18:33:54.847Z"
   },
   {
    "duration": 23,
    "start_time": "2024-06-11T18:33:54.857Z"
   },
   {
    "duration": 3,
    "start_time": "2024-06-11T18:33:54.881Z"
   },
   {
    "duration": 11,
    "start_time": "2024-06-11T18:33:54.885Z"
   },
   {
    "duration": 10,
    "start_time": "2024-06-11T18:33:54.897Z"
   },
   {
    "duration": 156,
    "start_time": "2024-06-11T18:33:54.908Z"
   },
   {
    "duration": 10,
    "start_time": "2024-06-11T18:33:55.065Z"
   },
   {
    "duration": 163,
    "start_time": "2024-06-11T18:33:55.076Z"
   },
   {
    "duration": 10,
    "start_time": "2024-06-11T18:33:55.241Z"
   },
   {
    "duration": 32,
    "start_time": "2024-06-11T18:33:55.252Z"
   },
   {
    "duration": 230,
    "start_time": "2024-06-11T18:33:55.285Z"
   },
   {
    "duration": 7,
    "start_time": "2024-06-11T18:33:55.517Z"
   },
   {
    "duration": 224,
    "start_time": "2024-06-11T18:33:55.525Z"
   },
   {
    "duration": 9,
    "start_time": "2024-06-11T18:33:55.751Z"
   },
   {
    "duration": 198,
    "start_time": "2024-06-11T18:33:55.762Z"
   },
   {
    "duration": 21,
    "start_time": "2024-06-11T18:33:55.962Z"
   },
   {
    "duration": 20,
    "start_time": "2024-06-11T18:33:55.985Z"
   },
   {
    "duration": 11,
    "start_time": "2024-06-11T18:33:56.007Z"
   },
   {
    "duration": 10,
    "start_time": "2024-06-11T18:33:56.020Z"
   },
   {
    "duration": 6,
    "start_time": "2024-06-11T18:33:56.032Z"
   },
   {
    "duration": 255,
    "start_time": "2024-06-11T18:33:56.039Z"
   },
   {
    "duration": 10,
    "start_time": "2024-06-11T18:33:56.296Z"
   },
   {
    "duration": 18,
    "start_time": "2024-06-11T18:33:56.309Z"
   },
   {
    "duration": 249,
    "start_time": "2024-06-11T18:33:56.328Z"
   },
   {
    "duration": 15,
    "start_time": "2024-06-11T18:33:56.578Z"
   },
   {
    "duration": 163,
    "start_time": "2024-06-11T18:33:56.601Z"
   },
   {
    "duration": 37,
    "start_time": "2024-06-11T18:33:56.765Z"
   },
   {
    "duration": 10,
    "start_time": "2024-06-11T18:33:56.804Z"
   },
   {
    "duration": 14,
    "start_time": "2024-06-11T18:33:56.815Z"
   },
   {
    "duration": 4,
    "start_time": "2024-06-11T18:33:56.830Z"
   },
   {
    "duration": 16,
    "start_time": "2024-06-11T18:33:56.836Z"
   },
   {
    "duration": 7,
    "start_time": "2024-06-11T18:33:56.853Z"
   },
   {
    "duration": 5,
    "start_time": "2024-06-11T18:33:56.861Z"
   },
   {
    "duration": 12,
    "start_time": "2024-06-11T18:33:56.867Z"
   },
   {
    "duration": 19,
    "start_time": "2024-06-11T18:33:56.880Z"
   },
   {
    "duration": 307,
    "start_time": "2024-06-11T18:33:56.901Z"
   },
   {
    "duration": 196,
    "start_time": "2024-06-11T18:34:35.530Z"
   },
   {
    "duration": 202,
    "start_time": "2024-06-11T18:38:21.424Z"
   },
   {
    "duration": 275,
    "start_time": "2024-06-11T18:41:21.499Z"
   },
   {
    "duration": 242,
    "start_time": "2024-06-11T18:41:44.937Z"
   },
   {
    "duration": 181,
    "start_time": "2024-06-11T18:42:24.706Z"
   },
   {
    "duration": 274,
    "start_time": "2024-06-11T18:42:34.867Z"
   },
   {
    "duration": 3,
    "start_time": "2024-06-11T18:43:11.813Z"
   },
   {
    "duration": 43,
    "start_time": "2024-06-11T18:43:11.826Z"
   },
   {
    "duration": 20,
    "start_time": "2024-06-11T18:43:11.870Z"
   },
   {
    "duration": 17,
    "start_time": "2024-06-11T18:43:11.891Z"
   },
   {
    "duration": 8,
    "start_time": "2024-06-11T18:43:11.910Z"
   },
   {
    "duration": 12,
    "start_time": "2024-06-11T18:43:11.919Z"
   },
   {
    "duration": 9,
    "start_time": "2024-06-11T18:43:11.932Z"
   },
   {
    "duration": 8,
    "start_time": "2024-06-11T18:43:11.942Z"
   },
   {
    "duration": 8,
    "start_time": "2024-06-11T18:43:11.951Z"
   },
   {
    "duration": 14,
    "start_time": "2024-06-11T18:43:11.961Z"
   },
   {
    "duration": 5,
    "start_time": "2024-06-11T18:43:11.977Z"
   },
   {
    "duration": 21,
    "start_time": "2024-06-11T18:43:11.983Z"
   },
   {
    "duration": 3,
    "start_time": "2024-06-11T18:43:12.005Z"
   },
   {
    "duration": 12,
    "start_time": "2024-06-11T18:43:12.009Z"
   },
   {
    "duration": 12,
    "start_time": "2024-06-11T18:43:12.022Z"
   },
   {
    "duration": 172,
    "start_time": "2024-06-11T18:43:12.035Z"
   },
   {
    "duration": 9,
    "start_time": "2024-06-11T18:43:12.208Z"
   },
   {
    "duration": 166,
    "start_time": "2024-06-11T18:43:12.218Z"
   },
   {
    "duration": 10,
    "start_time": "2024-06-11T18:43:12.385Z"
   },
   {
    "duration": 8,
    "start_time": "2024-06-11T18:43:12.401Z"
   },
   {
    "duration": 135,
    "start_time": "2024-06-11T18:43:12.412Z"
   },
   {
    "duration": 6,
    "start_time": "2024-06-11T18:43:12.549Z"
   },
   {
    "duration": 207,
    "start_time": "2024-06-11T18:43:12.556Z"
   },
   {
    "duration": 6,
    "start_time": "2024-06-11T18:43:12.765Z"
   },
   {
    "duration": 209,
    "start_time": "2024-06-11T18:43:12.772Z"
   },
   {
    "duration": 29,
    "start_time": "2024-06-11T18:43:12.982Z"
   },
   {
    "duration": 13,
    "start_time": "2024-06-11T18:43:13.013Z"
   },
   {
    "duration": 11,
    "start_time": "2024-06-11T18:43:13.027Z"
   },
   {
    "duration": 8,
    "start_time": "2024-06-11T18:43:13.039Z"
   },
   {
    "duration": 9,
    "start_time": "2024-06-11T18:43:13.048Z"
   },
   {
    "duration": 287,
    "start_time": "2024-06-11T18:43:13.058Z"
   },
   {
    "duration": 7,
    "start_time": "2024-06-11T18:43:13.346Z"
   },
   {
    "duration": 9,
    "start_time": "2024-06-11T18:43:13.354Z"
   },
   {
    "duration": 348,
    "start_time": "2024-06-11T18:43:13.364Z"
   },
   {
    "duration": 14,
    "start_time": "2024-06-11T18:43:13.713Z"
   },
   {
    "duration": 166,
    "start_time": "2024-06-11T18:43:13.729Z"
   },
   {
    "duration": 31,
    "start_time": "2024-06-11T18:43:13.897Z"
   },
   {
    "duration": 10,
    "start_time": "2024-06-11T18:43:13.929Z"
   },
   {
    "duration": 13,
    "start_time": "2024-06-11T18:43:13.940Z"
   },
   {
    "duration": 2,
    "start_time": "2024-06-11T18:43:13.954Z"
   },
   {
    "duration": 8,
    "start_time": "2024-06-11T18:43:13.958Z"
   },
   {
    "duration": 13,
    "start_time": "2024-06-11T18:43:13.967Z"
   },
   {
    "duration": 12,
    "start_time": "2024-06-11T18:43:13.981Z"
   },
   {
    "duration": 10,
    "start_time": "2024-06-11T18:43:13.994Z"
   },
   {
    "duration": 11,
    "start_time": "2024-06-11T18:43:14.005Z"
   },
   {
    "duration": 213,
    "start_time": "2024-06-11T18:43:14.017Z"
   },
   {
    "duration": 10,
    "start_time": "2024-06-11T18:46:39.195Z"
   },
   {
    "duration": 9,
    "start_time": "2024-06-11T18:47:11.884Z"
   },
   {
    "duration": 8,
    "start_time": "2024-06-11T18:47:43.278Z"
   },
   {
    "duration": 6,
    "start_time": "2024-06-11T18:48:06.857Z"
   },
   {
    "duration": 6,
    "start_time": "2024-06-11T18:48:23.019Z"
   },
   {
    "duration": 6,
    "start_time": "2024-06-11T18:48:36.829Z"
   },
   {
    "duration": 7,
    "start_time": "2024-06-11T18:49:15.985Z"
   },
   {
    "duration": 4,
    "start_time": "2024-06-11T18:54:07.146Z"
   },
   {
    "duration": 4,
    "start_time": "2024-06-11T18:54:25.846Z"
   },
   {
    "duration": 4,
    "start_time": "2024-06-11T18:54:44.090Z"
   },
   {
    "duration": 5,
    "start_time": "2024-06-11T18:55:00.694Z"
   },
   {
    "duration": 42,
    "start_time": "2024-06-11T18:55:36.451Z"
   },
   {
    "duration": 109,
    "start_time": "2024-06-11T18:55:48.739Z"
   },
   {
    "duration": 121,
    "start_time": "2024-06-11T18:57:04.017Z"
   },
   {
    "duration": 84,
    "start_time": "2024-06-11T18:57:26.248Z"
   },
   {
    "duration": 65,
    "start_time": "2024-06-11T18:57:41.231Z"
   },
   {
    "duration": 199,
    "start_time": "2024-06-11T18:58:03.940Z"
   },
   {
    "duration": 182,
    "start_time": "2024-06-11T18:58:17.236Z"
   },
   {
    "duration": 191,
    "start_time": "2024-06-11T18:58:43.948Z"
   },
   {
    "duration": 316,
    "start_time": "2024-06-11T18:59:22.686Z"
   },
   {
    "duration": 115,
    "start_time": "2024-06-11T18:59:45.753Z"
   },
   {
    "duration": 43,
    "start_time": "2024-06-11T19:00:13.859Z"
   },
   {
    "duration": 43,
    "start_time": "2024-06-11T19:00:32.490Z"
   },
   {
    "duration": 41,
    "start_time": "2024-06-11T19:01:09.708Z"
   },
   {
    "duration": 99,
    "start_time": "2024-06-11T19:01:27.904Z"
   },
   {
    "duration": 3,
    "start_time": "2024-06-11T19:04:35.304Z"
   },
   {
    "duration": 4,
    "start_time": "2024-06-11T19:05:04.056Z"
   },
   {
    "duration": 3,
    "start_time": "2024-06-11T19:05:16.470Z"
   },
   {
    "duration": 41,
    "start_time": "2024-06-11T19:08:07.289Z"
   },
   {
    "duration": 999,
    "start_time": "2024-06-11T19:08:28.997Z"
   },
   {
    "duration": 48,
    "start_time": "2024-06-11T19:08:29.998Z"
   },
   {
    "duration": 63,
    "start_time": "2024-06-11T19:08:30.047Z"
   },
   {
    "duration": 52,
    "start_time": "2024-06-11T19:08:30.112Z"
   },
   {
    "duration": 14,
    "start_time": "2024-06-11T19:08:30.165Z"
   },
   {
    "duration": 64,
    "start_time": "2024-06-11T19:08:30.180Z"
   },
   {
    "duration": 41,
    "start_time": "2024-06-11T19:08:30.245Z"
   },
   {
    "duration": 37,
    "start_time": "2024-06-11T19:08:30.288Z"
   },
   {
    "duration": 24,
    "start_time": "2024-06-11T19:08:30.326Z"
   },
   {
    "duration": 43,
    "start_time": "2024-06-11T19:08:30.353Z"
   },
   {
    "duration": 45,
    "start_time": "2024-06-11T19:08:30.397Z"
   },
   {
    "duration": 54,
    "start_time": "2024-06-11T19:08:30.443Z"
   },
   {
    "duration": 81,
    "start_time": "2024-06-11T19:08:30.499Z"
   },
   {
    "duration": 148,
    "start_time": "2024-06-11T19:08:30.581Z"
   },
   {
    "duration": 96,
    "start_time": "2024-06-11T19:08:30.731Z"
   },
   {
    "duration": 199,
    "start_time": "2024-06-11T19:08:30.828Z"
   },
   {
    "duration": 9,
    "start_time": "2024-06-11T19:08:31.028Z"
   },
   {
    "duration": 145,
    "start_time": "2024-06-11T19:08:31.038Z"
   },
   {
    "duration": 18,
    "start_time": "2024-06-11T19:08:31.184Z"
   },
   {
    "duration": 30,
    "start_time": "2024-06-11T19:08:31.203Z"
   },
   {
    "duration": 186,
    "start_time": "2024-06-11T19:08:31.234Z"
   },
   {
    "duration": 7,
    "start_time": "2024-06-11T19:08:31.422Z"
   },
   {
    "duration": 235,
    "start_time": "2024-06-11T19:08:31.430Z"
   },
   {
    "duration": 8,
    "start_time": "2024-06-11T19:08:31.667Z"
   },
   {
    "duration": 222,
    "start_time": "2024-06-11T19:08:31.677Z"
   },
   {
    "duration": 22,
    "start_time": "2024-06-11T19:08:31.901Z"
   },
   {
    "duration": 13,
    "start_time": "2024-06-11T19:08:31.924Z"
   },
   {
    "duration": 11,
    "start_time": "2024-06-11T19:08:31.940Z"
   },
   {
    "duration": 18,
    "start_time": "2024-06-11T19:08:31.952Z"
   },
   {
    "duration": 8,
    "start_time": "2024-06-11T19:08:31.972Z"
   },
   {
    "duration": 280,
    "start_time": "2024-06-11T19:08:31.981Z"
   },
   {
    "duration": 8,
    "start_time": "2024-06-11T19:08:32.262Z"
   },
   {
    "duration": 79,
    "start_time": "2024-06-11T19:08:32.271Z"
   },
   {
    "duration": 311,
    "start_time": "2024-06-11T19:08:32.351Z"
   },
   {
    "duration": 14,
    "start_time": "2024-06-11T19:08:32.664Z"
   },
   {
    "duration": 178,
    "start_time": "2024-06-11T19:08:32.679Z"
   },
   {
    "duration": 29,
    "start_time": "2024-06-11T19:08:32.859Z"
   },
   {
    "duration": 16,
    "start_time": "2024-06-11T19:08:32.889Z"
   },
   {
    "duration": 11,
    "start_time": "2024-06-11T19:08:32.906Z"
   },
   {
    "duration": 3,
    "start_time": "2024-06-11T19:08:32.919Z"
   },
   {
    "duration": 20,
    "start_time": "2024-06-11T19:08:32.923Z"
   },
   {
    "duration": 21,
    "start_time": "2024-06-11T19:08:32.944Z"
   },
   {
    "duration": 5,
    "start_time": "2024-06-11T19:08:32.966Z"
   },
   {
    "duration": 11,
    "start_time": "2024-06-11T19:08:32.973Z"
   },
   {
    "duration": 16,
    "start_time": "2024-06-11T19:08:32.985Z"
   },
   {
    "duration": 19,
    "start_time": "2024-06-11T19:08:33.003Z"
   },
   {
    "duration": 224,
    "start_time": "2024-06-11T19:08:33.023Z"
   },
   {
    "duration": 43,
    "start_time": "2024-06-11T19:12:28.953Z"
   },
   {
    "duration": 1023,
    "start_time": "2024-06-11T19:12:45.583Z"
   },
   {
    "duration": 44,
    "start_time": "2024-06-11T19:12:48.976Z"
   },
   {
    "duration": 32,
    "start_time": "2024-06-11T19:12:50.118Z"
   },
   {
    "duration": 22,
    "start_time": "2024-06-11T19:12:50.941Z"
   },
   {
    "duration": 9,
    "start_time": "2024-06-11T19:12:52.171Z"
   },
   {
    "duration": 8,
    "start_time": "2024-06-11T19:12:52.845Z"
   },
   {
    "duration": 7,
    "start_time": "2024-06-11T19:12:53.299Z"
   },
   {
    "duration": 8,
    "start_time": "2024-06-11T19:12:54.246Z"
   },
   {
    "duration": 4,
    "start_time": "2024-06-11T19:12:54.911Z"
   },
   {
    "duration": 4,
    "start_time": "2024-06-11T19:12:55.572Z"
   },
   {
    "duration": 6,
    "start_time": "2024-06-11T19:12:58.121Z"
   },
   {
    "duration": 10,
    "start_time": "2024-06-11T19:12:59.080Z"
   },
   {
    "duration": 4,
    "start_time": "2024-06-11T19:12:59.554Z"
   },
   {
    "duration": 10,
    "start_time": "2024-06-11T19:12:59.955Z"
   },
   {
    "duration": 11,
    "start_time": "2024-06-11T19:13:01.537Z"
   },
   {
    "duration": 163,
    "start_time": "2024-06-11T19:13:02.897Z"
   },
   {
    "duration": 9,
    "start_time": "2024-06-11T19:13:05.543Z"
   },
   {
    "duration": 103,
    "start_time": "2024-06-11T19:13:06.548Z"
   },
   {
    "duration": 9,
    "start_time": "2024-06-11T19:13:09.038Z"
   },
   {
    "duration": 6,
    "start_time": "2024-06-11T19:13:09.992Z"
   },
   {
    "duration": 124,
    "start_time": "2024-06-11T19:13:10.954Z"
   },
   {
    "duration": 7,
    "start_time": "2024-06-11T19:13:13.635Z"
   },
   {
    "duration": 211,
    "start_time": "2024-06-11T19:13:14.602Z"
   },
   {
    "duration": 7,
    "start_time": "2024-06-11T19:13:16.282Z"
   },
   {
    "duration": 183,
    "start_time": "2024-06-11T19:13:16.872Z"
   },
   {
    "duration": 23,
    "start_time": "2024-06-11T19:13:19.925Z"
   },
   {
    "duration": 13,
    "start_time": "2024-06-11T19:13:22.737Z"
   },
   {
    "duration": 11,
    "start_time": "2024-06-11T19:13:24.711Z"
   },
   {
    "duration": 6,
    "start_time": "2024-06-11T19:13:26.468Z"
   },
   {
    "duration": 7,
    "start_time": "2024-06-11T19:13:27.211Z"
   },
   {
    "duration": 238,
    "start_time": "2024-06-11T19:13:28.344Z"
   },
   {
    "duration": 7,
    "start_time": "2024-06-11T19:13:30.797Z"
   },
   {
    "duration": 50,
    "start_time": "2024-06-11T19:13:30.941Z"
   },
   {
    "duration": 306,
    "start_time": "2024-06-11T19:13:32.074Z"
   },
   {
    "duration": 14,
    "start_time": "2024-06-11T19:13:33.969Z"
   },
   {
    "duration": 161,
    "start_time": "2024-06-11T19:13:34.528Z"
   },
   {
    "duration": 31,
    "start_time": "2024-06-11T19:13:37.471Z"
   },
   {
    "duration": 15,
    "start_time": "2024-06-11T19:13:38.804Z"
   },
   {
    "duration": 11,
    "start_time": "2024-06-11T19:13:40.306Z"
   },
   {
    "duration": 3,
    "start_time": "2024-06-11T19:13:41.893Z"
   },
   {
    "duration": 4,
    "start_time": "2024-06-11T19:13:45.566Z"
   },
   {
    "duration": 4,
    "start_time": "2024-06-11T19:13:48.339Z"
   },
   {
    "duration": 4,
    "start_time": "2024-06-11T19:13:52.275Z"
   },
   {
    "duration": 4,
    "start_time": "2024-06-11T19:13:53.798Z"
   },
   {
    "duration": 5,
    "start_time": "2024-06-11T19:13:54.516Z"
   },
   {
    "duration": 41,
    "start_time": "2024-06-11T19:14:02.421Z"
   },
   {
    "duration": 242,
    "start_time": "2024-06-11T19:14:10.993Z"
   },
   {
    "duration": 185,
    "start_time": "2024-06-11T19:14:45.850Z"
   },
   {
    "duration": 181,
    "start_time": "2024-06-11T19:16:34.342Z"
   },
   {
    "duration": 192,
    "start_time": "2024-06-11T19:16:39.982Z"
   },
   {
    "duration": 190,
    "start_time": "2024-06-11T19:16:47.412Z"
   },
   {
    "duration": 94,
    "start_time": "2024-06-11T19:17:04.426Z"
   },
   {
    "duration": 95,
    "start_time": "2024-06-11T19:17:12.677Z"
   },
   {
    "duration": 458,
    "start_time": "2024-06-11T19:17:34.100Z"
   },
   {
    "duration": 445,
    "start_time": "2024-06-11T19:17:42.567Z"
   },
   {
    "duration": 4653,
    "start_time": "2024-06-11T19:17:59.057Z"
   },
   {
    "duration": 4570,
    "start_time": "2024-06-11T19:18:22.973Z"
   },
   {
    "duration": 4660,
    "start_time": "2024-06-11T19:18:58.638Z"
   },
   {
    "duration": 4574,
    "start_time": "2024-06-11T19:19:11.230Z"
   },
   {
    "duration": 4531,
    "start_time": "2024-06-11T19:19:52.171Z"
   },
   {
    "duration": 4550,
    "start_time": "2024-06-11T19:20:03.573Z"
   },
   {
    "duration": 4614,
    "start_time": "2024-06-11T19:20:16.255Z"
   },
   {
    "duration": 1338,
    "start_time": "2024-06-11T19:20:28.322Z"
   },
   {
    "duration": 1514,
    "start_time": "2024-06-11T19:20:47.612Z"
   },
   {
    "duration": 1340,
    "start_time": "2024-06-11T19:20:58.452Z"
   },
   {
    "duration": 1331,
    "start_time": "2024-06-11T19:21:12.882Z"
   },
   {
    "duration": 1380,
    "start_time": "2024-06-11T19:22:01.193Z"
   },
   {
    "duration": 1442,
    "start_time": "2024-06-11T19:22:33.662Z"
   },
   {
    "duration": 55,
    "start_time": "2024-06-11T19:22:53.088Z"
   },
   {
    "duration": 102,
    "start_time": "2024-06-11T19:23:14.908Z"
   },
   {
    "duration": 80,
    "start_time": "2024-06-11T19:23:41.879Z"
   },
   {
    "duration": 548,
    "start_time": "2024-06-11T19:24:10.195Z"
   },
   {
    "duration": 555,
    "start_time": "2024-06-11T19:25:34.701Z"
   },
   {
    "duration": 533,
    "start_time": "2024-06-11T19:26:17.628Z"
   },
   {
    "duration": 142,
    "start_time": "2024-06-11T19:38:21.318Z"
   },
   {
    "duration": 77,
    "start_time": "2024-06-11T19:39:52.001Z"
   },
   {
    "duration": 190,
    "start_time": "2024-06-11T19:40:27.143Z"
   },
   {
    "duration": 125,
    "start_time": "2024-06-11T19:41:22.053Z"
   },
   {
    "duration": 115,
    "start_time": "2024-06-11T19:42:03.361Z"
   },
   {
    "duration": 202,
    "start_time": "2024-06-11T19:42:31.244Z"
   },
   {
    "duration": 256,
    "start_time": "2024-06-11T19:43:33.433Z"
   },
   {
    "duration": 185,
    "start_time": "2024-06-11T19:44:06.121Z"
   },
   {
    "duration": 188,
    "start_time": "2024-06-11T19:44:20.507Z"
   },
   {
    "duration": 290,
    "start_time": "2024-06-11T19:44:37.317Z"
   },
   {
    "duration": 395,
    "start_time": "2024-06-11T19:44:58.355Z"
   },
   {
    "duration": 875,
    "start_time": "2024-06-11T19:45:40.316Z"
   },
   {
    "duration": 815,
    "start_time": "2024-06-11T19:48:54.346Z"
   },
   {
    "duration": 71,
    "start_time": "2024-06-11T19:51:02.642Z"
   },
   {
    "duration": 94,
    "start_time": "2024-06-11T19:51:36.508Z"
   },
   {
    "duration": 71,
    "start_time": "2024-06-11T19:52:33.326Z"
   },
   {
    "duration": 60,
    "start_time": "2024-06-11T19:53:49.349Z"
   },
   {
    "duration": 69,
    "start_time": "2024-06-11T19:54:07.627Z"
   },
   {
    "duration": 77,
    "start_time": "2024-06-11T19:54:15.112Z"
   },
   {
    "duration": 3,
    "start_time": "2024-06-11T19:54:34.380Z"
   },
   {
    "duration": 73,
    "start_time": "2024-06-11T19:54:57.745Z"
   },
   {
    "duration": 3,
    "start_time": "2024-06-11T19:54:59.326Z"
   },
   {
    "duration": 84,
    "start_time": "2024-06-11T19:56:06.407Z"
   },
   {
    "duration": 76,
    "start_time": "2024-06-11T19:56:13.563Z"
   },
   {
    "duration": 75,
    "start_time": "2024-06-11T19:56:36.298Z"
   },
   {
    "duration": 70,
    "start_time": "2024-06-11T20:00:32.412Z"
   },
   {
    "duration": 82,
    "start_time": "2024-06-11T20:01:33.533Z"
   },
   {
    "duration": 76,
    "start_time": "2024-06-11T20:01:47.995Z"
   },
   {
    "duration": 91,
    "start_time": "2024-06-11T20:02:07.511Z"
   },
   {
    "duration": 41,
    "start_time": "2024-06-11T20:03:40.213Z"
   },
   {
    "duration": 43,
    "start_time": "2024-06-11T20:04:11.033Z"
   },
   {
    "duration": 4,
    "start_time": "2024-06-11T20:04:54.326Z"
   },
   {
    "duration": 211,
    "start_time": "2024-06-11T20:09:21.114Z"
   },
   {
    "duration": 40,
    "start_time": "2024-06-11T20:10:57.020Z"
   },
   {
    "duration": 161,
    "start_time": "2024-06-11T20:12:15.157Z"
   },
   {
    "duration": 161,
    "start_time": "2024-06-11T20:12:36.373Z"
   },
   {
    "duration": 188,
    "start_time": "2024-06-11T20:12:56.721Z"
   },
   {
    "duration": 218,
    "start_time": "2024-06-11T20:13:18.483Z"
   },
   {
    "duration": 156,
    "start_time": "2024-06-11T20:13:37.862Z"
   },
   {
    "duration": 164,
    "start_time": "2024-06-11T20:13:56.541Z"
   },
   {
    "duration": 229,
    "start_time": "2024-06-11T20:14:16.307Z"
   },
   {
    "duration": 39,
    "start_time": "2024-06-11T20:18:08.769Z"
   },
   {
    "duration": 42,
    "start_time": "2024-06-11T20:18:27.043Z"
   },
   {
    "duration": 3,
    "start_time": "2024-06-11T20:18:32.051Z"
   },
   {
    "duration": 61,
    "start_time": "2024-06-11T20:18:32.057Z"
   },
   {
    "duration": 21,
    "start_time": "2024-06-11T20:18:32.119Z"
   },
   {
    "duration": 18,
    "start_time": "2024-06-11T20:18:32.141Z"
   },
   {
    "duration": 10,
    "start_time": "2024-06-11T20:18:32.160Z"
   },
   {
    "duration": 24,
    "start_time": "2024-06-11T20:18:32.171Z"
   },
   {
    "duration": 19,
    "start_time": "2024-06-11T20:18:32.197Z"
   },
   {
    "duration": 19,
    "start_time": "2024-06-11T20:18:32.217Z"
   },
   {
    "duration": 6,
    "start_time": "2024-06-11T20:18:32.238Z"
   },
   {
    "duration": 8,
    "start_time": "2024-06-11T20:18:32.246Z"
   },
   {
    "duration": 7,
    "start_time": "2024-06-11T20:18:32.257Z"
   },
   {
    "duration": 10,
    "start_time": "2024-06-11T20:18:32.272Z"
   },
   {
    "duration": 3,
    "start_time": "2024-06-11T20:18:32.284Z"
   },
   {
    "duration": 27,
    "start_time": "2024-06-11T20:18:32.289Z"
   },
   {
    "duration": 11,
    "start_time": "2024-06-11T20:18:32.318Z"
   },
   {
    "duration": 187,
    "start_time": "2024-06-11T20:18:32.330Z"
   },
   {
    "duration": 11,
    "start_time": "2024-06-11T20:18:32.518Z"
   },
   {
    "duration": 116,
    "start_time": "2024-06-11T20:18:32.530Z"
   },
   {
    "duration": 10,
    "start_time": "2024-06-11T20:18:32.647Z"
   },
   {
    "duration": 25,
    "start_time": "2024-06-11T20:18:32.659Z"
   },
   {
    "duration": 143,
    "start_time": "2024-06-11T20:18:32.685Z"
   },
   {
    "duration": 8,
    "start_time": "2024-06-11T20:18:32.830Z"
   },
   {
    "duration": 215,
    "start_time": "2024-06-11T20:18:32.839Z"
   },
   {
    "duration": 9,
    "start_time": "2024-06-11T20:18:33.056Z"
   },
   {
    "duration": 229,
    "start_time": "2024-06-11T20:18:33.066Z"
   },
   {
    "duration": 25,
    "start_time": "2024-06-11T20:18:33.297Z"
   },
   {
    "duration": 12,
    "start_time": "2024-06-11T20:18:33.324Z"
   },
   {
    "duration": 11,
    "start_time": "2024-06-11T20:18:33.337Z"
   },
   {
    "duration": 6,
    "start_time": "2024-06-11T20:18:33.350Z"
   },
   {
    "duration": 23,
    "start_time": "2024-06-11T20:18:33.357Z"
   },
   {
    "duration": 271,
    "start_time": "2024-06-11T20:18:33.382Z"
   },
   {
    "duration": 7,
    "start_time": "2024-06-11T20:18:33.655Z"
   },
   {
    "duration": 7,
    "start_time": "2024-06-11T20:18:33.663Z"
   },
   {
    "duration": 356,
    "start_time": "2024-06-11T20:18:33.672Z"
   },
   {
    "duration": 15,
    "start_time": "2024-06-11T20:18:34.029Z"
   },
   {
    "duration": 181,
    "start_time": "2024-06-11T20:18:34.045Z"
   },
   {
    "duration": 40,
    "start_time": "2024-06-11T20:18:34.228Z"
   },
   {
    "duration": 9,
    "start_time": "2024-06-11T20:18:34.270Z"
   },
   {
    "duration": 26,
    "start_time": "2024-06-11T20:18:34.281Z"
   },
   {
    "duration": 3,
    "start_time": "2024-06-11T20:18:34.308Z"
   },
   {
    "duration": 8,
    "start_time": "2024-06-11T20:18:34.314Z"
   },
   {
    "duration": 4,
    "start_time": "2024-06-11T20:18:34.323Z"
   },
   {
    "duration": 17,
    "start_time": "2024-06-11T20:18:34.328Z"
   },
   {
    "duration": 4,
    "start_time": "2024-06-11T20:18:34.346Z"
   },
   {
    "duration": 6,
    "start_time": "2024-06-11T20:18:34.352Z"
   },
   {
    "duration": 53,
    "start_time": "2024-06-11T20:18:34.359Z"
   },
   {
    "duration": 205,
    "start_time": "2024-06-11T20:18:34.413Z"
   },
   {
    "duration": 239,
    "start_time": "2024-06-11T20:18:34.620Z"
   },
   {
    "duration": 440,
    "start_time": "2024-06-11T20:23:16.849Z"
   },
   {
    "duration": 37,
    "start_time": "2024-06-11T20:24:04.205Z"
   },
   {
    "duration": 171,
    "start_time": "2024-06-11T20:24:12.967Z"
   },
   {
    "duration": 183,
    "start_time": "2024-06-11T20:25:02.031Z"
   },
   {
    "duration": 154,
    "start_time": "2024-06-11T20:25:26.759Z"
   },
   {
    "duration": 221,
    "start_time": "2024-06-11T20:26:40.582Z"
   },
   {
    "duration": 250,
    "start_time": "2024-06-11T20:27:40.391Z"
   },
   {
    "duration": 150,
    "start_time": "2024-06-11T20:31:39.575Z"
   },
   {
    "duration": 223,
    "start_time": "2024-06-11T20:32:11.395Z"
   },
   {
    "duration": 157,
    "start_time": "2024-06-11T20:32:41.668Z"
   },
   {
    "duration": 181,
    "start_time": "2024-06-11T20:33:03.835Z"
   },
   {
    "duration": 164,
    "start_time": "2024-06-11T20:37:18.464Z"
   },
   {
    "duration": 215,
    "start_time": "2024-06-11T20:37:47.498Z"
   },
   {
    "duration": 212,
    "start_time": "2024-06-11T20:38:13.901Z"
   },
   {
    "duration": 214,
    "start_time": "2024-06-11T20:38:31.093Z"
   },
   {
    "duration": 163,
    "start_time": "2024-06-11T20:38:55.562Z"
   },
   {
    "duration": 173,
    "start_time": "2024-06-11T20:39:11.261Z"
   },
   {
    "duration": 164,
    "start_time": "2024-06-11T20:39:29.375Z"
   },
   {
    "duration": 203,
    "start_time": "2024-06-11T20:40:09.210Z"
   },
   {
    "duration": 222,
    "start_time": "2024-06-11T20:40:32.004Z"
   },
   {
    "duration": 167,
    "start_time": "2024-06-11T20:41:29.353Z"
   },
   {
    "duration": 184,
    "start_time": "2024-06-11T20:42:36.842Z"
   },
   {
    "duration": 165,
    "start_time": "2024-06-11T20:42:53.359Z"
   },
   {
    "duration": 104,
    "start_time": "2024-06-11T20:52:23.556Z"
   },
   {
    "duration": 100,
    "start_time": "2024-06-11T20:52:33.633Z"
   },
   {
    "duration": 108,
    "start_time": "2024-06-11T20:52:45.216Z"
   },
   {
    "duration": 46,
    "start_time": "2024-06-11T20:53:01.143Z"
   },
   {
    "duration": 38,
    "start_time": "2024-06-11T20:54:38.813Z"
   },
   {
    "duration": 1270,
    "start_time": "2024-06-11T20:57:36.396Z"
   },
   {
    "duration": 1369,
    "start_time": "2024-06-11T20:57:52.143Z"
   },
   {
    "duration": 1321,
    "start_time": "2024-06-11T20:58:13.869Z"
   },
   {
    "duration": 1368,
    "start_time": "2024-06-11T20:59:50.190Z"
   },
   {
    "duration": 1455,
    "start_time": "2024-06-11T21:01:49.766Z"
   },
   {
    "duration": 1501,
    "start_time": "2024-06-11T21:02:15.944Z"
   },
   {
    "duration": 178,
    "start_time": "2024-06-11T21:02:17.446Z"
   },
   {
    "duration": 1626,
    "start_time": "2024-06-11T21:03:46.619Z"
   },
   {
    "duration": 1693,
    "start_time": "2024-06-11T21:05:00.595Z"
   },
   {
    "duration": 1373,
    "start_time": "2024-06-11T21:05:15.920Z"
   },
   {
    "duration": 1767,
    "start_time": "2024-06-11T21:05:57.616Z"
   },
   {
    "duration": 1727,
    "start_time": "2024-06-11T21:07:14.353Z"
   },
   {
    "duration": 1327,
    "start_time": "2024-06-11T21:08:13.661Z"
   },
   {
    "duration": 2231,
    "start_time": "2024-06-11T21:09:09.085Z"
   },
   {
    "duration": 1713,
    "start_time": "2024-06-11T21:10:28.983Z"
   },
   {
    "duration": 2010,
    "start_time": "2024-06-11T21:17:01.646Z"
   },
   {
    "duration": 1246,
    "start_time": "2024-06-11T21:22:08.987Z"
   },
   {
    "duration": 200,
    "start_time": "2024-06-11T21:22:24.050Z"
   },
   {
    "duration": 223,
    "start_time": "2024-06-11T21:22:24.252Z"
   },
   {
    "duration": 122,
    "start_time": "2024-06-11T21:23:08.278Z"
   },
   {
    "duration": 142,
    "start_time": "2024-06-11T21:23:44.293Z"
   },
   {
    "duration": 123,
    "start_time": "2024-06-11T21:23:57.952Z"
   },
   {
    "duration": 121,
    "start_time": "2024-06-11T21:24:19.446Z"
   },
   {
    "duration": 86,
    "start_time": "2024-06-11T21:25:50.466Z"
   },
   {
    "duration": 7,
    "start_time": "2024-06-11T21:26:05.517Z"
   },
   {
    "duration": 84,
    "start_time": "2024-06-11T21:26:27.199Z"
   },
   {
    "duration": 92,
    "start_time": "2024-06-11T21:26:44.167Z"
   },
   {
    "duration": 86,
    "start_time": "2024-06-11T21:28:41.818Z"
   },
   {
    "duration": 241,
    "start_time": "2024-06-11T21:29:02.176Z"
   },
   {
    "duration": 1376,
    "start_time": "2024-06-11T21:40:37.026Z"
   },
   {
    "duration": 226,
    "start_time": "2024-06-11T21:40:53.100Z"
   },
   {
    "duration": 15,
    "start_time": "2024-06-11T21:56:04.042Z"
   },
   {
    "duration": 152,
    "start_time": "2024-06-11T21:56:13.976Z"
   },
   {
    "duration": 142,
    "start_time": "2024-06-11T21:56:28.797Z"
   },
   {
    "duration": 151,
    "start_time": "2024-06-11T21:57:03.661Z"
   },
   {
    "duration": 14,
    "start_time": "2024-06-11T21:57:22.483Z"
   },
   {
    "duration": 159,
    "start_time": "2024-06-11T21:57:28.182Z"
   },
   {
    "duration": 115,
    "start_time": "2024-06-11T21:59:03.704Z"
   },
   {
    "duration": 124,
    "start_time": "2024-06-11T21:59:24.346Z"
   },
   {
    "duration": 15,
    "start_time": "2024-06-11T22:03:40.826Z"
   },
   {
    "duration": 6,
    "start_time": "2024-06-11T22:07:49.943Z"
   },
   {
    "duration": 63,
    "start_time": "2024-06-11T22:08:01.685Z"
   },
   {
    "duration": 7,
    "start_time": "2024-06-11T22:08:15.849Z"
   },
   {
    "duration": 10,
    "start_time": "2024-06-11T22:08:24.734Z"
   },
   {
    "duration": 12,
    "start_time": "2024-06-11T22:09:09.229Z"
   },
   {
    "duration": 12,
    "start_time": "2024-06-11T22:09:27.084Z"
   },
   {
    "duration": 2,
    "start_time": "2024-06-11T22:09:33.993Z"
   },
   {
    "duration": 43,
    "start_time": "2024-06-11T22:09:34.001Z"
   },
   {
    "duration": 24,
    "start_time": "2024-06-11T22:09:34.046Z"
   },
   {
    "duration": 18,
    "start_time": "2024-06-11T22:09:34.072Z"
   },
   {
    "duration": 9,
    "start_time": "2024-06-11T22:09:34.092Z"
   },
   {
    "duration": 14,
    "start_time": "2024-06-11T22:09:34.102Z"
   },
   {
    "duration": 15,
    "start_time": "2024-06-11T22:09:34.117Z"
   },
   {
    "duration": 12,
    "start_time": "2024-06-11T22:09:34.133Z"
   },
   {
    "duration": 10,
    "start_time": "2024-06-11T22:09:34.146Z"
   },
   {
    "duration": 12,
    "start_time": "2024-06-11T22:09:34.158Z"
   },
   {
    "duration": 5,
    "start_time": "2024-06-11T22:09:34.685Z"
   },
   {
    "duration": 20,
    "start_time": "2024-06-11T22:09:34.692Z"
   },
   {
    "duration": 6,
    "start_time": "2024-06-11T22:09:34.714Z"
   },
   {
    "duration": 27,
    "start_time": "2024-06-11T22:09:34.721Z"
   },
   {
    "duration": 23,
    "start_time": "2024-06-11T22:09:34.751Z"
   },
   {
    "duration": 144,
    "start_time": "2024-06-11T22:09:34.776Z"
   },
   {
    "duration": 10,
    "start_time": "2024-06-11T22:09:34.921Z"
   },
   {
    "duration": 129,
    "start_time": "2024-06-11T22:09:34.932Z"
   },
   {
    "duration": 10,
    "start_time": "2024-06-11T22:09:35.063Z"
   },
   {
    "duration": 27,
    "start_time": "2024-06-11T22:09:35.074Z"
   },
   {
    "duration": 1012,
    "start_time": "2024-06-11T22:09:35.103Z"
   },
   {
    "duration": 6,
    "start_time": "2024-06-11T22:09:36.117Z"
   },
   {
    "duration": 209,
    "start_time": "2024-06-11T22:09:36.125Z"
   },
   {
    "duration": 6,
    "start_time": "2024-06-11T22:09:36.337Z"
   },
   {
    "duration": 211,
    "start_time": "2024-06-11T22:09:36.345Z"
   },
   {
    "duration": 23,
    "start_time": "2024-06-11T22:09:36.558Z"
   },
   {
    "duration": 24,
    "start_time": "2024-06-11T22:09:36.582Z"
   },
   {
    "duration": 12,
    "start_time": "2024-06-11T22:09:36.607Z"
   },
   {
    "duration": 23,
    "start_time": "2024-06-11T22:09:36.620Z"
   },
   {
    "duration": 12,
    "start_time": "2024-06-11T22:09:36.644Z"
   },
   {
    "duration": 240,
    "start_time": "2024-06-11T22:09:36.658Z"
   },
   {
    "duration": 7,
    "start_time": "2024-06-11T22:09:36.899Z"
   },
   {
    "duration": 9,
    "start_time": "2024-06-11T22:09:36.908Z"
   },
   {
    "duration": 282,
    "start_time": "2024-06-11T22:09:36.919Z"
   },
   {
    "duration": 16,
    "start_time": "2024-06-11T22:09:37.203Z"
   },
   {
    "duration": 185,
    "start_time": "2024-06-11T22:09:37.220Z"
   },
   {
    "duration": 34,
    "start_time": "2024-06-11T22:09:37.406Z"
   },
   {
    "duration": 14,
    "start_time": "2024-06-11T22:09:37.442Z"
   },
   {
    "duration": 14,
    "start_time": "2024-06-11T22:09:37.457Z"
   },
   {
    "duration": 8,
    "start_time": "2024-06-11T22:09:37.472Z"
   },
   {
    "duration": 26,
    "start_time": "2024-06-11T22:09:37.482Z"
   },
   {
    "duration": 5,
    "start_time": "2024-06-11T22:09:37.509Z"
   },
   {
    "duration": 6,
    "start_time": "2024-06-11T22:09:37.515Z"
   },
   {
    "duration": 11,
    "start_time": "2024-06-11T22:09:37.522Z"
   },
   {
    "duration": 7,
    "start_time": "2024-06-11T22:09:37.534Z"
   },
   {
    "duration": 10,
    "start_time": "2024-06-11T22:09:37.542Z"
   },
   {
    "duration": 48,
    "start_time": "2024-06-11T22:09:37.553Z"
   },
   {
    "duration": 1405,
    "start_time": "2024-06-11T22:09:37.602Z"
   },
   {
    "duration": 227,
    "start_time": "2024-06-11T22:09:39.009Z"
   },
   {
    "duration": 121,
    "start_time": "2024-06-11T22:09:39.238Z"
   },
   {
    "duration": 9,
    "start_time": "2024-06-11T22:10:54.554Z"
   },
   {
    "duration": 13,
    "start_time": "2024-06-11T22:12:01.925Z"
   },
   {
    "duration": 4,
    "start_time": "2024-06-11T22:12:11.483Z"
   },
   {
    "duration": 9,
    "start_time": "2024-06-11T22:12:13.612Z"
   },
   {
    "duration": 2,
    "start_time": "2024-06-11T22:13:11.794Z"
   },
   {
    "duration": 38,
    "start_time": "2024-06-11T22:13:13.951Z"
   },
   {
    "duration": 21,
    "start_time": "2024-06-11T22:13:14.563Z"
   },
   {
    "duration": 29,
    "start_time": "2024-06-11T22:13:15.371Z"
   },
   {
    "duration": 9,
    "start_time": "2024-06-11T22:13:16.168Z"
   },
   {
    "duration": 9,
    "start_time": "2024-06-11T22:13:17.351Z"
   },
   {
    "duration": 8,
    "start_time": "2024-06-11T22:13:29.014Z"
   },
   {
    "duration": 8,
    "start_time": "2024-06-11T22:13:30.010Z"
   },
   {
    "duration": 5,
    "start_time": "2024-06-11T22:13:31.158Z"
   },
   {
    "duration": 5,
    "start_time": "2024-06-11T22:13:32.002Z"
   },
   {
    "duration": 6,
    "start_time": "2024-06-11T22:13:35.161Z"
   },
   {
    "duration": 10,
    "start_time": "2024-06-11T22:13:36.890Z"
   },
   {
    "duration": 3,
    "start_time": "2024-06-11T22:13:38.084Z"
   },
   {
    "duration": 9,
    "start_time": "2024-06-11T22:13:39.547Z"
   },
   {
    "duration": 10,
    "start_time": "2024-06-11T22:13:41.541Z"
   },
   {
    "duration": 142,
    "start_time": "2024-06-11T22:13:42.661Z"
   },
   {
    "duration": 10,
    "start_time": "2024-06-11T22:13:45.609Z"
   },
   {
    "duration": 111,
    "start_time": "2024-06-11T22:13:46.811Z"
   },
   {
    "duration": 13,
    "start_time": "2024-06-11T22:13:49.670Z"
   },
   {
    "duration": 7,
    "start_time": "2024-06-11T22:13:50.886Z"
   },
   {
    "duration": 123,
    "start_time": "2024-06-11T22:13:52.025Z"
   },
   {
    "duration": 6,
    "start_time": "2024-06-11T22:13:54.045Z"
   },
   {
    "duration": 192,
    "start_time": "2024-06-11T22:13:55.085Z"
   },
   {
    "duration": 6,
    "start_time": "2024-06-11T22:13:59.772Z"
   },
   {
    "duration": 183,
    "start_time": "2024-06-11T22:14:01.027Z"
   },
   {
    "duration": 21,
    "start_time": "2024-06-11T22:14:09.884Z"
   },
   {
    "duration": 13,
    "start_time": "2024-06-11T22:14:19.870Z"
   },
   {
    "duration": 12,
    "start_time": "2024-06-11T22:14:21.989Z"
   },
   {
    "duration": 18,
    "start_time": "2024-06-11T22:14:23.993Z"
   },
   {
    "duration": 7,
    "start_time": "2024-06-11T22:14:25.046Z"
   },
   {
    "duration": 237,
    "start_time": "2024-06-11T22:14:26.390Z"
   },
   {
    "duration": 6,
    "start_time": "2024-06-11T22:14:31.543Z"
   },
   {
    "duration": 8,
    "start_time": "2024-06-11T22:14:32.771Z"
   },
   {
    "duration": 248,
    "start_time": "2024-06-11T22:14:34.121Z"
   },
   {
    "duration": 15,
    "start_time": "2024-06-11T22:14:39.393Z"
   },
   {
    "duration": 161,
    "start_time": "2024-06-11T22:14:40.899Z"
   },
   {
    "duration": 30,
    "start_time": "2024-06-11T22:14:47.409Z"
   },
   {
    "duration": 11,
    "start_time": "2024-06-11T22:14:49.732Z"
   },
   {
    "duration": 13,
    "start_time": "2024-06-11T22:14:55.807Z"
   },
   {
    "duration": 12,
    "start_time": "2024-06-11T22:15:15.877Z"
   },
   {
    "duration": 3,
    "start_time": "2024-06-11T22:15:19.935Z"
   },
   {
    "duration": 9,
    "start_time": "2024-06-11T22:15:20.785Z"
   },
   {
    "duration": 101,
    "start_time": "2024-06-11T22:17:06.245Z"
   },
   {
    "duration": 102,
    "start_time": "2024-06-11T22:17:23.886Z"
   },
   {
    "duration": 13,
    "start_time": "2024-06-11T22:18:34.056Z"
   },
   {
    "duration": 30,
    "start_time": "2024-06-11T22:19:46.372Z"
   },
   {
    "duration": 12,
    "start_time": "2024-06-11T22:20:27.716Z"
   },
   {
    "duration": 18,
    "start_time": "2024-06-11T22:23:32.274Z"
   },
   {
    "duration": 17,
    "start_time": "2024-06-11T22:24:13.757Z"
   },
   {
    "duration": 175,
    "start_time": "2024-06-11T22:24:57.748Z"
   },
   {
    "duration": 11,
    "start_time": "2024-06-11T22:26:10.695Z"
   },
   {
    "duration": 16,
    "start_time": "2024-06-11T22:26:33.598Z"
   },
   {
    "duration": 16,
    "start_time": "2024-06-11T22:29:04.883Z"
   },
   {
    "duration": 160,
    "start_time": "2024-06-11T22:29:18.526Z"
   },
   {
    "duration": 84,
    "start_time": "2024-06-11T22:33:35.472Z"
   },
   {
    "duration": 10,
    "start_time": "2024-06-11T22:34:04.266Z"
   },
   {
    "duration": 4,
    "start_time": "2024-06-11T22:34:26.400Z"
   },
   {
    "duration": 12,
    "start_time": "2024-06-11T22:34:27.699Z"
   },
   {
    "duration": 51,
    "start_time": "2024-06-11T22:35:21.057Z"
   },
   {
    "duration": 4,
    "start_time": "2024-06-11T22:35:47.863Z"
   },
   {
    "duration": 5,
    "start_time": "2024-06-11T22:36:10.613Z"
   },
   {
    "duration": 4,
    "start_time": "2024-06-11T22:37:02.532Z"
   },
   {
    "duration": 41,
    "start_time": "2024-06-11T22:37:11.490Z"
   },
   {
    "duration": 2050,
    "start_time": "2024-06-11T22:37:13.269Z"
   },
   {
    "duration": 243,
    "start_time": "2024-06-11T22:37:15.879Z"
   },
   {
    "duration": 6,
    "start_time": "2024-06-11T22:55:59.752Z"
   },
   {
    "duration": 5,
    "start_time": "2024-06-11T22:56:02.372Z"
   },
   {
    "duration": 5,
    "start_time": "2024-06-11T22:56:05.264Z"
   },
   {
    "duration": 4,
    "start_time": "2024-06-11T22:56:28.992Z"
   },
   {
    "duration": 4,
    "start_time": "2024-06-11T22:57:02.851Z"
   },
   {
    "duration": 4,
    "start_time": "2024-06-11T22:57:14.874Z"
   },
   {
    "duration": 1162,
    "start_time": "2024-06-12T09:38:04.977Z"
   },
   {
    "duration": 55,
    "start_time": "2024-06-12T09:38:06.141Z"
   },
   {
    "duration": 23,
    "start_time": "2024-06-12T09:38:06.197Z"
   },
   {
    "duration": 20,
    "start_time": "2024-06-12T09:38:06.222Z"
   },
   {
    "duration": 13,
    "start_time": "2024-06-12T09:38:06.244Z"
   },
   {
    "duration": 12,
    "start_time": "2024-06-12T09:38:06.259Z"
   },
   {
    "duration": 11,
    "start_time": "2024-06-12T09:38:06.273Z"
   },
   {
    "duration": 17,
    "start_time": "2024-06-12T09:38:06.285Z"
   },
   {
    "duration": 5,
    "start_time": "2024-06-12T09:38:06.304Z"
   },
   {
    "duration": 5,
    "start_time": "2024-06-12T09:38:06.312Z"
   },
   {
    "duration": 7,
    "start_time": "2024-06-12T09:38:06.319Z"
   },
   {
    "duration": 44,
    "start_time": "2024-06-12T09:38:06.327Z"
   },
   {
    "duration": 4,
    "start_time": "2024-06-12T09:38:06.373Z"
   },
   {
    "duration": 15,
    "start_time": "2024-06-12T09:38:06.379Z"
   },
   {
    "duration": 14,
    "start_time": "2024-06-12T09:38:06.395Z"
   },
   {
    "duration": 241,
    "start_time": "2024-06-12T09:38:06.410Z"
   },
   {
    "duration": 12,
    "start_time": "2024-06-12T09:38:06.655Z"
   },
   {
    "duration": 194,
    "start_time": "2024-06-12T09:38:06.669Z"
   },
   {
    "duration": 15,
    "start_time": "2024-06-12T09:38:06.865Z"
   },
   {
    "duration": 22,
    "start_time": "2024-06-12T09:38:06.882Z"
   },
   {
    "duration": 182,
    "start_time": "2024-06-12T09:38:06.906Z"
   },
   {
    "duration": 11,
    "start_time": "2024-06-12T09:38:07.091Z"
   },
   {
    "duration": 290,
    "start_time": "2024-06-12T09:38:07.104Z"
   },
   {
    "duration": 9,
    "start_time": "2024-06-12T09:38:07.396Z"
   },
   {
    "duration": 286,
    "start_time": "2024-06-12T09:38:07.407Z"
   },
   {
    "duration": 29,
    "start_time": "2024-06-12T09:38:07.695Z"
   },
   {
    "duration": 37,
    "start_time": "2024-06-12T09:38:07.726Z"
   },
   {
    "duration": 17,
    "start_time": "2024-06-12T09:38:07.767Z"
   },
   {
    "duration": 8,
    "start_time": "2024-06-12T09:38:07.785Z"
   },
   {
    "duration": 18,
    "start_time": "2024-06-12T09:38:07.795Z"
   },
   {
    "duration": 371,
    "start_time": "2024-06-12T09:38:07.814Z"
   },
   {
    "duration": 17,
    "start_time": "2024-06-12T09:38:08.187Z"
   },
   {
    "duration": 11,
    "start_time": "2024-06-12T09:38:08.206Z"
   },
   {
    "duration": 468,
    "start_time": "2024-06-12T09:38:08.219Z"
   },
   {
    "duration": 41,
    "start_time": "2024-06-12T09:38:08.689Z"
   },
   {
    "duration": 25,
    "start_time": "2024-06-12T09:38:08.731Z"
   },
   {
    "duration": 47,
    "start_time": "2024-06-12T09:38:08.758Z"
   },
   {
    "duration": 4,
    "start_time": "2024-06-12T09:38:08.807Z"
   },
   {
    "duration": 8,
    "start_time": "2024-06-12T09:38:08.812Z"
   },
   {
    "duration": 10,
    "start_time": "2024-06-12T09:38:08.822Z"
   },
   {
    "duration": 6,
    "start_time": "2024-06-12T09:38:08.834Z"
   },
   {
    "duration": 7,
    "start_time": "2024-06-12T09:38:08.841Z"
   },
   {
    "duration": 6,
    "start_time": "2024-06-12T09:38:08.849Z"
   },
   {
    "duration": 65,
    "start_time": "2024-06-12T09:38:08.857Z"
   },
   {
    "duration": 2093,
    "start_time": "2024-06-12T09:38:08.923Z"
   },
   {
    "duration": 280,
    "start_time": "2024-06-12T09:38:11.018Z"
   },
   {
    "duration": 1823,
    "start_time": "2024-06-12T09:47:24.108Z"
   },
   {
    "duration": 52,
    "start_time": "2024-06-12T22:01:47.686Z"
   },
   {
    "duration": 1507,
    "start_time": "2024-06-12T22:02:31.681Z"
   },
   {
    "duration": 105,
    "start_time": "2024-06-12T22:02:39.126Z"
   },
   {
    "duration": 79,
    "start_time": "2024-06-12T22:02:43.533Z"
   },
   {
    "duration": 81,
    "start_time": "2024-06-12T22:02:46.274Z"
   },
   {
    "duration": 18,
    "start_time": "2024-06-12T22:02:50.288Z"
   },
   {
    "duration": 15,
    "start_time": "2024-06-12T22:02:50.475Z"
   },
   {
    "duration": 15,
    "start_time": "2024-06-12T22:02:53.359Z"
   },
   {
    "duration": 13,
    "start_time": "2024-06-12T22:02:53.675Z"
   },
   {
    "duration": 8,
    "start_time": "2024-06-12T22:02:56.672Z"
   },
   {
    "duration": 6,
    "start_time": "2024-06-12T22:03:00.435Z"
   },
   {
    "duration": 8,
    "start_time": "2024-06-12T22:03:06.845Z"
   },
   {
    "duration": 14,
    "start_time": "2024-06-12T22:03:08.132Z"
   },
   {
    "duration": 13,
    "start_time": "2024-06-12T22:03:09.998Z"
   },
   {
    "duration": 5,
    "start_time": "2024-06-12T22:03:14.295Z"
   },
   {
    "duration": 14,
    "start_time": "2024-06-12T22:03:15.134Z"
   },
   {
    "duration": 21,
    "start_time": "2024-06-12T22:03:25.757Z"
   },
   {
    "duration": 214,
    "start_time": "2024-06-12T22:03:27.471Z"
   },
   {
    "duration": 12,
    "start_time": "2024-06-12T22:03:53.020Z"
   },
   {
    "duration": 184,
    "start_time": "2024-06-12T22:03:53.250Z"
   },
   {
    "duration": 18,
    "start_time": "2024-06-12T22:04:13.672Z"
   },
   {
    "duration": 12,
    "start_time": "2024-06-12T22:04:14.993Z"
   },
   {
    "duration": 197,
    "start_time": "2024-06-12T22:04:15.205Z"
   },
   {
    "duration": 12,
    "start_time": "2024-06-12T22:07:25.494Z"
   },
   {
    "duration": 305,
    "start_time": "2024-06-12T22:07:28.219Z"
   },
   {
    "duration": 97,
    "start_time": "2024-06-12T22:15:54.728Z"
   },
   {
    "duration": 124,
    "start_time": "2024-06-12T22:16:03.668Z"
   },
   {
    "duration": 148,
    "start_time": "2024-06-12T22:19:45.858Z"
   },
   {
    "duration": 140,
    "start_time": "2024-06-12T22:20:24.341Z"
   },
   {
    "duration": 134,
    "start_time": "2024-06-12T22:20:43.322Z"
   },
   {
    "duration": 198,
    "start_time": "2024-06-12T22:21:26.302Z"
   },
   {
    "duration": 65,
    "start_time": "2024-06-12T22:25:02.621Z"
   },
   {
    "duration": 9,
    "start_time": "2024-06-12T22:25:23.366Z"
   },
   {
    "duration": 12,
    "start_time": "2024-06-12T22:25:25.371Z"
   },
   {
    "duration": 11,
    "start_time": "2024-06-12T22:25:25.562Z"
   },
   {
    "duration": 29,
    "start_time": "2024-06-12T22:25:57.254Z"
   },
   {
    "duration": 21,
    "start_time": "2024-06-12T22:25:58.637Z"
   },
   {
    "duration": 15,
    "start_time": "2024-06-12T22:26:00.142Z"
   },
   {
    "duration": 10,
    "start_time": "2024-06-12T22:26:07.011Z"
   },
   {
    "duration": 9,
    "start_time": "2024-06-12T22:26:07.194Z"
   },
   {
    "duration": 347,
    "start_time": "2024-06-12T22:26:09.281Z"
   },
   {
    "duration": 120,
    "start_time": "2024-06-12T22:26:12.662Z"
   },
   {
    "duration": 9,
    "start_time": "2024-06-12T22:29:04.842Z"
   },
   {
    "duration": 41,
    "start_time": "2024-06-12T22:32:41.333Z"
   },
   {
    "duration": 18,
    "start_time": "2024-06-12T22:32:49.781Z"
   },
   {
    "duration": 9,
    "start_time": "2024-06-12T22:32:51.053Z"
   },
   {
    "duration": 4,
    "start_time": "2024-06-12T22:32:52.050Z"
   },
   {
    "duration": 5,
    "start_time": "2024-06-12T22:33:03.144Z"
   },
   {
    "duration": 96,
    "start_time": "2024-06-12T22:39:07.261Z"
   },
   {
    "duration": 127,
    "start_time": "2024-06-12T22:43:14.540Z"
   },
   {
    "duration": 4,
    "start_time": "2024-06-12T23:02:49.586Z"
   },
   {
    "duration": 65,
    "start_time": "2024-06-12T23:02:49.592Z"
   },
   {
    "duration": 23,
    "start_time": "2024-06-12T23:02:49.660Z"
   },
   {
    "duration": 20,
    "start_time": "2024-06-12T23:02:49.685Z"
   },
   {
    "duration": 13,
    "start_time": "2024-06-12T23:02:49.707Z"
   },
   {
    "duration": 12,
    "start_time": "2024-06-12T23:02:49.721Z"
   },
   {
    "duration": 27,
    "start_time": "2024-06-12T23:02:49.734Z"
   },
   {
    "duration": 8,
    "start_time": "2024-06-12T23:02:49.763Z"
   },
   {
    "duration": 6,
    "start_time": "2024-06-12T23:02:49.773Z"
   },
   {
    "duration": 7,
    "start_time": "2024-06-12T23:02:49.780Z"
   },
   {
    "duration": 8,
    "start_time": "2024-06-12T23:02:49.889Z"
   },
   {
    "duration": 30,
    "start_time": "2024-06-12T23:02:49.900Z"
   },
   {
    "duration": 4,
    "start_time": "2024-06-12T23:02:49.932Z"
   },
   {
    "duration": 14,
    "start_time": "2024-06-12T23:02:49.938Z"
   },
   {
    "duration": 14,
    "start_time": "2024-06-12T23:02:49.954Z"
   },
   {
    "duration": 229,
    "start_time": "2024-06-12T23:02:49.971Z"
   },
   {
    "duration": 11,
    "start_time": "2024-06-12T23:02:50.202Z"
   },
   {
    "duration": 177,
    "start_time": "2024-06-12T23:02:50.215Z"
   },
   {
    "duration": 13,
    "start_time": "2024-06-12T23:02:50.394Z"
   },
   {
    "duration": 8,
    "start_time": "2024-06-12T23:02:50.409Z"
   },
   {
    "duration": 185,
    "start_time": "2024-06-12T23:02:50.419Z"
   },
   {
    "duration": 8,
    "start_time": "2024-06-12T23:02:50.606Z"
   },
   {
    "duration": 285,
    "start_time": "2024-06-12T23:02:50.615Z"
   },
   {
    "duration": 222,
    "start_time": "2024-06-12T23:02:50.901Z"
   },
   {
    "duration": 10,
    "start_time": "2024-06-12T23:02:51.124Z"
   },
   {
    "duration": 263,
    "start_time": "2024-06-12T23:02:51.135Z"
   },
   {
    "duration": 128,
    "start_time": "2024-06-12T23:02:51.400Z"
   },
   {
    "duration": 35,
    "start_time": "2024-06-12T23:02:51.530Z"
   },
   {
    "duration": 53,
    "start_time": "2024-06-12T23:02:51.566Z"
   },
   {
    "duration": 25,
    "start_time": "2024-06-12T23:02:51.621Z"
   },
   {
    "duration": 11,
    "start_time": "2024-06-12T23:02:51.647Z"
   },
   {
    "duration": 23,
    "start_time": "2024-06-12T23:02:51.660Z"
   },
   {
    "duration": 378,
    "start_time": "2024-06-12T23:02:51.685Z"
   },
   {
    "duration": 9,
    "start_time": "2024-06-12T23:02:52.065Z"
   },
   {
    "duration": 25,
    "start_time": "2024-06-12T23:02:52.075Z"
   },
   {
    "duration": 367,
    "start_time": "2024-06-12T23:02:52.102Z"
   },
   {
    "duration": 10,
    "start_time": "2024-06-12T23:02:52.473Z"
   },
   {
    "duration": 82,
    "start_time": "2024-06-12T23:02:52.484Z"
   },
   {
    "duration": 13,
    "start_time": "2024-06-12T23:02:52.567Z"
   },
   {
    "duration": 34,
    "start_time": "2024-06-12T23:02:52.581Z"
   },
   {
    "duration": 26,
    "start_time": "2024-06-12T23:02:52.617Z"
   },
   {
    "duration": 20,
    "start_time": "2024-06-12T23:02:52.645Z"
   },
   {
    "duration": 26,
    "start_time": "2024-06-12T23:02:52.667Z"
   },
   {
    "duration": 20,
    "start_time": "2024-06-12T23:02:52.695Z"
   },
   {
    "duration": 11,
    "start_time": "2024-06-12T23:02:52.717Z"
   },
   {
    "duration": 20,
    "start_time": "2024-06-12T23:02:52.729Z"
   },
   {
    "duration": 57,
    "start_time": "2024-06-12T23:02:52.751Z"
   },
   {
    "duration": 2166,
    "start_time": "2024-06-12T23:02:52.809Z"
   },
   {
    "duration": 275,
    "start_time": "2024-06-12T23:02:54.976Z"
   },
   {
    "duration": 13,
    "start_time": "2024-06-12T23:25:44.603Z"
   },
   {
    "duration": 9,
    "start_time": "2024-06-12T23:31:50.718Z"
   },
   {
    "duration": 13,
    "start_time": "2024-06-12T23:32:38.052Z"
   },
   {
    "duration": 13,
    "start_time": "2024-06-12T23:32:44.892Z"
   },
   {
    "duration": 11,
    "start_time": "2024-06-12T23:33:17.893Z"
   },
   {
    "duration": 69,
    "start_time": "2024-06-12T23:36:00.077Z"
   },
   {
    "duration": 8,
    "start_time": "2024-06-12T23:37:08.520Z"
   },
   {
    "duration": 8,
    "start_time": "2024-06-12T23:37:29.694Z"
   },
   {
    "duration": 4,
    "start_time": "2024-06-12T23:37:31.564Z"
   },
   {
    "duration": 9,
    "start_time": "2024-06-12T23:40:47.594Z"
   },
   {
    "duration": 5,
    "start_time": "2024-06-12T23:40:53.776Z"
   },
   {
    "duration": 5,
    "start_time": "2024-06-12T23:42:03.321Z"
   },
   {
    "duration": 5,
    "start_time": "2024-06-12T23:42:25.514Z"
   },
   {
    "duration": 9,
    "start_time": "2024-06-12T23:48:45.415Z"
   },
   {
    "duration": 8,
    "start_time": "2024-06-12T23:48:54.262Z"
   },
   {
    "duration": 128,
    "start_time": "2024-06-12T23:51:52.314Z"
   },
   {
    "duration": 101,
    "start_time": "2024-06-12T23:52:31.392Z"
   },
   {
    "duration": 11,
    "start_time": "2024-06-12T23:54:08.780Z"
   },
   {
    "duration": 6,
    "start_time": "2024-06-12T23:54:28.314Z"
   },
   {
    "duration": 6,
    "start_time": "2024-06-12T23:58:02.434Z"
   },
   {
    "duration": 17,
    "start_time": "2024-06-12T23:58:02.963Z"
   },
   {
    "duration": 106,
    "start_time": "2024-06-13T00:01:35.513Z"
   },
   {
    "duration": 19,
    "start_time": "2024-06-13T00:08:45.337Z"
   },
   {
    "duration": 7,
    "start_time": "2024-06-13T00:12:14.575Z"
   },
   {
    "duration": 13,
    "start_time": "2024-06-13T00:33:39.907Z"
   },
   {
    "duration": 4,
    "start_time": "2024-06-13T00:37:57.928Z"
   },
   {
    "duration": 4,
    "start_time": "2024-06-13T00:38:29.808Z"
   },
   {
    "duration": 122,
    "start_time": "2024-06-13T00:38:29.814Z"
   },
   {
    "duration": 31,
    "start_time": "2024-06-13T00:38:29.937Z"
   },
   {
    "duration": 35,
    "start_time": "2024-06-13T00:38:29.970Z"
   },
   {
    "duration": 32,
    "start_time": "2024-06-13T00:38:30.007Z"
   },
   {
    "duration": 76,
    "start_time": "2024-06-13T00:38:30.041Z"
   },
   {
    "duration": 62,
    "start_time": "2024-06-13T00:38:30.119Z"
   },
   {
    "duration": 123,
    "start_time": "2024-06-13T00:38:30.183Z"
   },
   {
    "duration": 130,
    "start_time": "2024-06-13T00:38:30.308Z"
   },
   {
    "duration": 32,
    "start_time": "2024-06-13T00:38:30.440Z"
   },
   {
    "duration": 76,
    "start_time": "2024-06-13T00:38:30.474Z"
   },
   {
    "duration": 66,
    "start_time": "2024-06-13T00:38:30.552Z"
   },
   {
    "duration": 67,
    "start_time": "2024-06-13T00:38:30.619Z"
   },
   {
    "duration": 102,
    "start_time": "2024-06-13T00:38:30.688Z"
   },
   {
    "duration": 59,
    "start_time": "2024-06-13T00:38:30.792Z"
   },
   {
    "duration": 61,
    "start_time": "2024-06-13T00:38:30.853Z"
   },
   {
    "duration": 255,
    "start_time": "2024-06-13T00:38:30.915Z"
   },
   {
    "duration": 12,
    "start_time": "2024-06-13T00:38:31.172Z"
   },
   {
    "duration": 254,
    "start_time": "2024-06-13T00:38:31.186Z"
   },
   {
    "duration": 78,
    "start_time": "2024-06-13T00:38:31.442Z"
   },
   {
    "duration": 40,
    "start_time": "2024-06-13T00:38:31.522Z"
   },
   {
    "duration": 191,
    "start_time": "2024-06-13T00:38:31.564Z"
   },
   {
    "duration": 111,
    "start_time": "2024-06-13T00:38:31.758Z"
   },
   {
    "duration": 9,
    "start_time": "2024-06-13T00:38:31.871Z"
   },
   {
    "duration": 287,
    "start_time": "2024-06-13T00:38:31.882Z"
   },
   {
    "duration": 139,
    "start_time": "2024-06-13T00:38:32.171Z"
   },
   {
    "duration": 9,
    "start_time": "2024-06-13T00:38:32.311Z"
   },
   {
    "duration": 477,
    "start_time": "2024-06-13T00:38:32.322Z"
   },
   {
    "duration": 8,
    "start_time": "2024-06-13T00:38:32.801Z"
   },
   {
    "duration": 144,
    "start_time": "2024-06-13T00:38:32.810Z"
   },
   {
    "duration": 7,
    "start_time": "2024-06-13T00:38:32.956Z"
   },
   {
    "duration": 29,
    "start_time": "2024-06-13T00:38:32.965Z"
   },
   {
    "duration": 12,
    "start_time": "2024-06-13T00:38:32.996Z"
   },
   {
    "duration": 19,
    "start_time": "2024-06-13T00:38:33.010Z"
   },
   {
    "duration": 17,
    "start_time": "2024-06-13T00:38:33.061Z"
   },
   {
    "duration": 8,
    "start_time": "2024-06-13T00:38:33.079Z"
   },
   {
    "duration": 9,
    "start_time": "2024-06-13T00:38:33.088Z"
   },
   {
    "duration": 384,
    "start_time": "2024-06-13T00:38:33.099Z"
   },
   {
    "duration": 8,
    "start_time": "2024-06-13T00:38:33.485Z"
   },
   {
    "duration": 23,
    "start_time": "2024-06-13T00:38:33.495Z"
   },
   {
    "duration": 343,
    "start_time": "2024-06-13T00:38:33.519Z"
   },
   {
    "duration": 9,
    "start_time": "2024-06-13T00:38:33.864Z"
   },
   {
    "duration": 57,
    "start_time": "2024-06-13T00:38:33.874Z"
   },
   {
    "duration": 32,
    "start_time": "2024-06-13T00:38:33.936Z"
   },
   {
    "duration": 11,
    "start_time": "2024-06-13T00:38:33.970Z"
   },
   {
    "duration": 4,
    "start_time": "2024-06-13T00:38:33.982Z"
   },
   {
    "duration": 5,
    "start_time": "2024-06-13T00:38:33.991Z"
   },
   {
    "duration": 6,
    "start_time": "2024-06-13T00:38:33.998Z"
   },
   {
    "duration": 8,
    "start_time": "2024-06-13T00:38:34.006Z"
   },
   {
    "duration": 9,
    "start_time": "2024-06-13T00:38:34.015Z"
   },
   {
    "duration": 6,
    "start_time": "2024-06-13T00:38:34.062Z"
   },
   {
    "duration": 46,
    "start_time": "2024-06-13T00:38:34.070Z"
   },
   {
    "duration": 2178,
    "start_time": "2024-06-13T00:38:34.118Z"
   },
   {
    "duration": 237,
    "start_time": "2024-06-13T00:38:36.298Z"
   },
   {
    "duration": 4,
    "start_time": "2024-06-13T00:43:42.461Z"
   },
   {
    "duration": 5,
    "start_time": "2024-06-13T00:45:35.839Z"
   },
   {
    "duration": 4,
    "start_time": "2024-06-13T00:45:51.518Z"
   },
   {
    "duration": 4,
    "start_time": "2024-06-13T00:48:54.673Z"
   },
   {
    "duration": 4,
    "start_time": "2024-06-13T00:54:31.960Z"
   },
   {
    "duration": 4,
    "start_time": "2024-06-13T00:56:57.366Z"
   },
   {
    "duration": 4,
    "start_time": "2024-06-13T00:57:18.740Z"
   },
   {
    "duration": 4,
    "start_time": "2024-06-13T00:57:27.129Z"
   },
   {
    "duration": 130,
    "start_time": "2024-06-13T01:00:13.247Z"
   },
   {
    "duration": 5,
    "start_time": "2024-06-13T01:16:38.854Z"
   },
   {
    "duration": 78,
    "start_time": "2024-06-13T01:20:25.373Z"
   },
   {
    "duration": 2118,
    "start_time": "2024-06-13T01:20:28.101Z"
   },
   {
    "duration": 234,
    "start_time": "2024-06-13T01:20:34.584Z"
   },
   {
    "duration": 12,
    "start_time": "2024-06-13T02:02:08.097Z"
   },
   {
    "duration": 4,
    "start_time": "2024-06-13T02:02:21.719Z"
   },
   {
    "duration": 3,
    "start_time": "2024-06-13T02:10:59.048Z"
   },
   {
    "duration": 50,
    "start_time": "2024-06-13T02:11:00.283Z"
   },
   {
    "duration": 71,
    "start_time": "2024-06-13T02:11:00.335Z"
   },
   {
    "duration": 69,
    "start_time": "2024-06-13T02:11:00.408Z"
   },
   {
    "duration": 52,
    "start_time": "2024-06-13T02:11:00.479Z"
   },
   {
    "duration": 61,
    "start_time": "2024-06-13T02:11:00.533Z"
   },
   {
    "duration": 57,
    "start_time": "2024-06-13T02:11:00.596Z"
   },
   {
    "duration": 42,
    "start_time": "2024-06-13T02:11:00.655Z"
   },
   {
    "duration": 105,
    "start_time": "2024-06-13T02:11:00.699Z"
   },
   {
    "duration": 68,
    "start_time": "2024-06-13T02:11:00.806Z"
   },
   {
    "duration": 52,
    "start_time": "2024-06-13T02:11:00.876Z"
   },
   {
    "duration": 85,
    "start_time": "2024-06-13T02:11:00.929Z"
   },
   {
    "duration": 62,
    "start_time": "2024-06-13T02:11:01.016Z"
   },
   {
    "duration": 38,
    "start_time": "2024-06-13T02:11:01.080Z"
   },
   {
    "duration": 77,
    "start_time": "2024-06-13T02:11:01.121Z"
   },
   {
    "duration": 55,
    "start_time": "2024-06-13T02:11:01.200Z"
   },
   {
    "duration": 246,
    "start_time": "2024-06-13T02:11:01.258Z"
   },
   {
    "duration": 13,
    "start_time": "2024-06-13T02:11:01.505Z"
   },
   {
    "duration": 284,
    "start_time": "2024-06-13T02:11:01.520Z"
   },
   {
    "duration": 13,
    "start_time": "2024-06-13T02:11:01.806Z"
   },
   {
    "duration": 29,
    "start_time": "2024-06-13T02:11:01.821Z"
   },
   {
    "duration": 221,
    "start_time": "2024-06-13T02:11:01.852Z"
   },
   {
    "duration": 112,
    "start_time": "2024-06-13T02:11:02.078Z"
   },
   {
    "duration": 10,
    "start_time": "2024-06-13T02:11:02.192Z"
   },
   {
    "duration": 495,
    "start_time": "2024-06-13T02:11:02.204Z"
   },
   {
    "duration": 148,
    "start_time": "2024-06-13T02:11:02.701Z"
   },
   {
    "duration": 24,
    "start_time": "2024-06-13T02:11:02.851Z"
   },
   {
    "duration": 308,
    "start_time": "2024-06-13T02:11:02.877Z"
   },
   {
    "duration": 7,
    "start_time": "2024-06-13T02:11:03.187Z"
   },
   {
    "duration": 184,
    "start_time": "2024-06-13T02:11:03.196Z"
   },
   {
    "duration": 32,
    "start_time": "2024-06-13T02:11:03.381Z"
   },
   {
    "duration": 5,
    "start_time": "2024-06-13T02:11:03.414Z"
   },
   {
    "duration": 16,
    "start_time": "2024-06-13T02:11:03.420Z"
   },
   {
    "duration": 33,
    "start_time": "2024-06-13T02:11:03.438Z"
   },
   {
    "duration": 17,
    "start_time": "2024-06-13T02:11:03.473Z"
   },
   {
    "duration": 15,
    "start_time": "2024-06-13T02:11:03.492Z"
   },
   {
    "duration": 8,
    "start_time": "2024-06-13T02:11:03.508Z"
   },
   {
    "duration": 15,
    "start_time": "2024-06-13T02:11:03.518Z"
   },
   {
    "duration": 381,
    "start_time": "2024-06-13T02:11:03.534Z"
   },
   {
    "duration": 10,
    "start_time": "2024-06-13T02:11:03.917Z"
   },
   {
    "duration": 9,
    "start_time": "2024-06-13T02:11:03.929Z"
   },
   {
    "duration": 372,
    "start_time": "2024-06-13T02:11:03.962Z"
   },
   {
    "duration": 10,
    "start_time": "2024-06-13T02:11:04.335Z"
   },
   {
    "duration": 97,
    "start_time": "2024-06-13T02:11:04.347Z"
   },
   {
    "duration": 13,
    "start_time": "2024-06-13T02:11:04.446Z"
   },
   {
    "duration": 24,
    "start_time": "2024-06-13T02:11:04.461Z"
   },
   {
    "duration": 9,
    "start_time": "2024-06-13T02:11:04.487Z"
   },
   {
    "duration": 16,
    "start_time": "2024-06-13T02:11:04.497Z"
   },
   {
    "duration": 12,
    "start_time": "2024-06-13T02:11:04.515Z"
   },
   {
    "duration": 5,
    "start_time": "2024-06-13T02:11:04.529Z"
   },
   {
    "duration": 7,
    "start_time": "2024-06-13T02:11:04.536Z"
   },
   {
    "duration": 9,
    "start_time": "2024-06-13T02:11:04.545Z"
   },
   {
    "duration": 63,
    "start_time": "2024-06-13T02:11:04.556Z"
   },
   {
    "duration": 2277,
    "start_time": "2024-06-13T02:11:04.621Z"
   },
   {
    "duration": 276,
    "start_time": "2024-06-13T02:11:06.900Z"
   },
   {
    "duration": 6,
    "start_time": "2024-06-13T02:13:38.238Z"
   },
   {
    "duration": 5,
    "start_time": "2024-06-13T02:13:40.099Z"
   },
   {
    "duration": 6,
    "start_time": "2024-06-13T02:13:41.821Z"
   },
   {
    "duration": 46,
    "start_time": "2024-06-13T02:13:50.153Z"
   },
   {
    "duration": 2121,
    "start_time": "2024-06-13T02:13:51.839Z"
   },
   {
    "duration": 267,
    "start_time": "2024-06-13T02:13:54.157Z"
   },
   {
    "duration": 3,
    "start_time": "2024-06-13T02:15:21.761Z"
   },
   {
    "duration": 62,
    "start_time": "2024-06-13T02:15:21.766Z"
   },
   {
    "duration": 24,
    "start_time": "2024-06-13T02:15:21.830Z"
   },
   {
    "duration": 20,
    "start_time": "2024-06-13T02:15:21.856Z"
   },
   {
    "duration": 12,
    "start_time": "2024-06-13T02:15:21.879Z"
   },
   {
    "duration": 20,
    "start_time": "2024-06-13T02:15:21.893Z"
   },
   {
    "duration": 13,
    "start_time": "2024-06-13T02:15:21.915Z"
   },
   {
    "duration": 11,
    "start_time": "2024-06-13T02:15:21.930Z"
   },
   {
    "duration": 7,
    "start_time": "2024-06-13T02:15:21.942Z"
   },
   {
    "duration": 16,
    "start_time": "2024-06-13T02:15:21.950Z"
   },
   {
    "duration": 16,
    "start_time": "2024-06-13T02:15:21.968Z"
   },
   {
    "duration": 18,
    "start_time": "2024-06-13T02:15:21.987Z"
   },
   {
    "duration": 11,
    "start_time": "2024-06-13T02:15:22.007Z"
   },
   {
    "duration": 43,
    "start_time": "2024-06-13T02:15:22.020Z"
   },
   {
    "duration": 49,
    "start_time": "2024-06-13T02:15:22.064Z"
   },
   {
    "duration": 13,
    "start_time": "2024-06-13T02:15:22.115Z"
   },
   {
    "duration": 188,
    "start_time": "2024-06-13T02:15:22.130Z"
   },
   {
    "duration": 12,
    "start_time": "2024-06-13T02:15:22.319Z"
   },
   {
    "duration": 163,
    "start_time": "2024-06-13T02:15:22.333Z"
   },
   {
    "duration": 11,
    "start_time": "2024-06-13T02:15:22.498Z"
   },
   {
    "duration": 15,
    "start_time": "2024-06-13T02:15:22.511Z"
   },
   {
    "duration": 176,
    "start_time": "2024-06-13T02:15:22.527Z"
   },
   {
    "duration": 110,
    "start_time": "2024-06-13T02:15:22.704Z"
   },
   {
    "duration": 9,
    "start_time": "2024-06-13T02:15:22.815Z"
   },
   {
    "duration": 509,
    "start_time": "2024-06-13T02:15:22.826Z"
   },
   {
    "duration": 131,
    "start_time": "2024-06-13T02:15:23.336Z"
   },
   {
    "duration": 8,
    "start_time": "2024-06-13T02:15:23.469Z"
   },
   {
    "duration": 270,
    "start_time": "2024-06-13T02:15:23.479Z"
   },
   {
    "duration": 13,
    "start_time": "2024-06-13T02:15:23.750Z"
   },
   {
    "duration": 132,
    "start_time": "2024-06-13T02:15:23.765Z"
   },
   {
    "duration": 30,
    "start_time": "2024-06-13T02:15:23.898Z"
   },
   {
    "duration": 5,
    "start_time": "2024-06-13T02:15:23.931Z"
   },
   {
    "duration": 26,
    "start_time": "2024-06-13T02:15:23.937Z"
   },
   {
    "duration": 29,
    "start_time": "2024-06-13T02:15:23.965Z"
   },
   {
    "duration": 18,
    "start_time": "2024-06-13T02:15:23.996Z"
   },
   {
    "duration": 15,
    "start_time": "2024-06-13T02:15:24.015Z"
   },
   {
    "duration": 8,
    "start_time": "2024-06-13T02:15:24.032Z"
   },
   {
    "duration": 10,
    "start_time": "2024-06-13T02:15:24.061Z"
   },
   {
    "duration": 336,
    "start_time": "2024-06-13T02:15:24.073Z"
   },
   {
    "duration": 9,
    "start_time": "2024-06-13T02:15:24.411Z"
   },
   {
    "duration": 38,
    "start_time": "2024-06-13T02:15:24.422Z"
   },
   {
    "duration": 362,
    "start_time": "2024-06-13T02:15:24.462Z"
   },
   {
    "duration": 9,
    "start_time": "2024-06-13T02:15:24.826Z"
   },
   {
    "duration": 61,
    "start_time": "2024-06-13T02:15:24.837Z"
   },
   {
    "duration": 13,
    "start_time": "2024-06-13T02:15:24.900Z"
   },
   {
    "duration": 10,
    "start_time": "2024-06-13T02:15:24.914Z"
   },
   {
    "duration": 4,
    "start_time": "2024-06-13T02:15:24.925Z"
   },
   {
    "duration": 30,
    "start_time": "2024-06-13T02:15:24.931Z"
   },
   {
    "duration": 7,
    "start_time": "2024-06-13T02:15:24.963Z"
   },
   {
    "duration": 4,
    "start_time": "2024-06-13T02:15:24.972Z"
   },
   {
    "duration": 8,
    "start_time": "2024-06-13T02:15:24.978Z"
   },
   {
    "duration": 5,
    "start_time": "2024-06-13T02:15:24.988Z"
   },
   {
    "duration": 195,
    "start_time": "2024-06-13T02:15:24.995Z"
   },
   {
    "duration": 2042,
    "start_time": "2024-06-13T02:15:25.192Z"
   },
   {
    "duration": 270,
    "start_time": "2024-06-13T02:15:27.236Z"
   },
   {
    "duration": 4,
    "start_time": "2024-06-13T12:30:01.774Z"
   },
   {
    "duration": 50,
    "start_time": "2024-06-13T12:30:10.034Z"
   },
   {
    "duration": 33,
    "start_time": "2024-06-13T12:30:12.982Z"
   },
   {
    "duration": 89,
    "start_time": "2024-06-13T12:30:15.586Z"
   },
   {
    "duration": 14,
    "start_time": "2024-06-13T12:30:17.986Z"
   },
   {
    "duration": 12,
    "start_time": "2024-06-13T12:30:20.407Z"
   },
   {
    "duration": 11,
    "start_time": "2024-06-13T12:30:22.820Z"
   },
   {
    "duration": 10,
    "start_time": "2024-06-13T12:30:25.609Z"
   },
   {
    "duration": 8,
    "start_time": "2024-06-13T12:30:28.218Z"
   },
   {
    "duration": 5,
    "start_time": "2024-06-13T12:30:29.056Z"
   },
   {
    "duration": 7,
    "start_time": "2024-06-13T12:30:46.069Z"
   },
   {
    "duration": 16,
    "start_time": "2024-06-13T12:30:49.837Z"
   },
   {
    "duration": 16,
    "start_time": "2024-06-13T12:30:56.926Z"
   },
   {
    "duration": 54,
    "start_time": "2024-06-13T12:31:20.153Z"
   },
   {
    "duration": 12,
    "start_time": "2024-06-13T12:31:29.817Z"
   },
   {
    "duration": 4,
    "start_time": "2024-06-13T12:31:39.131Z"
   },
   {
    "duration": 13,
    "start_time": "2024-06-13T12:31:52.679Z"
   },
   {
    "duration": 14,
    "start_time": "2024-06-13T12:32:04.884Z"
   },
   {
    "duration": 213,
    "start_time": "2024-06-13T12:32:06.876Z"
   },
   {
    "duration": 12,
    "start_time": "2024-06-13T12:32:12.238Z"
   },
   {
    "duration": 160,
    "start_time": "2024-06-13T12:32:13.836Z"
   },
   {
    "duration": 14,
    "start_time": "2024-06-13T12:32:42.489Z"
   },
   {
    "duration": 8,
    "start_time": "2024-06-13T12:32:42.658Z"
   },
   {
    "duration": 173,
    "start_time": "2024-06-13T12:32:44.256Z"
   },
   {
    "duration": 109,
    "start_time": "2024-06-13T12:32:48.199Z"
   },
   {
    "duration": 10,
    "start_time": "2024-06-13T12:33:10.888Z"
   },
   {
    "duration": 338,
    "start_time": "2024-06-13T12:33:11.124Z"
   },
   {
    "duration": 144,
    "start_time": "2024-06-13T12:33:24.690Z"
   },
   {
    "duration": 10,
    "start_time": "2024-06-13T12:33:43.339Z"
   },
   {
    "duration": 277,
    "start_time": "2024-06-13T12:33:44.620Z"
   },
   {
    "duration": 8,
    "start_time": "2024-06-13T12:33:51.336Z"
   },
   {
    "duration": 225,
    "start_time": "2024-06-13T12:33:54.371Z"
   },
   {
    "duration": 33,
    "start_time": "2024-06-13T12:34:09.691Z"
   },
   {
    "duration": 6,
    "start_time": "2024-06-13T12:34:17.005Z"
   },
   {
    "duration": 3,
    "start_time": "2024-06-13T12:34:18.417Z"
   },
   {
    "duration": 12,
    "start_time": "2024-06-13T12:34:21.019Z"
   },
   {
    "duration": 18,
    "start_time": "2024-06-13T12:34:24.720Z"
   },
   {
    "duration": 18,
    "start_time": "2024-06-13T12:34:27.178Z"
   },
   {
    "duration": 10,
    "start_time": "2024-06-13T12:34:30.857Z"
   },
   {
    "duration": 10,
    "start_time": "2024-06-13T12:34:33.289Z"
   },
   {
    "duration": 352,
    "start_time": "2024-06-13T12:34:35.558Z"
   },
   {
    "duration": 8,
    "start_time": "2024-06-13T12:34:51.398Z"
   },
   {
    "duration": 11,
    "start_time": "2024-06-13T12:34:54.765Z"
   },
   {
    "duration": 356,
    "start_time": "2024-06-13T12:34:57.370Z"
   },
   {
    "duration": 10,
    "start_time": "2024-06-13T12:35:12.120Z"
   },
   {
    "duration": 44,
    "start_time": "2024-06-13T12:35:17.198Z"
   },
   {
    "duration": 16,
    "start_time": "2024-06-13T12:35:21.219Z"
   },
   {
    "duration": 10,
    "start_time": "2024-06-13T12:35:28.935Z"
   },
   {
    "duration": 4,
    "start_time": "2024-06-13T12:35:35.525Z"
   },
   {
    "duration": 5,
    "start_time": "2024-06-13T12:37:08.057Z"
   },
   {
    "duration": 5,
    "start_time": "2024-06-13T12:37:10.367Z"
   },
   {
    "duration": 6,
    "start_time": "2024-06-13T12:37:12.655Z"
   },
   {
    "duration": 52,
    "start_time": "2024-06-13T12:37:34.880Z"
   },
   {
    "duration": 2103,
    "start_time": "2024-06-13T12:37:43.882Z"
   },
   {
    "duration": 231,
    "start_time": "2024-06-13T12:37:53.618Z"
   },
   {
    "duration": 41,
    "start_time": "2024-06-19T17:28:36.524Z"
   },
   {
    "duration": 938,
    "start_time": "2024-06-19T17:28:51.637Z"
   },
   {
    "duration": 161,
    "start_time": "2024-06-19T17:28:52.577Z"
   },
   {
    "duration": 69,
    "start_time": "2024-06-19T17:28:52.739Z"
   },
   {
    "duration": 66,
    "start_time": "2024-06-19T17:28:52.809Z"
   },
   {
    "duration": 9,
    "start_time": "2024-06-19T17:28:52.877Z"
   },
   {
    "duration": 8,
    "start_time": "2024-06-19T17:28:52.887Z"
   },
   {
    "duration": 7,
    "start_time": "2024-06-19T17:28:52.896Z"
   },
   {
    "duration": 20,
    "start_time": "2024-06-19T17:28:52.904Z"
   },
   {
    "duration": 15,
    "start_time": "2024-06-19T17:28:52.925Z"
   },
   {
    "duration": 4,
    "start_time": "2024-06-19T17:28:52.941Z"
   },
   {
    "duration": 7,
    "start_time": "2024-06-19T17:28:52.946Z"
   },
   {
    "duration": 11,
    "start_time": "2024-06-19T17:28:52.954Z"
   },
   {
    "duration": 5,
    "start_time": "2024-06-19T17:28:52.967Z"
   },
   {
    "duration": 3,
    "start_time": "2024-06-19T17:28:52.974Z"
   },
   {
    "duration": 9,
    "start_time": "2024-06-19T17:28:52.984Z"
   },
   {
    "duration": 10,
    "start_time": "2024-06-19T17:28:52.994Z"
   },
   {
    "duration": 176,
    "start_time": "2024-06-19T17:28:53.005Z"
   },
   {
    "duration": 9,
    "start_time": "2024-06-19T17:28:53.183Z"
   },
   {
    "duration": 119,
    "start_time": "2024-06-19T17:28:53.194Z"
   },
   {
    "duration": 9,
    "start_time": "2024-06-19T17:28:53.315Z"
   },
   {
    "duration": 17,
    "start_time": "2024-06-19T17:28:53.325Z"
   },
   {
    "duration": 147,
    "start_time": "2024-06-19T17:28:53.343Z"
   },
   {
    "duration": 78,
    "start_time": "2024-06-19T17:28:53.491Z"
   },
   {
    "duration": 8,
    "start_time": "2024-06-19T17:28:53.583Z"
   },
   {
    "duration": 217,
    "start_time": "2024-06-19T17:28:53.592Z"
   },
   {
    "duration": 97,
    "start_time": "2024-06-19T17:28:53.810Z"
   },
   {
    "duration": 7,
    "start_time": "2024-06-19T17:28:53.908Z"
   },
   {
    "duration": 194,
    "start_time": "2024-06-19T17:28:53.916Z"
   },
   {
    "duration": 5,
    "start_time": "2024-06-19T17:28:54.111Z"
   },
   {
    "duration": 151,
    "start_time": "2024-06-19T17:28:54.117Z"
   },
   {
    "duration": 26,
    "start_time": "2024-06-19T17:28:54.269Z"
   },
   {
    "duration": 3,
    "start_time": "2024-06-19T17:28:54.297Z"
   },
   {
    "duration": 5,
    "start_time": "2024-06-19T17:28:54.301Z"
   },
   {
    "duration": 11,
    "start_time": "2024-06-19T17:28:54.307Z"
   },
   {
    "duration": 15,
    "start_time": "2024-06-19T17:28:54.319Z"
   },
   {
    "duration": 10,
    "start_time": "2024-06-19T17:28:54.335Z"
   },
   {
    "duration": 6,
    "start_time": "2024-06-19T17:28:54.347Z"
   },
   {
    "duration": 30,
    "start_time": "2024-06-19T17:28:54.354Z"
   },
   {
    "duration": 242,
    "start_time": "2024-06-19T17:28:54.385Z"
   },
   {
    "duration": 6,
    "start_time": "2024-06-19T17:28:54.628Z"
   },
   {
    "duration": 5,
    "start_time": "2024-06-19T17:28:54.637Z"
   },
   {
    "duration": 290,
    "start_time": "2024-06-19T17:28:54.643Z"
   },
   {
    "duration": 7,
    "start_time": "2024-06-19T17:28:54.934Z"
   },
   {
    "duration": 46,
    "start_time": "2024-06-19T17:28:54.943Z"
   },
   {
    "duration": 10,
    "start_time": "2024-06-19T17:28:54.990Z"
   },
   {
    "duration": 6,
    "start_time": "2024-06-19T17:28:55.001Z"
   },
   {
    "duration": 2,
    "start_time": "2024-06-19T17:28:55.009Z"
   },
   {
    "duration": 6,
    "start_time": "2024-06-19T17:28:55.012Z"
   },
   {
    "duration": 33,
    "start_time": "2024-06-19T17:28:55.019Z"
   },
   {
    "duration": 4,
    "start_time": "2024-06-19T17:28:55.053Z"
   },
   {
    "duration": 5,
    "start_time": "2024-06-19T17:28:55.058Z"
   },
   {
    "duration": 6,
    "start_time": "2024-06-19T17:28:55.064Z"
   },
   {
    "duration": 47,
    "start_time": "2024-06-19T17:28:55.071Z"
   },
   {
    "duration": 1472,
    "start_time": "2024-06-19T17:28:55.119Z"
   },
   {
    "duration": 227,
    "start_time": "2024-06-19T17:28:56.592Z"
   }
  ],
  "kernelspec": {
   "display_name": "Python 3 (ipykernel)",
   "language": "python",
   "name": "python3"
  },
  "language_info": {
   "codemirror_mode": {
    "name": "ipython",
    "version": 3
   },
   "file_extension": ".py",
   "mimetype": "text/x-python",
   "name": "python",
   "nbconvert_exporter": "python",
   "pygments_lexer": "ipython3",
   "version": "3.9.13"
  },
  "toc": {
   "base_numbering": 1,
   "nav_menu": {},
   "number_sections": true,
   "sideBar": true,
   "skip_h1_title": true,
   "title_cell": "Table of Contents",
   "title_sidebar": "Contents",
   "toc_cell": false,
   "toc_position": {
    "height": "calc(100% - 180px)",
    "left": "10px",
    "top": "150px",
    "width": "165px"
   },
   "toc_section_display": true,
   "toc_window_display": false
  }
 },
 "nbformat": 4,
 "nbformat_minor": 5
}
